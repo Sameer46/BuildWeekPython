{
 "cells": [
  {
   "cell_type": "markdown",
   "id": "b9006b51-c6d8-4412-bb58-6a2514d8ab10",
   "metadata": {},
   "source": [
    "### Superga categorie donna\n",
    "* infradito - fatto Vincenzo\n",
    "* ciabatte - Giuseppe\n",
    "* scarpe basse -Tommaso\n",
    "* stivaletti - Stefan\n",
    "* plattaform (zeppe superga) - Fabrizio<br>\n",
    "**ATTENZIONE** seleziona primavere/estate <br><br>\n",
    "da valute anche uomo "
   ]
  },
  {
   "cell_type": "markdown",
   "id": "dc436480-f582-4510-a817-74cd6711f660",
   "metadata": {},
   "source": [
    "### Kammi categorie donna\n",
    "* sandali bassi (ciabatte ed infradito superga) - Sammer\n",
    "* sneakers - Enzo\n",
    "* stivaletti - Stefan\n",
    "* zeppe (plattaform kammi) - Enzo <br><br>\n",
    "da valute anche uomo "
   ]
  },
  {
   "cell_type": "markdown",
   "id": "9408ef34-f901-4bcb-9d6e-7580d66ffb37",
   "metadata": {},
   "source": [
    "### Attributi\n",
    "* Nome\n",
    "* prezzo intero\n",
    "* prezzo scontanto\n",
    "* categoria (vedi elenchi)\n",
    "* Colore ***da pagina prodotto!!!***\n",
    "* Taglia ***da pagina prodotto!!!***"
   ]
  },
  {
   "cell_type": "markdown",
   "id": "517d2ed7-a87d-4973-af3f-11f84f8495a0",
   "metadata": {},
   "source": [
    "### Condivisione\n",
    "* notepad jupiter\n",
    "* csv"
   ]
  },
  {
   "cell_type": "markdown",
   "id": "1ac39a49-7ca4-4b48-b4c5-bb76f29a8ec0",
   "metadata": {},
   "source": [
    "### Presenze\n",
    "* Enzo 5 su 5\n",
    "* Sammer 5 su 5?\n",
    "* Fabbrizio non c'è mar mer\n",
    "* Tommaso non c'è gio\n",
    "* Stefan non c'è mer\n",
    "* Giuseppe non c'è mar"
   ]
  },
  {
   "cell_type": "markdown",
   "id": "645187c8-1008-492d-87c5-a2d7c1e687f9",
   "metadata": {},
   "source": [
    "### Domande di Enzo a fine sessione di lunedì...\n",
    "* abbiamo previsto tutte le domande del progetto?"
   ]
  },
  {
   "cell_type": "code",
   "execution_count": null,
   "id": "c45dbfa7-9b77-41f9-bd6c-6f37b0dc76b2",
   "metadata": {},
   "outputs": [],
   "source": []
  }
 ],
 "metadata": {
  "kernelspec": {
   "display_name": "Python 3 (ipykernel)",
   "language": "python",
   "name": "python3"
  },
  "language_info": {
   "codemirror_mode": {
    "name": "ipython",
    "version": 3
   },
   "file_extension": ".py",
   "mimetype": "text/x-python",
   "name": "python",
   "nbconvert_exporter": "python",
   "pygments_lexer": "ipython3",
   "version": "3.12.7"
  }
 },
 "nbformat": 4,
 "nbformat_minor": 5
}

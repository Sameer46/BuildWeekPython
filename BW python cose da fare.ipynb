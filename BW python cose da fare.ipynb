{
 "cells": [
  {
   "cell_type": "markdown",
   "id": "b9006b51-c6d8-4412-bb58-6a2514d8ab10",
   "metadata": {},
   "source": [
    "### Superga categorie donna\n",
    "|Tipologia|Assegnazione|Status|\n",
    "|:---:|:---|:---:|\n",
    "infradito| Vincenzo | da recuperare\n",
    " ciabatte | Giuseppe | *fatto*\n",
    " scarpe basse | Tommaso|*FATTO*\n",
    " stivaletti | Stefan | *fatto*\n",
    " plattaform (zeppe superga) | **da assegnare**\n",
    "</p>\n",
    "<b>ATTENZIONE</b> seleziona primavere/estate <br><br>\n",
    "da valute anche uomo "
   ]
  },
  {
   "cell_type": "markdown",
   "id": "dc436480-f582-4510-a817-74cd6711f660",
   "metadata": {},
   "source": [
    "### Kammi categorie donna\n",
    "|Tipologia|Assegnazione|Status|\n",
    "|:---:|:---|:---|\n",
    " sandali bassi (ciabatte ed infradito superga) | Sammer\n",
    " sneakers | Enzo\n",
    " stivaletti | Stefan | *fatto*\n",
    " zeppe (plattaform kammi) | Enzo\n",
    "</p>\n",
    "da valute anche uomo "
   ]
  },
  {
   "cell_type": "markdown",
   "id": "9408ef34-f901-4bcb-9d6e-7580d66ffb37",
   "metadata": {},
   "source": [
    "### Attributi\n",
    "Nome|Info\n",
    ":---:|:---:\n",
    "nome\n",
    "descrizione | serve perchè alcuni nomi sono identici, cambiano solo gli inserti\n",
    "prezzo intero\n",
    " prezzo scontanto\n",
    " tipologia (vedi elenchi)\n",
    " sottotipologia | ***da lettura traccia!!!***\n",
    " colore | ***da pagina prodotto!!!***\n",
    " taglia | ***da pagina prodotto!!!***"
   ]
  },
  {
   "cell_type": "markdown",
   "id": "517d2ed7-a87d-4973-af3f-11f84f8495a0",
   "metadata": {},
   "source": [
    "### Condivisione\n",
    "* notepad jupiter\n",
    "* csv"
   ]
  },
  {
   "cell_type": "markdown",
   "id": "1ac39a49-7ca4-4b48-b4c5-bb76f29a8ec0",
   "metadata": {},
   "source": [
    "### Presenze\n",
    "* Enzo 5 su 5\n",
    "* Sammer 5 su 5?\n",
    "* Fabbrizio non c'è mar mer\n",
    "* Tommaso non c'è gio\n",
    "* Stefan non c'è mer\n",
    "* Giuseppe non c'è mar"
   ]
  },
  {
   "cell_type": "markdown",
   "id": "645187c8-1008-492d-87c5-a2d7c1e687f9",
   "metadata": {},
   "source": [
    "### Domande di Enzo a fine sessione di lunedì...\n",
    "* abbiamo previsto tutte le domande del progetto?"
   ]
  },
  {
   "cell_type": "markdown",
   "id": "0f196d15-b333-4115-93c8-9ef245b532e5",
   "metadata": {},
   "source": [
    "### Analisi traccia progetto\n",
    "Dobbiamo analizzare almeno 2 brands quello del committente ed almeno un competitor. <br>\n",
    "**Importante** Non si fa accenno a nessuna suddivisione per generi.\n",
    "Testo | cose da fare ^_^ \n",
    ":--:|:--:\n",
    "\"riguarda le collezioni estive, focalizzandosi principalmente sui prezzi e sulle tipologie di calzature offerti\" | collezione estiva - prezzi - tipologie\n",
    "\"dettagliate sui prezzi\" | prezzi interi - prezzi scontati\n",
    "\"dettagliare l'analisi alle sottotipologie\" | tipologia - sottotipologia\n",
    "\"il numero di modelli offerti per tipologia, e le differenze di prezzo relative a tipologie e, se disponibili, sottotipologie, considerando medie, massimi, minimi.\" | **per analisi** numero - tipologia - sottotipologia - diff. prezzi - medie - max - min\n",
    "\"identificare la posizione dei punti vendita propri e dei competitor su territorio nazionale\"| punti vendita - regione - provincia \n",
    "\"suggerire le aree di espansione, divise per quelle dove c'è già la presenza di competitor e quelle non ancora coperte.\"| **per analisi** punti vendita per zona\n",
    "\"Come bonus, il CEO apprezzerebbe anche di fare una analisi sulla varietà dell'offerta riguardo taglie e/o colore\"| **unico bonus, quindi il resto è obbligatorio!** taglie - colore\n",
    "\"evidenziando le principali conclusioni e raccomandazioni per il brand team\"| **per analisi** Conclusioni da definire e scrivere chiaramente\n",
    "\"preferendo sempre di veicolare i risultati tramite grafici\"| **per analisi** tanti grafici come ha suggerito Vincenzo, vale per i 10 minuti di presentazione"
   ]
  },
  {
   "cell_type": "code",
   "execution_count": null,
   "id": "eccd4172-c528-4c01-a77b-dde53e73c462",
   "metadata": {},
   "outputs": [],
   "source": []
  }
 ],
 "metadata": {
  "kernelspec": {
   "display_name": "Python 3 (ipykernel)",
   "language": "python",
   "name": "python3"
  },
  "language_info": {
   "codemirror_mode": {
    "name": "ipython",
    "version": 3
   },
   "file_extension": ".py",
   "mimetype": "text/x-python",
   "name": "python",
   "nbconvert_exporter": "python",
   "pygments_lexer": "ipython3",
   "version": "3.12.7"
  }
 },
 "nbformat": 4,
 "nbformat_minor": 5
}

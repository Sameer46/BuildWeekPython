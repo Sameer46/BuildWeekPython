{
 "cells": [
  {
   "cell_type": "code",
   "execution_count": 2,
   "id": "c8b6690a-0960-4532-b708-59ab6cdea2b0",
   "metadata": {},
   "outputs": [],
   "source": [
    "# import selenium ed altro\n",
    "from selenium.webdriver import Chrome\n",
    "from selenium.webdriver.chrome.service import Service\n",
    "from webdriver_manager.chrome import ChromeDriverManager\n",
    "# importo anche beautiful soup\n",
    "import bs4\n",
    "import time #per lo scroll"
   ]
  },
  {
   "cell_type": "code",
   "execution_count": 3,
   "id": "46ea2e3b-212a-40c0-b3dc-65111188ada4",
   "metadata": {},
   "outputs": [
    {
     "name": "stdout",
     "output_type": "stream",
     "text": [
      "https://www.kammi.it/scarpe-donna/sneakers/\n"
     ]
    }
   ],
   "source": [
    "url_donna = \"https://www.kammi.it/scarpe-donna/\"\n",
    "url_d_sneakers = \"sneakers/\" #se non uso questo pezzo di url posso \n",
    "url = url_donna + url_d_sneakers\n",
    "print(url)"
   ]
  },
  {
   "cell_type": "code",
   "execution_count": 4,
   "id": "67a40f26-883b-4701-8fab-29f3d3237e64",
   "metadata": {},
   "outputs": [],
   "source": [
    "# Scrolla la pagina lentamente fino in fondo\n",
    "def scroll_to_bottom(driver, pause_time=2):\n",
    "    last_height = driver.execute_script(\"return document.body.scrollHeight\")\n",
    "    while True:\n",
    "        # Scrolla in fondo\n",
    "        driver.execute_script(\"window.scrollTo(0, document.body.scrollHeight);\")\n",
    "        time.sleep(pause_time)  # Aspetta che la pagina carichi nuovi contenuti\n",
    "        # Calcola la nuova altezza e confrontala\n",
    "        new_height = driver.execute_script(\"return document.body.scrollHeight\")\n",
    "        if new_height == last_height:\n",
    "            break\n",
    "        last_height = new_height"
   ]
  },
  {
   "cell_type": "code",
   "execution_count": 5,
   "id": "dc383b5b-97f4-4d3a-81fb-dee4954b2173",
   "metadata": {},
   "outputs": [],
   "source": [
    "chrome_driver = ChromeDriverManager().install() # il software che userà il driver sotto per usare Chrome\n",
    "driver = Chrome(service = Service(chrome_driver)) # è il \"pilota\" che fa le azioni sul browser  \n",
    "# driver.maximize_window() # apre e massimizza Chrome\n",
    "driver.get(url) # apre la pagina su Chrome"
   ]
  },
  {
   "cell_type": "code",
   "execution_count": 6,
   "id": "b8afa667-9404-4f74-b788-ab7e5f055e35",
   "metadata": {},
   "outputs": [],
   "source": [
    "# Scrolla fino in fondo per caricare tutti i prodotti\n",
    "scroll_to_bottom(driver)"
   ]
  },
  {
   "cell_type": "code",
   "execution_count": 7,
   "id": "c416ff9a-03b8-4aa0-b634-6f257928b68d",
   "metadata": {},
   "outputs": [],
   "source": [
    "soup = bs4.BeautifulSoup(driver.page_source)"
   ]
  },
  {
   "cell_type": "code",
   "execution_count": 8,
   "id": "98de2700-d8d4-4ea7-b6b3-2c29baf1222a",
   "metadata": {},
   "outputs": [],
   "source": [
    "# driver.quit() # chiude la pagina IMPORTANTE commenta la riga se no quando cerchi nelle altre pagine da errore"
   ]
  },
  {
   "cell_type": "code",
   "execution_count": 9,
   "id": "2b1c5939-ad0e-4524-bedd-ede129cf8388",
   "metadata": {},
   "outputs": [],
   "source": [
    "# print(soup)"
   ]
  },
  {
   "cell_type": "code",
   "execution_count": 10,
   "id": "f35fe45b-8cf5-4df0-aee8-9fdabc3de8b8",
   "metadata": {},
   "outputs": [],
   "source": [
    "# cerco i nomi dei prodotti\n",
    "names_dirty = soup.find_all(\"p\", class_=\"product-title\")\n",
    "# print(nomi_dirty)"
   ]
  },
  {
   "cell_type": "code",
   "execution_count": 11,
   "id": "ae7c1917-ac4c-4553-95cc-d3de35714636",
   "metadata": {},
   "outputs": [
    {
     "data": {
      "text/plain": [
       "22"
      ]
     },
     "execution_count": 11,
     "metadata": {},
     "output_type": "execute_result"
    }
   ],
   "source": [
    "len(names_dirty)"
   ]
  },
  {
   "cell_type": "code",
   "execution_count": 12,
   "id": "c20236c0-a037-4283-b7e8-448b9055a731",
   "metadata": {},
   "outputs": [
    {
     "name": "stdout",
     "output_type": "stream",
     "text": [
      "[<p class=\"product-title\">Sneakers 82066</p>, <p class=\"product-title\">Sneakers 82066</p>, <p class=\"product-title\">Sneaker Marina</p>, <p class=\"product-title\">Sneaker Marina</p>, <p class=\"product-title\">Sneaker Nina</p>, <p class=\"product-title\">Sneakers 8100</p>, <p class=\"product-title\">Sneakers 8100</p>, <p class=\"product-title\">Sneakers 2651 cat</p>, <p class=\"product-title\">Sneakers 2651 cat</p>, <p class=\"product-title\">Sneakers 23039</p>, <p class=\"product-title\">Sneakers 23039</p>, <p class=\"product-title\">Sneakers 2651 cat</p>, <p class=\"product-title\">Sneakers 2651 cat</p>, <p class=\"product-title\">Sneakers 23036</p>, <p class=\"product-title\">Sneakers 23222</p>, <p class=\"product-title\">Sneakers 23037</p>, <p class=\"product-title\">Sneakers 9040</p>, <p class=\"product-title\">Sneakers 9040</p>, <p class=\"product-title\">Sneakers 23180</p>, <p class=\"product-title\">Sneakers 9040</p>, <p class=\"product-title\">Sneakers 23180</p>, <p class=\"product-title\">Sneakers 23180</p>]\n"
     ]
    }
   ],
   "source": [
    "print(names_dirty)"
   ]
  },
  {
   "cell_type": "code",
   "execution_count": 13,
   "id": "7b3beb85-813b-48ab-b5dd-94e7b478bb7f",
   "metadata": {},
   "outputs": [
    {
     "name": "stdout",
     "output_type": "stream",
     "text": [
      "['Sneakers 82066', 'Sneakers 82066', 'Sneaker Marina', 'Sneaker Marina', 'Sneaker Nina', 'Sneakers 8100', 'Sneakers 8100', 'Sneakers 2651 cat', 'Sneakers 2651 cat', 'Sneakers 23039', 'Sneakers 23039', 'Sneakers 2651 cat', 'Sneakers 2651 cat', 'Sneakers 23036', 'Sneakers 23222', 'Sneakers 23037', 'Sneakers 9040', 'Sneakers 9040', 'Sneakers 23180', 'Sneakers 9040', 'Sneakers 23180', 'Sneakers 23180']\n"
     ]
    }
   ],
   "source": [
    "nomi_prodotti_home = []\n",
    "for nome in names_dirty:\n",
    "    nome = nome.text.strip()\n",
    "    nomi_prodotti_home.append(nome)\n",
    "print(nomi_prodotti_home)"
   ]
  },
  {
   "cell_type": "code",
   "execution_count": 14,
   "id": "7ff95680-e8d2-4c29-88af-d7fcc854d3a7",
   "metadata": {},
   "outputs": [
    {
     "data": {
      "text/plain": [
       "22"
      ]
     },
     "execution_count": 14,
     "metadata": {},
     "output_type": "execute_result"
    }
   ],
   "source": [
    "len(nomi_prodotti_home)"
   ]
  },
  {
   "cell_type": "code",
   "execution_count": 15,
   "id": "caf25f4b-bf71-4de7-9c0b-54f851a3a1b1",
   "metadata": {},
   "outputs": [
    {
     "name": "stdout",
     "output_type": "stream",
     "text": [
      "22\n"
     ]
    }
   ],
   "source": [
    "# cerco i link dei prodotti\n",
    "div_link = soup.find_all (\"div\", class_=\"col-6 col-md-4 col-lg-3 col-xl-auto mt-4\")\n",
    "print(len(div_link))"
   ]
  },
  {
   "cell_type": "code",
   "execution_count": 16,
   "id": "a10570a9-c0dc-4e34-953e-535aaa3935c8",
   "metadata": {},
   "outputs": [
    {
     "data": {
      "text/plain": [
       "<a href=\"https://www.kammi.it/scarpe-donna/sneakers/sneakers-82066-idp21551.html\" onclick=\"return productClick('elenco_prodotti_sneakers-82066_00005542001', 0, this);\">\n",
       "<!-- VARIABILI PER GTM -->\n",
       "<input class=\"codiceProdottoGTM\" type=\"hidden\" value=\"sneakers-82066_00005542001\"/>\n",
       "<input class=\"titoloGTM\" type=\"hidden\" value=\"Sneakers 82066\"/>\n",
       "<input class=\"prezzoGTM\" type=\"hidden\" value=\"105.00\"/>\n",
       "<input class=\"categoriaGTM\" type=\"hidden\" value=\"Sneakers\"/>\n",
       "<input class=\"brandGTM\" type=\"hidden\" value=\"Kammi\"/>\n",
       "<input class=\"listaGTM\" type=\"hidden\" value=\"Scarpe da donna estive - Sneakers\"/>\n",
       "<div class=\"product-image d-flex align-items-center justify-content-center\">\n",
       "<img alt=\"Sneakers 82066\" class=\"img-fluid\" src=\"https://www.kammi.it/ImmaginiProdottiP/sneakers-82066_22329_277x277.jpg\"/>\n",
       "<img alt=\"Sneakers 82066\" class=\"img-fluid img-2\" src=\"https://www.kammi.it/ImmaginiProdottiP/sneakers-82066_22330_277x277.jpg\"/>\n",
       "</div>\n",
       "<div class=\"product-body p-3\">\n",
       "<p class=\"product-title\">Sneakers 82066</p>\n",
       "<p class=\"product-description\">Sneakers in pelle bianca con inserti verde menta. \n",
       "\n",
       "marchio:Wave</p>\n",
       "<p class=\"product-price\"><s></s></p>\n",
       "<p class=\"product-price\">105,00 €</p>\n",
       "</div>\n",
       "</a>"
      ]
     },
     "execution_count": 16,
     "metadata": {},
     "output_type": "execute_result"
    }
   ],
   "source": [
    "div_link[0].find(\"a\")"
   ]
  },
  {
   "cell_type": "code",
   "execution_count": 17,
   "id": "2efb5cc0-f57c-4f3c-b0ba-8eb410cb9293",
   "metadata": {},
   "outputs": [
    {
     "name": "stdout",
     "output_type": "stream",
     "text": [
      "22\n"
     ]
    }
   ],
   "source": [
    "a_link = []\n",
    "for i in div_link:\n",
    "    a = i.find(\"a\")\n",
    "    a_link.append(a)\n",
    "print(len(a_link))\n",
    "# a_link[0]"
   ]
  },
  {
   "cell_type": "code",
   "execution_count": 18,
   "id": "d573c0da-e5d3-488c-b213-fee76d910a21",
   "metadata": {},
   "outputs": [
    {
     "data": {
      "text/plain": [
       "'https://www.kammi.it/scarpe-donna/sneakers/sneakers-82066-idp21551.html'"
      ]
     },
     "execution_count": 18,
     "metadata": {},
     "output_type": "execute_result"
    }
   ],
   "source": [
    "a_link[0].get(\"href\")"
   ]
  },
  {
   "cell_type": "code",
   "execution_count": 19,
   "id": "2abf9717-fe2f-4e71-9fe5-5ac2af85eabc",
   "metadata": {},
   "outputs": [
    {
     "name": "stdout",
     "output_type": "stream",
     "text": [
      "22\n",
      "['https://www.kammi.it/scarpe-donna/sneakers/sneakers-82066-idp21551.html', 'https://www.kammi.it/scarpe-donna/sneakers/sneakers-82066-idp21550.html', 'https://www.kammi.it/scarpe-donna/sneakers/sneaker-marina-idp21537.html', 'https://www.kammi.it/scarpe-donna/sneakers/sneaker-marina-idp21536.html', 'https://www.kammi.it/scarpe-donna/sneakers/sneaker-nina-idp21526.html', 'https://www.kammi.it/scarpe-donna/sneakers/sneakers-8100-idp21549.html', 'https://www.kammi.it/scarpe-donna/sneakers/sneakers-8100-idp21548.html', 'https://www.kammi.it/scarpe-donna/sneakers/sneakers-2651-cat-idp21090.html', 'https://www.kammi.it/scarpe-donna/sneakers/sneakers-2651-cat-idp21089.html', 'https://www.kammi.it/scarpe-donna/sneakers/sneakers-23039-idp20903.html', 'https://www.kammi.it/scarpe-donna/sneakers/sneakers-23039-idp20899.html', 'https://www.kammi.it/scarpe-donna/sneakers/sneakers-2651-cat-idp20534.html', 'https://www.kammi.it/scarpe-donna/sneakers/sneakers-2651-cat-idp20533.html', 'https://www.kammi.it/scarpe-donna/sneakers/sneakers-23036-idp21395.html', 'https://www.kammi.it/scarpe-donna/sneakers/sneakers-23222-idp21383.html', 'https://www.kammi.it/scarpe-donna/sneakers/sneakers-23037-idp20898.html', 'https://www.kammi.it/scarpe-donna/sneakers/sneakers-9040-idp20866.html', 'https://www.kammi.it/scarpe-donna/sneakers/sneakers-9040-idp20865.html', 'https://www.kammi.it/scarpe-donna/sneakers/sneakers-23180-idp20477.html', 'https://www.kammi.it/scarpe-donna/sneakers/sneakers-9040-idp20462.html', 'https://www.kammi.it/scarpe-donna/sneakers/sneakers-23180-idp20460.html', 'https://www.kammi.it/scarpe-donna/sneakers/sneakers-23180-idp20459.html']\n"
     ]
    }
   ],
   "source": [
    "link_prodotti =[]\n",
    "for i in a_link:\n",
    "    link = i.get(\"href\")\n",
    "    link_prodotti.append(link)\n",
    "print(len(link_prodotti))\n",
    "print(link_prodotti)"
   ]
  },
  {
   "cell_type": "markdown",
   "id": "cec8de46-8aaf-42e9-b500-45a515074033",
   "metadata": {},
   "source": [
    "## Da qui in poi lavoro sulla singola pagina del prodotto"
   ]
  },
  {
   "cell_type": "code",
   "execution_count": 21,
   "id": "671ce4b8-f96c-4626-953a-b48899d89037",
   "metadata": {},
   "outputs": [],
   "source": [
    "import requests"
   ]
  },
  {
   "cell_type": "code",
   "execution_count": 22,
   "id": "c340c557-3eb3-4b0d-a644-22e77d17596a",
   "metadata": {},
   "outputs": [
    {
     "name": "stdout",
     "output_type": "stream",
     "text": [
      "https://www.kammi.it/scarpe-donna/sneakers/sneakers-82066-idp21551.html\n"
     ]
    }
   ],
   "source": [
    "url_prodotto = link_prodotti[0]\n",
    "print(url_prodotto)"
   ]
  },
  {
   "cell_type": "code",
   "execution_count": 23,
   "id": "8e27e918-aa7b-4f23-ad9b-17726883e9f8",
   "metadata": {},
   "outputs": [],
   "source": [
    "req = requests.get(url_prodotto)"
   ]
  },
  {
   "cell_type": "code",
   "execution_count": 24,
   "id": "73225c07-5417-4b6a-84be-ece2df449132",
   "metadata": {},
   "outputs": [
    {
     "name": "stdout",
     "output_type": "stream",
     "text": [
      "ok\n"
     ]
    }
   ],
   "source": [
    "# Verifica il codice di risposta\n",
    "if req.status_code == 200:\n",
    "    print(\"ok\")\n",
    "else:\n",
    "    print(f\"Errore: {response.status_code}\") "
   ]
  },
  {
   "cell_type": "code",
   "execution_count": 25,
   "id": "f616a4e0-ae64-46e9-926e-bdd6f80a1a74",
   "metadata": {},
   "outputs": [
    {
     "name": "stdout",
     "output_type": "stream",
     "text": [
      "<Response [200]>\n"
     ]
    }
   ],
   "source": [
    "print(req)"
   ]
  },
  {
   "cell_type": "code",
   "execution_count": 26,
   "id": "a4588866-7cbb-49f3-9cf3-525104f07ee3",
   "metadata": {},
   "outputs": [],
   "source": [
    "soup_p = bs4.BeautifulSoup(req.text)"
   ]
  },
  {
   "cell_type": "code",
   "execution_count": 110,
   "id": "78d0b26c-8009-43f8-8b83-09d2f098d139",
   "metadata": {},
   "outputs": [
    {
     "data": {
      "text/plain": [
       "[<button class=\"content d-flex align-items-center justify-content-center p-2 checkRitiroPP\" type=\"button\">35</button>,\n",
       " <button class=\"content d-flex align-items-center justify-content-center p-2 checkRitiroPP\" type=\"button\">36</button>,\n",
       " <button class=\"content d-flex align-items-center justify-content-center p-2 checkRitiroPP\" type=\"button\">37</button>,\n",
       " <button class=\"content d-flex align-items-center justify-content-center p-2 checkRitiroPP\" type=\"button\">38</button>,\n",
       " <button class=\"content d-flex align-items-center justify-content-center p-2 checkRitiroPP\" type=\"button\">40</button>,\n",
       " <button class=\"content d-flex align-items-center justify-content-center p-2 checkRitiroPP\" type=\"button\">41</button>]"
      ]
     },
     "execution_count": 110,
     "metadata": {},
     "output_type": "execute_result"
    }
   ],
   "source": [
    "# cerco diverse cose del prodotto\n",
    "#soup_p.find_all(\"h1\", class_=\"text-black h4 fw-bold\")\n",
    "# soup_p.find_all(\"p\", class_=\"mt-4\")\n",
    "# soup_p.find_all(\"p\", class_=\"price mt-2\")\n",
    "soup_p.find_all(\"button\", class_=\"content d-flex align-items-center justify-content-center p-2 checkRitiroPP\")\n",
    "#soup_p.find_all(\"div\", class_=\"option-color\")"
   ]
  },
  {
   "cell_type": "code",
   "execution_count": 106,
   "id": "0467dd14-a01e-47e7-bc0b-29fa06d9fd97",
   "metadata": {},
   "outputs": [
    {
     "name": "stdout",
     "output_type": "stream",
     "text": [
      "https://www.kammi.it/scarpe-donna/sneakers/sneakers-82066-idp21551.html 1 / 22\n",
      "Sneakers 82066\n",
      "https://www.kammi.it/scarpe-donna/sneakers/sneakers-82066-idp21550.html 2 / 22\n",
      "Sneakers 82066\n",
      "https://www.kammi.it/scarpe-donna/sneakers/sneaker-marina-idp21537.html 3 / 22\n",
      "Sneaker Marina\n",
      "https://www.kammi.it/scarpe-donna/sneakers/sneaker-marina-idp21536.html 4 / 22\n",
      "Sneaker Marina\n",
      "https://www.kammi.it/scarpe-donna/sneakers/sneaker-nina-idp21526.html 5 / 22\n",
      "Sneaker Nina\n",
      "https://www.kammi.it/scarpe-donna/sneakers/sneakers-8100-idp21549.html 6 / 22\n",
      "Sneakers 8100\n",
      "https://www.kammi.it/scarpe-donna/sneakers/sneakers-8100-idp21548.html 7 / 22\n",
      "Sneakers 8100\n",
      "https://www.kammi.it/scarpe-donna/sneakers/sneakers-2651-cat-idp21090.html 8 / 22\n",
      "Sneakers 2651 cat\n",
      "https://www.kammi.it/scarpe-donna/sneakers/sneakers-2651-cat-idp21089.html 9 / 22\n",
      "Sneakers 2651 cat\n",
      "https://www.kammi.it/scarpe-donna/sneakers/sneakers-23039-idp20903.html 10 / 22\n",
      "Sneakers 23039\n",
      "https://www.kammi.it/scarpe-donna/sneakers/sneakers-23039-idp20899.html 11 / 22\n",
      "Sneakers 23039\n",
      "https://www.kammi.it/scarpe-donna/sneakers/sneakers-2651-cat-idp20534.html 12 / 22\n",
      "Sneakers 2651 cat\n",
      "https://www.kammi.it/scarpe-donna/sneakers/sneakers-2651-cat-idp20533.html 13 / 22\n",
      "Sneakers 2651 cat\n",
      "https://www.kammi.it/scarpe-donna/sneakers/sneakers-23036-idp21395.html 14 / 22\n",
      "Sneakers 23036\n",
      "https://www.kammi.it/scarpe-donna/sneakers/sneakers-23222-idp21383.html 15 / 22\n",
      "Sneakers 23222\n",
      "https://www.kammi.it/scarpe-donna/sneakers/sneakers-23037-idp20898.html 16 / 22\n",
      "Sneakers 23037\n",
      "https://www.kammi.it/scarpe-donna/sneakers/sneakers-9040-idp20866.html 17 / 22\n",
      "Sneakers 9040\n",
      "https://www.kammi.it/scarpe-donna/sneakers/sneakers-9040-idp20865.html 18 / 22\n",
      "Sneakers 9040\n",
      "https://www.kammi.it/scarpe-donna/sneakers/sneakers-23180-idp20477.html 19 / 22\n",
      "Sneakers 23180\n",
      "https://www.kammi.it/scarpe-donna/sneakers/sneakers-9040-idp20462.html 20 / 22\n",
      "Sneakers 9040\n",
      "https://www.kammi.it/scarpe-donna/sneakers/sneakers-23180-idp20460.html 21 / 22\n",
      "Sneakers 23180\n",
      "https://www.kammi.it/scarpe-donna/sneakers/sneakers-23180-idp20459.html 22 / 22\n",
      "Sneakers 23180\n",
      "22\n",
      "['Sneakers 82066', 'Sneakers 82066', 'Sneaker Marina', 'Sneaker Marina', 'Sneaker Nina', 'Sneakers 8100', 'Sneakers 8100', 'Sneakers 2651 cat', 'Sneakers 2651 cat', 'Sneakers 23039', 'Sneakers 23039', 'Sneakers 2651 cat', 'Sneakers 2651 cat', 'Sneakers 23036', 'Sneakers 23222', 'Sneakers 23037', 'Sneakers 9040', 'Sneakers 9040', 'Sneakers 23180', 'Sneakers 9040', 'Sneakers 23180', 'Sneakers 23180']\n",
      "22\n",
      "['bianca con inserti verde menta', 'bianca con inserti laminato argento', 'bianca con tallonetta in glitter rame', 'bianca con tallonetta in glitter rame', 'bianca, saetta  e glitter platino, tallonetta glitter platino e fondo effetto sporcato', 'bianca forata con tallonetta in crosta fuxia e fondo platform', 'bianca forata con tallonetta in crosta blu e fondo platform', 'color oro effetto intrecciato con catena oro e fondo 3 cm', 'color cuoio effetto intrecciato con catena oro e fondo 3 cm', 'nera con tallonetta color platino e accessorio a forma di ape', 'bianca con tallonetta color platino e accessorio a forma di ape', 'color latte effetto intrecciato con catena oro e fondo 3 cm', 'bianca effetto intrecciato con catena oro e fondo 3 cm', 'cielo liscia, con linguetta posteriore e  elastico sul bordo', 'bianca con tallonetta laminata platino, fondo 3 cm e accessori a forma di ape, scarabeo e mosca', 'effetto intrecciato color sabbia', 'cielo forata', 'beige forata', 'nera effetto squame', 'bianca forata', 'latte effetto squame', 'mattone effetto squame']\n",
      "22\n",
      "['105.00', '105.00', '109.00', '109.00', '109.00', '95.00', '95.00', '109.00', '109.00', '89.90', '89.90', '109.00', '109.00', '79.90', '99.90', '79.90', '79.90', '79.90', '89.90', '79.90', '89.90', '89.90']\n",
      "22\n",
      "[['36', '39'], ['36', '37', '39', '40'], ['35', '39', '41'], ['35', '37'], ['35', '36', '37', '38', '39', '41'], ['36', '37', '39', '40'], ['36', '37', '38', '39', '40', '41'], ['35', '36', '37', '38', '41'], ['35', '36', '38', '39', '40'], ['36', '37', '38', '39', '40', '41'], ['35', '36'], ['35', '36', '37', '38', '39', '40'], ['38', '39'], ['36', '39', '40', '41'], ['36'], ['37', '38', '39'], ['35', '36', '37', '38', '39', '41'], ['36', '37'], ['36'], ['36', '38'], ['36', '38'], ['35', '36', '37', '38', '40', '41']]\n",
      "22\n",
      "[['d6d0da', '026f38'], ['d6d0da', '026f38'], ['CD7F32', 'eec4ab'], ['CD7F32', 'eec4ab'], [], ['FFFFFF', '1f2839', 'e80980'], ['FFFFFF', '1f2839', 'e80980'], ['FFFFFF', 'e4a677', '786153', 'CD7F32'], ['FFFFFF', 'e4a677', '786153', 'CD7F32'], ['000000', 'FFFFFF'], ['000000', 'FFFFFF'], ['FFFFFF', 'e4a677', '786153', 'CD7F32'], ['FFFFFF', 'e4a677', '786153', 'CD7F32'], [], [], [], ['FFFFFF', 'e4a677', '09cfda'], ['FFFFFF', 'e4a677', '09cfda'], ['ac8e83', 'e4a677', '000000'], ['FFFFFF', 'e4a677', '09cfda'], ['ac8e83', 'e4a677', '000000'], ['ac8e83', 'e4a677', '000000']]\n"
     ]
    }
   ],
   "source": [
    "contatore = 1 \n",
    "totale = len(link_prodotti)\n",
    "nomi = []\n",
    "descrizioni = []\n",
    "prezzi_interi = []\n",
    "taglie = []\n",
    "colori = []\n",
    "\n",
    "for link in link_prodotti:\n",
    "    print(link, str(contatore) + \" / \" + str(totale))\n",
    "    contatore += 1\n",
    "    req = requests.get(link)\n",
    "    soup_p = bs4.BeautifulSoup(req.text)\n",
    "    \n",
    "    # cerco e pulisco i nomi sulla singola pagina\n",
    "    \n",
    "    nome = soup_p.find(\"h1\", class_=\"text-black h4 fw-bold\")\n",
    "    nome = nome.text.strip()\n",
    "    print(nome)\n",
    "    nomi.append(nome)\n",
    "\n",
    "    # cerco e pulisco le descrizioni\n",
    "\n",
    "    descrizione = soup_p.find(\"p\", class_=\"mt-4\")\n",
    "    descrizione = descrizione.text\n",
    "    descrizione = descrizione.replace(\"\\n\", \"\")\n",
    "    # Trova la posizione della parola \"in\" e del primo \".\"\n",
    "    start = descrizione.find(\"in\")  # Trova \"in\"\n",
    "    end = descrizione.find(\".\") if descrizione.find(\".\") != -1 else len(descrizione) # Trova il primo \".\" oppure trova la lunghezza della stringa\n",
    "    # Estrai e pulisci\n",
    "    if start != -1 and end != -1:  # Verifica che entrambi gli indici siano validi\n",
    "        descrizione = descrizione[start:end].strip()  # Estrai e rimuovi spazi extra\n",
    "    descrizione = descrizione.replace(\"in pelle\", \"\")\n",
    "    descrizione = descrizione.replace(\"in nappa\", \"\")\n",
    "    descrizione = descrizione.strip() \n",
    "    #print(descrizione)\n",
    "    descrizioni.append(descrizione)\n",
    "\n",
    "    # cerco e pulisco il prezzo intero\n",
    "\n",
    "    intero = soup_p.find(\"p\", class_=\"price mt-2\")\n",
    "    intero = intero.text\n",
    "    intero = intero.replace(\"€\", \"\")\n",
    "    intero = intero.replace(\",\", \".\").strip()\n",
    "    #print(intero)\n",
    "    prezzi_interi.append(intero)\n",
    "\n",
    "    # cerco e pulisco i colori\n",
    "\n",
    "    colori_p = soup_p.find_all(\"div\", class_=\"option-color\")\n",
    "    colori_temp = []\n",
    "    #print(colori_p)\n",
    "    for colore in colori_p:\n",
    "    # Trova il div annidato che contiene lo stile\n",
    "        div = colore.find(\"div\", attrs={\"style\": True})  # Cerca un div con l'attributo \"style\"\n",
    "        if div and \"style\" in div.attrs:  # Assicurati che l'attributo \"style\" sia presente\n",
    "            style = div[\"style\"]  # Accedi al valore dell'attributo \"style\"\n",
    "            # Estrai il valore esadecimale dopo \"background:#\"\n",
    "            start = style.find(\"background:#\") + len(\"background:#\")\n",
    "            end = style.find(\";\", start)\n",
    "            if start != -1 and end != -1:  # Controlla che gli indici siano validi\n",
    "                codice = style[start:end].strip()\n",
    "                colori_temp.append(codice)\n",
    "    colori.append(colori_temp)\n",
    "    #print(colori_temp)\n",
    "    \n",
    "    # cerco e pulisco le taglie\n",
    "\n",
    "    taglie_p = soup_p.find_all(\"button\", class_=\"content d-flex align-items-center justify-content-center p-2 checkRitiroPP\")\n",
    "    taglie_temp = []\n",
    "    for i in taglie_p:\n",
    "        t = i.text.strip()\n",
    "        #print(t)\n",
    "        taglie_temp.append(t)\n",
    "    taglie.append(taglie_temp)\n",
    "    #print(taglie_temp)\n",
    "\n",
    "print(len(nomi))\n",
    "print(nomi)\n",
    "print(len(descrizioni))\n",
    "print(descrizioni)\n",
    "print(len(prezzi_interi))\n",
    "print(prezzi_interi)\n",
    "print(len(taglie))\n",
    "print(taglie)\n",
    "print(len(colori))\n",
    "print(colori)"
   ]
  },
  {
   "cell_type": "code",
   "execution_count": 98,
   "id": "684e6572-c0d3-4adf-92e9-e32e7d6ead32",
   "metadata": {},
   "outputs": [],
   "source": [
    "sneakers = { \"nomi\" : nomi , \"descrizioni\" : descrizioni , \"prezzi_interi\" : prezzi_interi , \"taglie_disponibili\" : taglie , \"colori_disponibili\" : colori }"
   ]
  },
  {
   "cell_type": "code",
   "execution_count": 100,
   "id": "bfa3a930-80ac-4501-97b1-cdccca66a112",
   "metadata": {},
   "outputs": [],
   "source": [
    "import pandas as pd"
   ]
  },
  {
   "cell_type": "code",
   "execution_count": 102,
   "id": "56452a4c-588f-4050-865a-32538e5dd78f",
   "metadata": {},
   "outputs": [],
   "source": [
    "kammi_estive_donne_sneakers = pd.DataFrame(sneakers)"
   ]
  },
  {
   "cell_type": "code",
   "execution_count": 104,
   "id": "786fef39-e6d8-4e66-b2b7-e013de8f5e09",
   "metadata": {},
   "outputs": [
    {
     "data": {
      "text/html": [
       "<div>\n",
       "<style scoped>\n",
       "    .dataframe tbody tr th:only-of-type {\n",
       "        vertical-align: middle;\n",
       "    }\n",
       "\n",
       "    .dataframe tbody tr th {\n",
       "        vertical-align: top;\n",
       "    }\n",
       "\n",
       "    .dataframe thead th {\n",
       "        text-align: right;\n",
       "    }\n",
       "</style>\n",
       "<table border=\"1\" class=\"dataframe\">\n",
       "  <thead>\n",
       "    <tr style=\"text-align: right;\">\n",
       "      <th></th>\n",
       "      <th>nomi</th>\n",
       "      <th>descrizioni</th>\n",
       "      <th>prezzi_interi</th>\n",
       "      <th>taglie_disponibili</th>\n",
       "      <th>colori_disponibili</th>\n",
       "    </tr>\n",
       "  </thead>\n",
       "  <tbody>\n",
       "    <tr>\n",
       "      <th>0</th>\n",
       "      <td>Sneakers 82066</td>\n",
       "      <td>bianca con inserti verde menta</td>\n",
       "      <td>105.00</td>\n",
       "      <td>[36, 39]</td>\n",
       "      <td>[d6d0da, 026f38]</td>\n",
       "    </tr>\n",
       "    <tr>\n",
       "      <th>1</th>\n",
       "      <td>Sneakers 82066</td>\n",
       "      <td>bianca con inserti laminato argento</td>\n",
       "      <td>105.00</td>\n",
       "      <td>[36, 37, 39, 40]</td>\n",
       "      <td>[d6d0da, 026f38]</td>\n",
       "    </tr>\n",
       "    <tr>\n",
       "      <th>2</th>\n",
       "      <td>Sneaker Marina</td>\n",
       "      <td>bianca con tallonetta in glitter rame</td>\n",
       "      <td>109.00</td>\n",
       "      <td>[35, 39, 41]</td>\n",
       "      <td>[CD7F32, eec4ab]</td>\n",
       "    </tr>\n",
       "    <tr>\n",
       "      <th>3</th>\n",
       "      <td>Sneaker Marina</td>\n",
       "      <td>bianca con tallonetta in glitter rame</td>\n",
       "      <td>109.00</td>\n",
       "      <td>[35, 37]</td>\n",
       "      <td>[CD7F32, eec4ab]</td>\n",
       "    </tr>\n",
       "    <tr>\n",
       "      <th>4</th>\n",
       "      <td>Sneaker Nina</td>\n",
       "      <td>bianca, saetta  e glitter platino, tallonetta ...</td>\n",
       "      <td>109.00</td>\n",
       "      <td>[35, 36, 37, 38, 39, 41]</td>\n",
       "      <td>[]</td>\n",
       "    </tr>\n",
       "    <tr>\n",
       "      <th>5</th>\n",
       "      <td>Sneakers 8100</td>\n",
       "      <td>in nappa bianca forata con tallonetta in crost...</td>\n",
       "      <td>95.00</td>\n",
       "      <td>[36, 37, 39, 40]</td>\n",
       "      <td>[FFFFFF, 1f2839, e80980]</td>\n",
       "    </tr>\n",
       "    <tr>\n",
       "      <th>6</th>\n",
       "      <td>Sneakers 8100</td>\n",
       "      <td>in nappa bianca forata con tallonetta in crost...</td>\n",
       "      <td>95.00</td>\n",
       "      <td>[36, 37, 38, 39, 40, 41]</td>\n",
       "      <td>[FFFFFF, 1f2839, e80980]</td>\n",
       "    </tr>\n",
       "    <tr>\n",
       "      <th>7</th>\n",
       "      <td>Sneakers 2651 cat</td>\n",
       "      <td>color oro effetto intrecciato con catena oro e...</td>\n",
       "      <td>109.00</td>\n",
       "      <td>[35, 36, 37, 38, 41]</td>\n",
       "      <td>[FFFFFF, e4a677, 786153, CD7F32]</td>\n",
       "    </tr>\n",
       "    <tr>\n",
       "      <th>8</th>\n",
       "      <td>Sneakers 2651 cat</td>\n",
       "      <td>color cuoio effetto intrecciato con catena oro...</td>\n",
       "      <td>109.00</td>\n",
       "      <td>[35, 36, 38, 39, 40]</td>\n",
       "      <td>[FFFFFF, e4a677, 786153, CD7F32]</td>\n",
       "    </tr>\n",
       "    <tr>\n",
       "      <th>9</th>\n",
       "      <td>Sneakers 23039</td>\n",
       "      <td>nera con tallonetta color platino e accessorio...</td>\n",
       "      <td>89.90</td>\n",
       "      <td>[36, 37, 38, 39, 40, 41]</td>\n",
       "      <td>[000000, FFFFFF]</td>\n",
       "    </tr>\n",
       "    <tr>\n",
       "      <th>10</th>\n",
       "      <td>Sneakers 23039</td>\n",
       "      <td>bianca con tallonetta color platino e accessor...</td>\n",
       "      <td>89.90</td>\n",
       "      <td>[35, 36]</td>\n",
       "      <td>[000000, FFFFFF]</td>\n",
       "    </tr>\n",
       "    <tr>\n",
       "      <th>11</th>\n",
       "      <td>Sneakers 2651 cat</td>\n",
       "      <td>color latte effetto intrecciato con catena oro...</td>\n",
       "      <td>109.00</td>\n",
       "      <td>[35, 36, 37, 38, 39, 40]</td>\n",
       "      <td>[FFFFFF, e4a677, 786153, CD7F32]</td>\n",
       "    </tr>\n",
       "    <tr>\n",
       "      <th>12</th>\n",
       "      <td>Sneakers 2651 cat</td>\n",
       "      <td>bianca effetto intrecciato con catena oro e fo...</td>\n",
       "      <td>109.00</td>\n",
       "      <td>[38, 39]</td>\n",
       "      <td>[FFFFFF, e4a677, 786153, CD7F32]</td>\n",
       "    </tr>\n",
       "    <tr>\n",
       "      <th>13</th>\n",
       "      <td>Sneakers 23036</td>\n",
       "      <td>cielo liscia, con linguetta posteriore e  elas...</td>\n",
       "      <td>79.90</td>\n",
       "      <td>[36, 39, 40, 41]</td>\n",
       "      <td>[]</td>\n",
       "    </tr>\n",
       "    <tr>\n",
       "      <th>14</th>\n",
       "      <td>Sneakers 23222</td>\n",
       "      <td>bianca con tallonetta laminata platino, fondo ...</td>\n",
       "      <td>99.90</td>\n",
       "      <td>[36]</td>\n",
       "      <td>[]</td>\n",
       "    </tr>\n",
       "    <tr>\n",
       "      <th>15</th>\n",
       "      <td>Sneakers 23037</td>\n",
       "      <td>effetto intrecciato color sabbia</td>\n",
       "      <td>79.90</td>\n",
       "      <td>[37, 38, 39]</td>\n",
       "      <td>[]</td>\n",
       "    </tr>\n",
       "    <tr>\n",
       "      <th>16</th>\n",
       "      <td>Sneakers 9040</td>\n",
       "      <td>cielo forata</td>\n",
       "      <td>79.90</td>\n",
       "      <td>[35, 36, 37, 38, 39, 41]</td>\n",
       "      <td>[FFFFFF, e4a677, 09cfda]</td>\n",
       "    </tr>\n",
       "    <tr>\n",
       "      <th>17</th>\n",
       "      <td>Sneakers 9040</td>\n",
       "      <td>beige forata</td>\n",
       "      <td>79.90</td>\n",
       "      <td>[36, 37]</td>\n",
       "      <td>[FFFFFF, e4a677, 09cfda]</td>\n",
       "    </tr>\n",
       "    <tr>\n",
       "      <th>18</th>\n",
       "      <td>Sneakers 23180</td>\n",
       "      <td>nera effetto squame</td>\n",
       "      <td>89.90</td>\n",
       "      <td>[36]</td>\n",
       "      <td>[ac8e83, e4a677, 000000]</td>\n",
       "    </tr>\n",
       "    <tr>\n",
       "      <th>19</th>\n",
       "      <td>Sneakers 9040</td>\n",
       "      <td>bianca forata</td>\n",
       "      <td>79.90</td>\n",
       "      <td>[36, 38]</td>\n",
       "      <td>[FFFFFF, e4a677, 09cfda]</td>\n",
       "    </tr>\n",
       "    <tr>\n",
       "      <th>20</th>\n",
       "      <td>Sneakers 23180</td>\n",
       "      <td>latte effetto squame</td>\n",
       "      <td>89.90</td>\n",
       "      <td>[36, 38]</td>\n",
       "      <td>[ac8e83, e4a677, 000000]</td>\n",
       "    </tr>\n",
       "    <tr>\n",
       "      <th>21</th>\n",
       "      <td>Sneakers 23180</td>\n",
       "      <td>mattone effetto squame</td>\n",
       "      <td>89.90</td>\n",
       "      <td>[35, 36, 37, 38, 40, 41]</td>\n",
       "      <td>[ac8e83, e4a677, 000000]</td>\n",
       "    </tr>\n",
       "  </tbody>\n",
       "</table>\n",
       "</div>"
      ],
      "text/plain": [
       "                 nomi                                        descrizioni  \\\n",
       "0      Sneakers 82066                     bianca con inserti verde menta   \n",
       "1      Sneakers 82066                bianca con inserti laminato argento   \n",
       "2      Sneaker Marina              bianca con tallonetta in glitter rame   \n",
       "3      Sneaker Marina              bianca con tallonetta in glitter rame   \n",
       "4        Sneaker Nina  bianca, saetta  e glitter platino, tallonetta ...   \n",
       "5       Sneakers 8100  in nappa bianca forata con tallonetta in crost...   \n",
       "6       Sneakers 8100  in nappa bianca forata con tallonetta in crost...   \n",
       "7   Sneakers 2651 cat  color oro effetto intrecciato con catena oro e...   \n",
       "8   Sneakers 2651 cat  color cuoio effetto intrecciato con catena oro...   \n",
       "9      Sneakers 23039  nera con tallonetta color platino e accessorio...   \n",
       "10     Sneakers 23039  bianca con tallonetta color platino e accessor...   \n",
       "11  Sneakers 2651 cat  color latte effetto intrecciato con catena oro...   \n",
       "12  Sneakers 2651 cat  bianca effetto intrecciato con catena oro e fo...   \n",
       "13     Sneakers 23036  cielo liscia, con linguetta posteriore e  elas...   \n",
       "14     Sneakers 23222  bianca con tallonetta laminata platino, fondo ...   \n",
       "15     Sneakers 23037                   effetto intrecciato color sabbia   \n",
       "16      Sneakers 9040                                       cielo forata   \n",
       "17      Sneakers 9040                                       beige forata   \n",
       "18     Sneakers 23180                                nera effetto squame   \n",
       "19      Sneakers 9040                                      bianca forata   \n",
       "20     Sneakers 23180                               latte effetto squame   \n",
       "21     Sneakers 23180                             mattone effetto squame   \n",
       "\n",
       "   prezzi_interi        taglie_disponibili                colori_disponibili  \n",
       "0         105.00                  [36, 39]                  [d6d0da, 026f38]  \n",
       "1         105.00          [36, 37, 39, 40]                  [d6d0da, 026f38]  \n",
       "2         109.00              [35, 39, 41]                  [CD7F32, eec4ab]  \n",
       "3         109.00                  [35, 37]                  [CD7F32, eec4ab]  \n",
       "4         109.00  [35, 36, 37, 38, 39, 41]                                []  \n",
       "5          95.00          [36, 37, 39, 40]          [FFFFFF, 1f2839, e80980]  \n",
       "6          95.00  [36, 37, 38, 39, 40, 41]          [FFFFFF, 1f2839, e80980]  \n",
       "7         109.00      [35, 36, 37, 38, 41]  [FFFFFF, e4a677, 786153, CD7F32]  \n",
       "8         109.00      [35, 36, 38, 39, 40]  [FFFFFF, e4a677, 786153, CD7F32]  \n",
       "9          89.90  [36, 37, 38, 39, 40, 41]                  [000000, FFFFFF]  \n",
       "10         89.90                  [35, 36]                  [000000, FFFFFF]  \n",
       "11        109.00  [35, 36, 37, 38, 39, 40]  [FFFFFF, e4a677, 786153, CD7F32]  \n",
       "12        109.00                  [38, 39]  [FFFFFF, e4a677, 786153, CD7F32]  \n",
       "13         79.90          [36, 39, 40, 41]                                []  \n",
       "14         99.90                      [36]                                []  \n",
       "15         79.90              [37, 38, 39]                                []  \n",
       "16         79.90  [35, 36, 37, 38, 39, 41]          [FFFFFF, e4a677, 09cfda]  \n",
       "17         79.90                  [36, 37]          [FFFFFF, e4a677, 09cfda]  \n",
       "18         89.90                      [36]          [ac8e83, e4a677, 000000]  \n",
       "19         79.90                  [36, 38]          [FFFFFF, e4a677, 09cfda]  \n",
       "20         89.90                  [36, 38]          [ac8e83, e4a677, 000000]  \n",
       "21         89.90  [35, 36, 37, 38, 40, 41]          [ac8e83, e4a677, 000000]  "
      ]
     },
     "execution_count": 104,
     "metadata": {},
     "output_type": "execute_result"
    }
   ],
   "source": [
    "kammi_estive_donne_sneakers"
   ]
  },
  {
   "cell_type": "code",
   "execution_count": 112,
   "id": "57c19ae0-228f-4c29-8d6a-657e0f1a775c",
   "metadata": {},
   "outputs": [],
   "source": [
    "kammi_estive_donne_sneakers.to_csv(\"kammi_estive_donne_sneakers.csv\", index=False)"
   ]
  },
  {
   "cell_type": "code",
   "execution_count": null,
   "id": "092900e6-3675-4475-82ba-5eb326f0899c",
   "metadata": {},
   "outputs": [],
   "source": []
  }
 ],
 "metadata": {
  "kernelspec": {
   "display_name": "Python 3 (ipykernel)",
   "language": "python",
   "name": "python3"
  },
  "language_info": {
   "codemirror_mode": {
    "name": "ipython",
    "version": 3
   },
   "file_extension": ".py",
   "mimetype": "text/x-python",
   "name": "python",
   "nbconvert_exporter": "python",
   "pygments_lexer": "ipython3",
   "version": "3.12.7"
  }
 },
 "nbformat": 4,
 "nbformat_minor": 5
}

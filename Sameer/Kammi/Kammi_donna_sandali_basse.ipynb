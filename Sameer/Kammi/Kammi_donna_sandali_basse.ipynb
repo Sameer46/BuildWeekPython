{
 "cells": [
  {
   "cell_type": "code",
   "execution_count": 28,
   "metadata": {},
   "outputs": [],
   "source": [
    "from bs4 import BeautifulSoup\n",
    "import pandas as pd \n",
    "import requests\n",
    "from selenium import webdriver\n",
    "from selenium.webdriver.chrome.service import Service\n",
    "from webdriver_manager.chrome import ChromeDriverManager\n",
    "import time"
   ]
  },
  {
   "cell_type": "code",
   "execution_count": 29,
   "metadata": {},
   "outputs": [
    {
     "name": "stdout",
     "output_type": "stream",
     "text": [
      "https://www.kammi.it/scarpe-donna/sandali-bassi/\n"
     ]
    }
   ],
   "source": [
    "url_donna = \"https://www.kammi.it/scarpe-donna/\"\n",
    "url_d_sneakers = \"sandali-bassi/\" #se non uso questo pezzo di url posso \n",
    "url = url_donna + url_d_sneakers\n",
    "print(url)"
   ]
  },
  {
   "cell_type": "code",
   "execution_count": 30,
   "metadata": {},
   "outputs": [],
   "source": [
    "# Scrolla la pagina lentamente fino in fondo\n",
    "def scroll_to_bottom(driver, pause_time=2):\n",
    "    last_height = driver.execute_script(\"return document.body.scrollHeight\")\n",
    "    while True:\n",
    "        # Scrolla in fondo\n",
    "        driver.execute_script(\"window.scrollTo(0, document.body.scrollHeight);\")\n",
    "        time.sleep(pause_time)  # Aspetta che la pagina carichi nuovi contenuti\n",
    "        # Calcola la nuova altezza e confrontala\n",
    "        new_height = driver.execute_script(\"return document.body.scrollHeight\")\n",
    "        if new_height == last_height:\n",
    "            break\n",
    "        last_height = new_height"
   ]
  },
  {
   "cell_type": "code",
   "execution_count": 31,
   "metadata": {},
   "outputs": [],
   "source": [
    "options = webdriver.ChromeOptions()\n",
    "options.add_argument('--headless')  # Run in headless mode (no UI)\n",
    "driver = webdriver.Chrome(service=Service(ChromeDriverManager().install()), options=options) # è il \"pilota\" che fa le azioni sul browser  \n",
    "# driver.maximize_window() # apre e massimizza Chrome\n",
    "driver.get(url) # apre la pagina su Chrome"
   ]
  },
  {
   "cell_type": "code",
   "execution_count": 32,
   "metadata": {},
   "outputs": [],
   "source": [
    "# Scrolla fino in fondo per caricare tutti i prodotti\n",
    "scroll_to_bottom(driver)"
   ]
  },
  {
   "cell_type": "code",
   "execution_count": 33,
   "metadata": {},
   "outputs": [],
   "source": [
    "soup = BeautifulSoup(driver.page_source)"
   ]
  },
  {
   "cell_type": "code",
   "execution_count": 34,
   "metadata": {},
   "outputs": [],
   "source": [
    "# print(soup)"
   ]
  },
  {
   "cell_type": "code",
   "execution_count": 35,
   "metadata": {},
   "outputs": [],
   "source": [
    "# cerco i nomi dei prodotti\n",
    "names_dirty = soup.find_all(\"p\", class_=\"product-title\")\n",
    "# print(nomi_dirty)"
   ]
  },
  {
   "cell_type": "code",
   "execution_count": 36,
   "metadata": {},
   "outputs": [
    {
     "data": {
      "text/plain": [
       "30"
      ]
     },
     "execution_count": 36,
     "metadata": {},
     "output_type": "execute_result"
    }
   ],
   "source": [
    "len(names_dirty)"
   ]
  },
  {
   "cell_type": "code",
   "execution_count": 37,
   "metadata": {},
   "outputs": [
    {
     "name": "stdout",
     "output_type": "stream",
     "text": [
      "[<p class=\"product-title\">Sandalo 7318</p>, <p class=\"product-title\">Ciabatta 221</p>, <p class=\"product-title\">Sandalo 7285</p>, <p class=\"product-title\">Ciabatta 201</p>, <p class=\"product-title\">Ciabatta 800</p>, <p class=\"product-title\">Ciabatta 800</p>, <p class=\"product-title\">Sandalo 194</p>, <p class=\"product-title\">Sandalo 720-56</p>, <p class=\"product-title\">Ciabatta 271</p>, <p class=\"product-title\">Ciabatta 271</p>, <p class=\"product-title\">Ciabatta new D</p>, <p class=\"product-title\">Ciabatta new D</p>, <p class=\"product-title\">Ciabatta new D</p>, <p class=\"product-title\">Ciabatta infradito 109</p>, <p class=\"product-title\">Ciabatta 407</p>, <p class=\"product-title\">Ciabatta 407</p>, <p class=\"product-title\">Sandalo 137</p>, <p class=\"product-title\">Sandalo 137</p>, <p class=\"product-title\">Sandalo Aktina</p>, <p class=\"product-title\">Sandalo 803</p>, <p class=\"product-title\">Sandalo 803</p>, <p class=\"product-title\">Sandalo 0204</p>, <p class=\"product-title\">Sandalo 0204</p>, <p class=\"product-title\">Ciabatta 271</p>, <p class=\"product-title\">Ciabatta 271</p>, <p class=\"product-title\">Sandalo 7259</p>, <p class=\"product-title\">Sandalo 7254</p>, <p class=\"product-title\">Sandalo 5387</p>, <p class=\"product-title\">Sandalo 6800</p>, <p class=\"product-title\">Sandalo 3800</p>]\n"
     ]
    }
   ],
   "source": [
    "print(names_dirty)"
   ]
  },
  {
   "cell_type": "code",
   "execution_count": 38,
   "metadata": {},
   "outputs": [
    {
     "name": "stdout",
     "output_type": "stream",
     "text": [
      "['Sandalo 7318', 'Ciabatta 221', 'Sandalo 7285', 'Ciabatta 201', 'Ciabatta 800', 'Ciabatta 800', 'Sandalo 194', 'Sandalo 720-56', 'Ciabatta 271', 'Ciabatta 271', 'Ciabatta new D', 'Ciabatta new D', 'Ciabatta new D', 'Ciabatta infradito 109', 'Ciabatta 407', 'Ciabatta 407', 'Sandalo 137', 'Sandalo 137', 'Sandalo Aktina', 'Sandalo 803', 'Sandalo 803', 'Sandalo 0204', 'Sandalo 0204', 'Ciabatta 271', 'Ciabatta 271', 'Sandalo 7259', 'Sandalo 7254', 'Sandalo 5387', 'Sandalo 6800', 'Sandalo 3800']\n"
     ]
    }
   ],
   "source": [
    "nomi_prodotti_home = []\n",
    "for nome in names_dirty:\n",
    "    nome = nome.text.strip()\n",
    "    nomi_prodotti_home.append(nome)\n",
    "print(nomi_prodotti_home)"
   ]
  },
  {
   "cell_type": "code",
   "execution_count": 39,
   "metadata": {},
   "outputs": [
    {
     "data": {
      "text/plain": [
       "30"
      ]
     },
     "execution_count": 39,
     "metadata": {},
     "output_type": "execute_result"
    }
   ],
   "source": [
    "len(nomi_prodotti_home)"
   ]
  },
  {
   "cell_type": "code",
   "execution_count": 40,
   "metadata": {},
   "outputs": [
    {
     "name": "stdout",
     "output_type": "stream",
     "text": [
      "30\n"
     ]
    }
   ],
   "source": [
    "# cerco i link dei prodotti\n",
    "div_link = soup.find_all (\"div\", class_=\"col-6 col-md-4 col-lg-3 col-xl-auto mt-4\")\n",
    "print(len(div_link))"
   ]
  },
  {
   "cell_type": "code",
   "execution_count": 41,
   "metadata": {},
   "outputs": [
    {
     "data": {
      "text/plain": [
       "<a href=\"https://www.kammi.it/scarpe-donna/sandali-bassi/sandalo-7318-idp21644.html\" onclick=\"return productClick('elenco_prodotti_sandalo-7318_00005615001', 0, this);\">\n",
       "<!-- VARIABILI PER GTM -->\n",
       "<input class=\"codiceProdottoGTM\" type=\"hidden\" value=\"sandalo-7318_00005615001\"/>\n",
       "<input class=\"titoloGTM\" type=\"hidden\" value=\"Sandalo 7318\"/>\n",
       "<input class=\"prezzoGTM\" type=\"hidden\" value=\"73.50\"/>\n",
       "<input class=\"categoriaGTM\" type=\"hidden\" value=\"Sandali bassi\"/>\n",
       "<input class=\"brandGTM\" type=\"hidden\" value=\"Kammi\"/>\n",
       "<input class=\"listaGTM\" type=\"hidden\" value=\"Scarpe da donna estive - Sandali bassi\"/>\n",
       "<div class=\"product-image d-flex align-items-center justify-content-center\">\n",
       "<img alt=\"Sandalo 7318\" class=\"img-fluid\" src=\"https://www.kammi.it/ImmaginiProdottiP/sandalo-7318_22789_277x277.jpg\"/>\n",
       "<img alt=\"Sandalo 7318\" class=\"img-fluid img-2\" src=\"https://www.kammi.it/ImmaginiProdottiP/sandalo-7318_22790_277x277.jpg\"/>\n",
       "</div>\n",
       "<div class=\"product-body p-3\">\n",
       "<p class=\"product-title\">Sandalo 7318</p>\n",
       "<p class=\"product-description\">Sandalo oro rosa con cinturini arricchiti da borchie e punti luce, profilo di...</p>\n",
       "<p class=\"product-price\"><s>75,00</s></p>\n",
       "<p class=\"product-price\">73,50 €</p>\n",
       "</div>\n",
       "</a>"
      ]
     },
     "execution_count": 41,
     "metadata": {},
     "output_type": "execute_result"
    }
   ],
   "source": [
    "div_link[0].find(\"a\")"
   ]
  },
  {
   "cell_type": "code",
   "execution_count": 42,
   "metadata": {},
   "outputs": [
    {
     "name": "stdout",
     "output_type": "stream",
     "text": [
      "30\n"
     ]
    }
   ],
   "source": [
    "a_link = []\n",
    "for i in div_link:\n",
    "    a = i.find(\"a\")\n",
    "    a_link.append(a)\n",
    "print(len(a_link))\n",
    "# a_link[0]"
   ]
  },
  {
   "cell_type": "code",
   "execution_count": 43,
   "metadata": {},
   "outputs": [
    {
     "data": {
      "text/plain": [
       "'https://www.kammi.it/scarpe-donna/sandali-bassi/sandalo-7318-idp21644.html'"
      ]
     },
     "execution_count": 43,
     "metadata": {},
     "output_type": "execute_result"
    }
   ],
   "source": [
    "a_link[0].get(\"href\")"
   ]
  },
  {
   "cell_type": "code",
   "execution_count": 44,
   "metadata": {},
   "outputs": [
    {
     "name": "stdout",
     "output_type": "stream",
     "text": [
      "30\n",
      "['https://www.kammi.it/scarpe-donna/sandali-bassi/sandalo-7318-idp21644.html', 'https://www.kammi.it/scarpe-donna/sandali-bassi/ciabatta-221-idp21637.html', 'https://www.kammi.it/scarpe-donna/sandali-bassi/sandalo-7285-idp21635.html', 'https://www.kammi.it/scarpe-donna/sandali-bassi/ciabatta-201-idp21633.html', 'https://www.kammi.it/scarpe-donna/sandali-bassi/ciabatta-800-idp21632.html', 'https://www.kammi.it/scarpe-donna/sandali-bassi/ciabatta-800-idp21631.html', 'https://www.kammi.it/scarpe-donna/sandali-bassi/sandalo-194-idp21629.html', 'https://www.kammi.it/scarpe-donna/sandali-bassi/sandalo-720-56-idp21628.html', 'https://www.kammi.it/scarpe-donna/sandali-bassi/ciabatta-271-idp21626.html', 'https://www.kammi.it/scarpe-donna/sandali-bassi/ciabatta-271-idp21625.html', 'https://www.kammi.it/scarpe-donna/sandali-bassi/ciabatta-new-d-idp21624.html', 'https://www.kammi.it/scarpe-donna/sandali-bassi/ciabatta-new-d-idp21623.html', 'https://www.kammi.it/scarpe-donna/sandali-bassi/ciabatta-new-d-idp21621.html', 'https://www.kammi.it/scarpe-donna/sandali-bassi/ciabatta-infradito-109-idp21614.html', 'https://www.kammi.it/scarpe-donna/sandali-bassi/ciabatta-407-idp21610.html', 'https://www.kammi.it/scarpe-donna/sandali-bassi/ciabatta-407-idp21609.html', 'https://www.kammi.it/scarpe-donna/sandali-bassi/sandalo-137-idp21604.html', 'https://www.kammi.it/scarpe-donna/sandali-bassi/sandalo-137-idp21603.html', 'https://www.kammi.it/scarpe-donna/sandali-bassi/sandalo-aktina-idp21600.html', 'https://www.kammi.it/scarpe-donna/sandali-bassi/sandalo-803-idp21599.html', 'https://www.kammi.it/scarpe-donna/sandali-bassi/sandalo-803-idp21598.html', 'https://www.kammi.it/scarpe-donna/sandali-bassi/sandalo-0204-idp21597.html', 'https://www.kammi.it/scarpe-donna/sandali-bassi/sandalo-0204-idp21596.html', 'https://www.kammi.it/scarpe-donna/sandali-bassi/ciabatta-271-idp21585.html', 'https://www.kammi.it/scarpe-donna/sandali-bassi/ciabatta-271-idp21584.html', 'https://www.kammi.it/scarpe-donna/sandali-bassi/sandalo-7259-idp21583.html', 'https://www.kammi.it/scarpe-donna/sandali-bassi/sandalo-7254-idp21582.html', 'https://www.kammi.it/scarpe-donna/sandali-bassi/sandalo-5387-idp21404.html', 'https://www.kammi.it/scarpe-donna/sandali-bassi/sandalo-6800-idp19705.html', 'https://www.kammi.it/scarpe-donna/sandali-bassi/sandalo-3800-idp19701.html']\n"
     ]
    }
   ],
   "source": [
    "link_prodotti =[]\n",
    "for i in a_link:\n",
    "    link = i.get(\"href\")\n",
    "    link_prodotti.append(link)\n",
    "print(len(link_prodotti))\n",
    "print(link_prodotti)"
   ]
  },
  {
   "cell_type": "code",
   "execution_count": 45,
   "metadata": {},
   "outputs": [
    {
     "name": "stdout",
     "output_type": "stream",
     "text": [
      "https://www.kammi.it/scarpe-donna/sandali-bassi/sandalo-7318-idp21644.html\n"
     ]
    }
   ],
   "source": [
    "url_prodotto = link_prodotti[0]\n",
    "print(url_prodotto)"
   ]
  },
  {
   "cell_type": "code",
   "execution_count": 46,
   "metadata": {},
   "outputs": [],
   "source": [
    "req = requests.get(url_prodotto)"
   ]
  },
  {
   "cell_type": "code",
   "execution_count": 47,
   "metadata": {},
   "outputs": [],
   "source": [
    "soup_p = BeautifulSoup(req.text)"
   ]
  },
  {
   "cell_type": "code",
   "execution_count": 48,
   "metadata": {},
   "outputs": [
    {
     "data": {
      "text/plain": [
       "[<button class=\"content d-flex align-items-center justify-content-center p-2 checkRitiroPP\" type=\"button\">36</button>,\n",
       " <button class=\"content d-flex align-items-center justify-content-center p-2 checkRitiroPP\" type=\"button\">37</button>,\n",
       " <button class=\"content d-flex align-items-center justify-content-center p-2 checkRitiroPP\" type=\"button\">39</button>]"
      ]
     },
     "execution_count": 48,
     "metadata": {},
     "output_type": "execute_result"
    }
   ],
   "source": [
    "# cerco diverse cose del prodotto\n",
    "#soup_p.find_all(\"h1\", class_=\"text-black h4 fw-bold\")\n",
    "# soup_p.find_all(\"p\", class_=\"mt-4\")\n",
    "# soup_p.find_all(\"p\", class_=\"price mt-2\")\n",
    "soup_p.find_all(\"button\", class_=\"content d-flex align-items-center justify-content-center p-2 checkRitiroPP\")\n",
    "#soup_p.find_all(\"div\", class_=\"option-color\")"
   ]
  },
  {
   "cell_type": "code",
   "execution_count": 49,
   "metadata": {},
   "outputs": [
    {
     "name": "stdout",
     "output_type": "stream",
     "text": [
      "https://www.kammi.it/scarpe-donna/sandali-bassi/sandalo-7318-idp21644.html 1 / 30\n",
      "Sandalo 7318\n",
      "[]\n",
      "['36', '37', '39']\n",
      "https://www.kammi.it/scarpe-donna/sandali-bassi/ciabatta-221-idp21637.html 2 / 30\n",
      "Ciabatta 221\n",
      "[]\n",
      "['37', '39', '40']\n",
      "https://www.kammi.it/scarpe-donna/sandali-bassi/sandalo-7285-idp21635.html 3 / 30\n",
      "Sandalo 7285\n",
      "[]\n",
      "['38']\n",
      "https://www.kammi.it/scarpe-donna/sandali-bassi/ciabatta-201-idp21633.html 4 / 30\n",
      "Ciabatta 201\n",
      "[]\n",
      "['36', '37', '38', '39', '40']\n",
      "https://www.kammi.it/scarpe-donna/sandali-bassi/ciabatta-800-idp21632.html 5 / 30\n",
      "Ciabatta 800\n",
      "['d6d0da', 'eec4ab']\n",
      "['36', '38', '39']\n",
      "https://www.kammi.it/scarpe-donna/sandali-bassi/ciabatta-800-idp21631.html 6 / 30\n",
      "Ciabatta 800\n",
      "['d6d0da', 'eec4ab']\n",
      "['36', '37', '38', '39', '40']\n",
      "https://www.kammi.it/scarpe-donna/sandali-bassi/sandalo-194-idp21629.html 7 / 30\n",
      "Sandalo 194\n",
      "[]\n",
      "['36', '37', '38', '40', '41']\n",
      "https://www.kammi.it/scarpe-donna/sandali-bassi/sandalo-720-56-idp21628.html 8 / 30\n",
      "Sandalo 720-56\n",
      "['FFFFFF', '000000', 'f5d7b3']\n",
      "['40']\n",
      "https://www.kammi.it/scarpe-donna/sandali-bassi/ciabatta-271-idp21626.html 9 / 30\n",
      "Ciabatta 271\n",
      "['000000', 'CD7F32', '786153', 'eec4ab']\n",
      "['36', '37']\n",
      "https://www.kammi.it/scarpe-donna/sandali-bassi/ciabatta-271-idp21625.html 10 / 30\n",
      "Ciabatta 271\n",
      "['000000', 'CD7F32', '786153', 'eec4ab']\n",
      "['36', '37', '38', '39', '40', '41']\n",
      "https://www.kammi.it/scarpe-donna/sandali-bassi/ciabatta-new-d-idp21624.html 11 / 30\n",
      "Ciabatta new D\n",
      "['1f2839', 'e80980', 'eec4ab', '026f38', '955ea7']\n",
      "['39', '40']\n",
      "https://www.kammi.it/scarpe-donna/sandali-bassi/ciabatta-new-d-idp21623.html 12 / 30\n",
      "Ciabatta new D\n",
      "['1f2839', 'e80980', 'eec4ab', '026f38', '955ea7']\n",
      "['38']\n",
      "https://www.kammi.it/scarpe-donna/sandali-bassi/ciabatta-new-d-idp21621.html 13 / 30\n",
      "Ciabatta new D\n",
      "['1f2839', 'e80980', 'eec4ab', '026f38', '955ea7']\n",
      "['36', '37']\n",
      "https://www.kammi.it/scarpe-donna/sandali-bassi/ciabatta-infradito-109-idp21614.html 14 / 30\n",
      "Ciabatta infradito 109\n",
      "[]\n",
      "['37', '38', '39', '40']\n",
      "https://www.kammi.it/scarpe-donna/sandali-bassi/ciabatta-407-idp21610.html 15 / 30\n",
      "Ciabatta 407\n",
      "['fed700', '026f38']\n",
      "['37', '39', '40', '41']\n",
      "https://www.kammi.it/scarpe-donna/sandali-bassi/ciabatta-407-idp21609.html 16 / 30\n",
      "Ciabatta 407\n",
      "['fed700', '026f38']\n",
      "['36', '38', '39']\n",
      "https://www.kammi.it/scarpe-donna/sandali-bassi/sandalo-137-idp21604.html 17 / 30\n",
      "Sandalo 137\n",
      "['d6d0da', 'eec4ab']\n",
      "['36', '37', '38', '39', '40']\n",
      "https://www.kammi.it/scarpe-donna/sandali-bassi/sandalo-137-idp21603.html 18 / 30\n",
      "Sandalo 137\n",
      "['d6d0da', 'eec4ab']\n",
      "['35', '37', '38', '39', '40']\n",
      "https://www.kammi.it/scarpe-donna/sandali-bassi/sandalo-aktina-idp21600.html 19 / 30\n",
      "Sandalo Aktina\n",
      "[]\n",
      "['39']\n",
      "https://www.kammi.it/scarpe-donna/sandali-bassi/sandalo-803-idp21599.html 20 / 30\n",
      "Sandalo 803\n",
      "['FFFFFF', '786153']\n",
      "['37']\n",
      "https://www.kammi.it/scarpe-donna/sandali-bassi/sandalo-803-idp21598.html 21 / 30\n",
      "Sandalo 803\n",
      "['FFFFFF', '786153']\n",
      "['37', '38', '39', '40']\n",
      "https://www.kammi.it/scarpe-donna/sandali-bassi/sandalo-0204-idp21597.html 22 / 30\n",
      "Sandalo 0204\n",
      "['786153', 'CD7F32']\n",
      "['37', '38', '39', '40']\n",
      "https://www.kammi.it/scarpe-donna/sandali-bassi/sandalo-0204-idp21596.html 23 / 30\n",
      "Sandalo 0204\n",
      "['786153', 'CD7F32']\n",
      "['36', '38', '40', '41']\n",
      "https://www.kammi.it/scarpe-donna/sandali-bassi/ciabatta-271-idp21585.html 24 / 30\n",
      "Ciabatta 271\n",
      "['000000', 'CD7F32', '786153', 'eec4ab']\n",
      "['36', '37', '38']\n",
      "https://www.kammi.it/scarpe-donna/sandali-bassi/ciabatta-271-idp21584.html 25 / 30\n",
      "Ciabatta 271\n",
      "['000000', 'CD7F32', '786153', 'eec4ab']\n",
      "['36', '37', '38']\n",
      "https://www.kammi.it/scarpe-donna/sandali-bassi/sandalo-7259-idp21583.html 26 / 30\n",
      "Sandalo 7259\n",
      "[]\n",
      "['36', '38', '39', '40', '41']\n",
      "https://www.kammi.it/scarpe-donna/sandali-bassi/sandalo-7254-idp21582.html 27 / 30\n",
      "Sandalo 7254\n",
      "[]\n",
      "['36', '37', '39', '40', '41']\n",
      "https://www.kammi.it/scarpe-donna/sandali-bassi/sandalo-5387-idp21404.html 28 / 30\n",
      "Sandalo 5387\n",
      "[]\n",
      "['37', '38', '40']\n",
      "https://www.kammi.it/scarpe-donna/sandali-bassi/sandalo-6800-idp19705.html 29 / 30\n",
      "Sandalo 6800\n",
      "['eec4ab', 'ac8e83', '000000', 'CD7F32']\n",
      "['41']\n",
      "https://www.kammi.it/scarpe-donna/sandali-bassi/sandalo-3800-idp19701.html 30 / 30\n",
      "Sandalo 3800\n",
      "['fc0729', '000000', 'ac8e83', 'FFFFFF']\n",
      "['39']\n",
      "30\n",
      "['Sandalo 7318', 'Ciabatta 221', 'Sandalo 7285', 'Ciabatta 201', 'Ciabatta 800', 'Ciabatta 800', 'Sandalo 194', 'Sandalo 720-56', 'Ciabatta 271', 'Ciabatta 271', 'Ciabatta new D', 'Ciabatta new D', 'Ciabatta new D', 'Ciabatta infradito 109', 'Ciabatta 407', 'Ciabatta 407', 'Sandalo 137', 'Sandalo 137', 'Sandalo Aktina', 'Sandalo 803', 'Sandalo 803', 'Sandalo 0204', 'Sandalo 0204', 'Ciabatta 271', 'Ciabatta 271', 'Sandalo 7259', 'Sandalo 7254', 'Sandalo 5387', 'Sandalo 6800', 'Sandalo 3800']\n",
      "30\n",
      "['inturini arricchiti da borchie e punti luce, profilo di borchie sul guardolo', 'inturini incorciati  bianca, sottopiede imbottito', 'inturino regolabile alla caviglia arricchito da strass neri', 'color cuoio', 'con cinturini incrociati tempestati di strass cipria e sottopiede imbottito', 'con cinturini incrociati tempestati di strass argento e sottopiede imbottito', 'bianca e laminato platino con cinturini incrociati e sottopiede imbottito', 'nude con cinturini a gabbietta arricchiti da borchie color oro, chiusura regolabile alla caviglia', 'intrecciata laminata albicocca, con doppia fascia arricchita da accessori con punti luce', 'intrecciata laminata noce, con doppia fascia arricchita da accessori con punti luce', 'inturini e fibbiette in tinta', 'inturini e fibbiette in tinta', 'inturini e fibbiette in tinta', 'infradito  nera con fasce in tessuto arricchito da punti luce', 'incrocio geometrico in camoscio varde e pelle testa di moro, soletta sottopiede imbottita', 'incrocio geometrico in camoscio giallo e pelle testa di moro, soletta sottopiede imbottita', 'infradito  rosegold arricchiato da punti luce in tinta, asola con chiusura a scorrimento', 'infradito  argento arricchiato da punti luce in tinta, asola con chiusura a scorrimento', 'color oro rosa, multicinturino ricoperto da punti luce in tinta', 'color testa di moro con cinturini ricoperti da punti luce color cipria e sottopiede imbottito', 'bianca con cinturini ricoperti da punti luce color argento e sottopiede imbottito', 'color oro, chiuso sul tallone, cinturino regolabile alla caviglia e soletta imbottita', 'color cuoio, chiuso sul tallone, cinturino regolabile alla caviglia e soletta imbottita', 'intrecciata color platino con doppia fascia arricchita da accessori con punti luce', 'intrecciata nera con doppia fascia arricchita da accessori con punti luce', 'inturino a T e profilo di borchie sul guardolo', 'inturini arricchiti da borchie color platino e profilo di borchie sul guardolo', 'inato argento con fasce a treccia arricchite da punti luce', 'marrone con piccola zeppa e fasce incrociate di colore rosa,cipria e lavanda craccato', 'rossa laserata con cinturino alla caviglia']\n",
      "30\n",
      "['73.50', '36.00', '47.92', '31.92', '44.00', '44.00', '31.92', '47.92', '63.92', '63.92', '25.00', '25.00', '25.00', '63.92', '36.00', '36.00', '63.92', '63.92', '55.92', '44.00', '44.00', '47.92', '47.92', '63.92', '63.92', '47.92', '55.92', '55.92', '60.00', '68.00']\n",
      "30\n",
      "[['36', '37', '39'], ['37', '39', '40'], ['38'], ['36', '37', '38', '39', '40'], ['36', '38', '39'], ['36', '37', '38', '39', '40'], ['36', '37', '38', '40', '41'], ['40'], ['36', '37'], ['36', '37', '38', '39', '40', '41'], ['39', '40'], ['38'], ['36', '37'], ['37', '38', '39', '40'], ['37', '39', '40', '41'], ['36', '38', '39'], ['36', '37', '38', '39', '40'], ['35', '37', '38', '39', '40'], ['39'], ['37'], ['37', '38', '39', '40'], ['37', '38', '39', '40'], ['36', '38', '40', '41'], ['36', '37', '38'], ['36', '37', '38'], ['36', '38', '39', '40', '41'], ['36', '37', '39', '40', '41'], ['37', '38', '40'], ['41'], ['39']]\n",
      "30\n",
      "[[], [], [], [], ['d6d0da', 'eec4ab'], ['d6d0da', 'eec4ab'], [], ['FFFFFF', '000000', 'f5d7b3'], ['000000', 'CD7F32', '786153', 'eec4ab'], ['000000', 'CD7F32', '786153', 'eec4ab'], ['1f2839', 'e80980', 'eec4ab', '026f38', '955ea7'], ['1f2839', 'e80980', 'eec4ab', '026f38', '955ea7'], ['1f2839', 'e80980', 'eec4ab', '026f38', '955ea7'], [], ['fed700', '026f38'], ['fed700', '026f38'], ['d6d0da', 'eec4ab'], ['d6d0da', 'eec4ab'], [], ['FFFFFF', '786153'], ['FFFFFF', '786153'], ['786153', 'CD7F32'], ['786153', 'CD7F32'], ['000000', 'CD7F32', '786153', 'eec4ab'], ['000000', 'CD7F32', '786153', 'eec4ab'], [], [], [], ['eec4ab', 'ac8e83', '000000', 'CD7F32'], ['fc0729', '000000', 'ac8e83', 'FFFFFF']]\n"
     ]
    }
   ],
   "source": [
    "contatore = 1 \n",
    "totale = len(link_prodotti)\n",
    "nomi = []\n",
    "descrizioni = []\n",
    "prezzi_interi = []\n",
    "taglie = []\n",
    "colori = []\n",
    "rows = []  # List to store all rows for each color/size combination\n",
    "\n",
    "for link in link_prodotti:\n",
    "    print(link, str(contatore) + \" / \" + str(totale))\n",
    "    contatore += 1\n",
    "    req = requests.get(link)\n",
    "    soup_p = BeautifulSoup(req.text, 'html.parser')\n",
    "\n",
    "    # Get the product name\n",
    "    nome = soup_p.find(\"h1\", class_=\"text-black h4 fw-bold\")\n",
    "    nome = nome.text.strip()\n",
    "    print(nome)\n",
    "    nomi.append(nome)\n",
    "\n",
    "    # Get and clean the description\n",
    "    descrizione = soup_p.find(\"p\", class_=\"mt-4\")\n",
    "    descrizione = descrizione.text\n",
    "    descrizione = descrizione.replace(\"\\n\", \"\")\n",
    "    start = descrizione.find(\"in\")  # Find \"in\"\n",
    "    end = descrizione.find(\".\") if descrizione.find(\".\") != -1 else len(descrizione)\n",
    "    if start != -1 and end != -1:\n",
    "        descrizione = descrizione[start:end].strip()\n",
    "    descrizione = descrizione.replace(\"in pelle\", \"\").replace(\"in nappa\", \"\").strip()\n",
    "    descrizioni.append(descrizione)\n",
    "\n",
    "    # Get and clean the price\n",
    "    intero = soup_p.find(\"p\", class_=\"price mt-2\")\n",
    "    intero = intero.text.replace(\"€\", \"\").replace(\",\", \".\").strip()\n",
    "    prezzi_interi.append(intero)\n",
    "\n",
    "    # Extract colors and sizes\n",
    "    colori_p = soup_p.find_all(\"div\", class_=\"option-color\")\n",
    "    colori_temp = []\n",
    "    for colore in colori_p:\n",
    "        # Check if the color is selected\n",
    "        if \"selected\" in colore.get(\"class\", []):\n",
    "            # Extract selected color (background color)\n",
    "            div = colore.find(\"div\", attrs={\"style\": True})\n",
    "            if div and \"style\" in div.attrs:\n",
    "                style = div[\"style\"]\n",
    "                start = style.find(\"background:#\") + len(\"background:#\")\n",
    "                end = style.find(\";\", start)\n",
    "                if start != -1 and end != -1:\n",
    "                    codice = style[start:end].strip()\n",
    "                    colori_temp.append(codice)  # Add the selected color\n",
    "        else:\n",
    "            # Extract other colors (for non-selected)\n",
    "            div = colore.find(\"div\", attrs={\"style\": True})\n",
    "            if div and \"style\" in div.attrs:\n",
    "                style = div[\"style\"]\n",
    "                start = style.find(\"background:#\") + len(\"background:#\")\n",
    "                end = style.find(\";\", start)\n",
    "                if start != -1 and end != -1:\n",
    "                    codice = style[start:end].strip()\n",
    "                    colori_temp.append(codice)  # Add other color\n",
    "    colori.append(colori_temp)  # Append colors for this product\n",
    "    print(colori_temp)\n",
    "\n",
    "    # Extract available sizes for each color\n",
    "    taglie_p = soup_p.find_all(\"button\", class_=\"content d-flex align-items-center justify-content-center p-2 checkRitiroPP\")\n",
    "    taglie_temp = []\n",
    "    for i in taglie_p:\n",
    "        t = i.text.strip()\n",
    "        taglie_temp.append(t)\n",
    "    taglie.append(taglie_temp)\n",
    "    print(taglie_temp)\n",
    "\n",
    "    # Save color/size combinations in rows\n",
    "    for color in colori_temp:\n",
    "        for size in taglie_temp:\n",
    "            rows.append({\n",
    "                'name': nome,                  # Product name\n",
    "                'color': color,                 # Color option\n",
    "                'size': size,               # Size option (taking the first 2 characters if needed)\n",
    "                'price': intero             # Original price (remove \"€\" sign)\n",
    "            })\n",
    "\n",
    "print(len(nomi))\n",
    "print(nomi)\n",
    "print(len(descrizioni))\n",
    "print(descrizioni)\n",
    "print(len(prezzi_interi))\n",
    "print(prezzi_interi)\n",
    "print(len(taglie))\n",
    "print(taglie)\n",
    "print(len(colori))\n",
    "print(colori)"
   ]
  },
  {
   "cell_type": "code",
   "execution_count": 50,
   "metadata": {},
   "outputs": [],
   "source": [
    "kammi_estive_donne_sandali_bassi = pd.DataFrame(rows)"
   ]
  },
  {
   "cell_type": "code",
   "execution_count": 51,
   "metadata": {},
   "outputs": [
    {
     "name": "stdout",
     "output_type": "stream",
     "text": [
      "Number of duplicate rows based on 'name', 'color', 'size': 54\n"
     ]
    }
   ],
   "source": [
    "duplicates_subset = kammi_estive_donne_sandali_bassi.duplicated(subset=['name', 'color', 'size'])\n",
    "\n",
    "# Count how many duplicates there are based on these columns\n",
    "duplicate_subset_count = duplicates_subset.sum()\n",
    "\n",
    "print(f\"Number of duplicate rows based on 'name', 'color', 'size': {duplicate_subset_count}\")"
   ]
  },
  {
   "cell_type": "code",
   "execution_count": 52,
   "metadata": {},
   "outputs": [
    {
     "name": "stdout",
     "output_type": "stream",
     "text": [
      "Duplicate rows based on 'name', 'color', and 'size':\n",
      "             name   color size  price\n",
      "6    Ciabatta 800  d6d0da   36  44.00\n",
      "8    Ciabatta 800  d6d0da   38  44.00\n",
      "9    Ciabatta 800  d6d0da   39  44.00\n",
      "11   Ciabatta 800  eec4ab   36  44.00\n",
      "13   Ciabatta 800  eec4ab   38  44.00\n",
      "14   Ciabatta 800  eec4ab   39  44.00\n",
      "27   Ciabatta 271  000000   36  63.92\n",
      "28   Ciabatta 271  000000   37  63.92\n",
      "33   Ciabatta 271  CD7F32   36  63.92\n",
      "34   Ciabatta 271  CD7F32   37  63.92\n",
      "39   Ciabatta 271  786153   36  63.92\n",
      "40   Ciabatta 271  786153   37  63.92\n",
      "45   Ciabatta 271  eec4ab   36  63.92\n",
      "46   Ciabatta 271  eec4ab   37  63.92\n",
      "86   Ciabatta 407  fed700   39  36.00\n",
      "89   Ciabatta 407  026f38   39  36.00\n",
      "101   Sandalo 137  d6d0da   37  63.92\n",
      "102   Sandalo 137  d6d0da   38  63.92\n",
      "103   Sandalo 137  d6d0da   39  63.92\n",
      "104   Sandalo 137  d6d0da   40  63.92\n",
      "106   Sandalo 137  eec4ab   37  63.92\n",
      "107   Sandalo 137  eec4ab   38  63.92\n",
      "108   Sandalo 137  eec4ab   39  63.92\n",
      "109   Sandalo 137  eec4ab   40  63.92\n",
      "112   Sandalo 803  FFFFFF   37  44.00\n",
      "116   Sandalo 803  786153   37  44.00\n",
      "129  Sandalo 0204  786153   38  47.92\n",
      "130  Sandalo 0204  786153   40  47.92\n",
      "133  Sandalo 0204  CD7F32   38  47.92\n",
      "134  Sandalo 0204  CD7F32   40  47.92\n",
      "136  Ciabatta 271  000000   36  63.92\n",
      "137  Ciabatta 271  000000   37  63.92\n",
      "138  Ciabatta 271  000000   38  63.92\n",
      "139  Ciabatta 271  CD7F32   36  63.92\n",
      "140  Ciabatta 271  CD7F32   37  63.92\n",
      "141  Ciabatta 271  CD7F32   38  63.92\n",
      "142  Ciabatta 271  786153   36  63.92\n",
      "143  Ciabatta 271  786153   37  63.92\n",
      "144  Ciabatta 271  786153   38  63.92\n",
      "145  Ciabatta 271  eec4ab   36  63.92\n",
      "146  Ciabatta 271  eec4ab   37  63.92\n",
      "147  Ciabatta 271  eec4ab   38  63.92\n",
      "148  Ciabatta 271  000000   36  63.92\n",
      "149  Ciabatta 271  000000   37  63.92\n",
      "150  Ciabatta 271  000000   38  63.92\n",
      "151  Ciabatta 271  CD7F32   36  63.92\n",
      "152  Ciabatta 271  CD7F32   37  63.92\n",
      "153  Ciabatta 271  CD7F32   38  63.92\n",
      "154  Ciabatta 271  786153   36  63.92\n",
      "155  Ciabatta 271  786153   37  63.92\n",
      "156  Ciabatta 271  786153   38  63.92\n",
      "157  Ciabatta 271  eec4ab   36  63.92\n",
      "158  Ciabatta 271  eec4ab   37  63.92\n",
      "159  Ciabatta 271  eec4ab   38  63.92\n"
     ]
    }
   ],
   "source": [
    "duplicates_subset = kammi_estive_donne_sandali_bassi[kammi_estive_donne_sandali_bassi.duplicated(subset=['name', 'color', 'size'])]\n",
    "print(\"Duplicate rows based on 'name', 'color', and 'size':\")\n",
    "print(duplicates_subset)"
   ]
  },
  {
   "cell_type": "code",
   "execution_count": 53,
   "metadata": {},
   "outputs": [
    {
     "name": "stdout",
     "output_type": "stream",
     "text": [
      "             name   color size  price\n",
      "0    Ciabatta 800  d6d0da   36  44.00\n",
      "1    Ciabatta 800  d6d0da   38  44.00\n",
      "2    Ciabatta 800  d6d0da   39  44.00\n",
      "3    Ciabatta 800  eec4ab   36  44.00\n",
      "4    Ciabatta 800  eec4ab   38  44.00\n",
      "..            ...     ...  ...    ...\n",
      "163  Sandalo 6800  CD7F32   41  60.00\n",
      "164  Sandalo 3800  fc0729   39  68.00\n",
      "165  Sandalo 3800  000000   39  68.00\n",
      "166  Sandalo 3800  ac8e83   39  68.00\n",
      "167  Sandalo 3800  FFFFFF   39  68.00\n",
      "\n",
      "[114 rows x 4 columns]\n"
     ]
    }
   ],
   "source": [
    "kammi_estive_donne_sandali_bassi = kammi_estive_donne_sandali_bassi.drop_duplicates(subset=['name', 'color', 'size'])\n",
    "\n",
    "# You can print the result to check\n",
    "print(kammi_estive_donne_sandali_bassi)"
   ]
  },
  {
   "cell_type": "code",
   "execution_count": 54,
   "metadata": {},
   "outputs": [],
   "source": [
    "kammi_estive_donne_sandali_bassi.to_csv('kammi_estive_donne_sandali_bassi.csv',index=False)"
   ]
  },
  {
   "cell_type": "code",
   "execution_count": null,
   "metadata": {},
   "outputs": [],
   "source": []
  }
 ],
 "metadata": {
  "kernelspec": {
   "display_name": "Python 3",
   "language": "python",
   "name": "python3"
  },
  "language_info": {
   "codemirror_mode": {
    "name": "ipython",
    "version": 3
   },
   "file_extension": ".py",
   "mimetype": "text/x-python",
   "name": "python",
   "nbconvert_exporter": "python",
   "pygments_lexer": "ipython3",
   "version": "3.13.0"
  }
 },
 "nbformat": 4,
 "nbformat_minor": 2
}

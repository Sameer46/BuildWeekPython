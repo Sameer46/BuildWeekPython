{
 "cells": [
  {
   "cell_type": "code",
   "execution_count": 97,
   "id": "c8b6690a-0960-4532-b708-59ab6cdea2b0",
   "metadata": {},
   "outputs": [],
   "source": [
    "from bs4 import BeautifulSoup\n",
    "import pandas as pd \n",
    "import requests\n",
    "from selenium import webdriver\n",
    "from selenium.webdriver.chrome.service import Service\n",
    "from webdriver_manager.chrome import ChromeDriverManager\n",
    "import time"
   ]
  },
  {
   "cell_type": "code",
   "execution_count": 98,
   "id": "46ea2e3b-212a-40c0-b3dc-65111188ada4",
   "metadata": {},
   "outputs": [
    {
     "name": "stdout",
     "output_type": "stream",
     "text": [
      "https://www.kammi.it/scarpe-donna/sneakers/\n"
     ]
    }
   ],
   "source": [
    "url_donna = \"https://www.kammi.it/scarpe-donna/\"\n",
    "url_d_sneakers = \"sneakers/\" #se non uso questo pezzo di url posso \n",
    "url = url_donna + url_d_sneakers\n",
    "print(url)"
   ]
  },
  {
   "cell_type": "code",
   "execution_count": 99,
   "id": "67a40f26-883b-4701-8fab-29f3d3237e64",
   "metadata": {},
   "outputs": [],
   "source": [
    "# Scrolla la pagina lentamente fino in fondo\n",
    "def scroll_to_bottom(driver, pause_time=2):\n",
    "    last_height = driver.execute_script(\"return document.body.scrollHeight\")\n",
    "    while True:\n",
    "        # Scrolla in fondo\n",
    "        driver.execute_script(\"window.scrollTo(0, document.body.scrollHeight);\")\n",
    "        time.sleep(pause_time)  # Aspetta che la pagina carichi nuovi contenuti\n",
    "        # Calcola la nuova altezza e confrontala\n",
    "        new_height = driver.execute_script(\"return document.body.scrollHeight\")\n",
    "        if new_height == last_height:\n",
    "            break\n",
    "        last_height = new_height"
   ]
  },
  {
   "cell_type": "code",
   "execution_count": 100,
   "id": "dc383b5b-97f4-4d3a-81fb-dee4954b2173",
   "metadata": {},
   "outputs": [],
   "source": [
    "options = webdriver.ChromeOptions()\n",
    "options.add_argument('--headless')  # Run in headless mode (no UI)\n",
    "driver = webdriver.Chrome(service=Service(ChromeDriverManager().install()), options=options) # è il \"pilota\" che fa le azioni sul browser  \n",
    "# driver.maximize_window() # apre e massimizza Chrome\n",
    "driver.get(url) # apre la pagina su Chrome"
   ]
  },
  {
   "cell_type": "code",
   "execution_count": 101,
   "id": "b8afa667-9404-4f74-b788-ab7e5f055e35",
   "metadata": {},
   "outputs": [],
   "source": [
    "# Scrolla fino in fondo per caricare tutti i prodotti\n",
    "scroll_to_bottom(driver)"
   ]
  },
  {
   "cell_type": "code",
   "execution_count": 102,
   "id": "c416ff9a-03b8-4aa0-b634-6f257928b68d",
   "metadata": {},
   "outputs": [],
   "source": [
    "soup = BeautifulSoup(driver.page_source)"
   ]
  },
  {
   "cell_type": "code",
   "execution_count": 103,
   "id": "98de2700-d8d4-4ea7-b6b3-2c29baf1222a",
   "metadata": {},
   "outputs": [],
   "source": [
    "# driver.quit() # chiude la pagina IMPORTANTE commenta la riga se no quando cerchi nelle altre pagine da errore"
   ]
  },
  {
   "cell_type": "code",
   "execution_count": 104,
   "id": "2b1c5939-ad0e-4524-bedd-ede129cf8388",
   "metadata": {},
   "outputs": [],
   "source": [
    "# print(soup)"
   ]
  },
  {
   "cell_type": "code",
   "execution_count": 105,
   "id": "f35fe45b-8cf5-4df0-aee8-9fdabc3de8b8",
   "metadata": {},
   "outputs": [],
   "source": [
    "# cerco i nomi dei prodotti\n",
    "names_dirty = soup.find_all(\"p\", class_=\"product-title\")\n",
    "# print(nomi_dirty)"
   ]
  },
  {
   "cell_type": "code",
   "execution_count": 106,
   "id": "ae7c1917-ac4c-4553-95cc-d3de35714636",
   "metadata": {},
   "outputs": [
    {
     "data": {
      "text/plain": [
       "22"
      ]
     },
     "execution_count": 106,
     "metadata": {},
     "output_type": "execute_result"
    }
   ],
   "source": [
    "len(names_dirty)"
   ]
  },
  {
   "cell_type": "code",
   "execution_count": 107,
   "id": "c20236c0-a037-4283-b7e8-448b9055a731",
   "metadata": {},
   "outputs": [
    {
     "name": "stdout",
     "output_type": "stream",
     "text": [
      "[<p class=\"product-title\">Sneakers 82066</p>, <p class=\"product-title\">Sneakers 82066</p>, <p class=\"product-title\">Sneaker Marina</p>, <p class=\"product-title\">Sneaker Marina</p>, <p class=\"product-title\">Sneaker Nina</p>, <p class=\"product-title\">Sneakers 8100</p>, <p class=\"product-title\">Sneakers 8100</p>, <p class=\"product-title\">Sneakers 2651 cat</p>, <p class=\"product-title\">Sneakers 2651 cat</p>, <p class=\"product-title\">Sneakers 23039</p>, <p class=\"product-title\">Sneakers 23039</p>, <p class=\"product-title\">Sneakers 2651 cat</p>, <p class=\"product-title\">Sneakers 2651 cat</p>, <p class=\"product-title\">Sneakers 23036</p>, <p class=\"product-title\">Sneakers 23222</p>, <p class=\"product-title\">Sneakers 23037</p>, <p class=\"product-title\">Sneakers 9040</p>, <p class=\"product-title\">Sneakers 9040</p>, <p class=\"product-title\">Sneakers 23180</p>, <p class=\"product-title\">Sneakers 9040</p>, <p class=\"product-title\">Sneakers 23180</p>, <p class=\"product-title\">Sneakers 23180</p>]\n"
     ]
    }
   ],
   "source": [
    "print(names_dirty)"
   ]
  },
  {
   "cell_type": "code",
   "execution_count": 108,
   "id": "7b3beb85-813b-48ab-b5dd-94e7b478bb7f",
   "metadata": {},
   "outputs": [
    {
     "name": "stdout",
     "output_type": "stream",
     "text": [
      "['Sneakers 82066', 'Sneakers 82066', 'Sneaker Marina', 'Sneaker Marina', 'Sneaker Nina', 'Sneakers 8100', 'Sneakers 8100', 'Sneakers 2651 cat', 'Sneakers 2651 cat', 'Sneakers 23039', 'Sneakers 23039', 'Sneakers 2651 cat', 'Sneakers 2651 cat', 'Sneakers 23036', 'Sneakers 23222', 'Sneakers 23037', 'Sneakers 9040', 'Sneakers 9040', 'Sneakers 23180', 'Sneakers 9040', 'Sneakers 23180', 'Sneakers 23180']\n"
     ]
    }
   ],
   "source": [
    "nomi_prodotti_home = []\n",
    "for nome in names_dirty:\n",
    "    nome = nome.text.strip()\n",
    "    nomi_prodotti_home.append(nome)\n",
    "print(nomi_prodotti_home)"
   ]
  },
  {
   "cell_type": "code",
   "execution_count": 109,
   "id": "7ff95680-e8d2-4c29-88af-d7fcc854d3a7",
   "metadata": {},
   "outputs": [
    {
     "data": {
      "text/plain": [
       "22"
      ]
     },
     "execution_count": 109,
     "metadata": {},
     "output_type": "execute_result"
    }
   ],
   "source": [
    "len(nomi_prodotti_home)"
   ]
  },
  {
   "cell_type": "code",
   "execution_count": 110,
   "id": "caf25f4b-bf71-4de7-9c0b-54f851a3a1b1",
   "metadata": {},
   "outputs": [
    {
     "name": "stdout",
     "output_type": "stream",
     "text": [
      "22\n"
     ]
    }
   ],
   "source": [
    "# cerco i link dei prodotti\n",
    "div_link = soup.find_all (\"div\", class_=\"col-6 col-md-4 col-lg-3 col-xl-auto mt-4\")\n",
    "print(len(div_link))"
   ]
  },
  {
   "cell_type": "code",
   "execution_count": null,
   "id": "a10570a9-c0dc-4e34-953e-535aaa3935c8",
   "metadata": {},
   "outputs": [
    {
     "data": {
      "text/plain": [
       "<a href=\"https://www.kammi.it/scarpe-donna/sneakers/sneakers-82066-idp21551.html\" onclick=\"return productClick('elenco_prodotti_sneakers-82066_00005542001', 0, this);\">\n",
       "<!-- VARIABILI PER GTM -->\n",
       "<input class=\"codiceProdottoGTM\" type=\"hidden\" value=\"sneakers-82066_00005542001\"/>\n",
       "<input class=\"titoloGTM\" type=\"hidden\" value=\"Sneakers 82066\"/>\n",
       "<input class=\"prezzoGTM\" type=\"hidden\" value=\"105.00\"/>\n",
       "<input class=\"categoriaGTM\" type=\"hidden\" value=\"Sneakers\"/>\n",
       "<input class=\"brandGTM\" type=\"hidden\" value=\"Kammi\"/>\n",
       "<input class=\"listaGTM\" type=\"hidden\" value=\"Scarpe da donna estive - Sneakers\"/>\n",
       "<div class=\"product-image d-flex align-items-center justify-content-center\">\n",
       "<img alt=\"Sneakers 82066\" class=\"img-fluid\" src=\"https://www.kammi.it/ImmaginiProdottiP/sneakers-82066_22329_277x277.jpg\"/>\n",
       "<img alt=\"Sneakers 82066\" class=\"img-fluid img-2\" src=\"https://www.kammi.it/ImmaginiProdottiP/sneakers-82066_22330_277x277.jpg\"/>\n",
       "</div>\n",
       "<div class=\"product-body p-3\">\n",
       "<p class=\"product-title\">Sneakers 82066</p>\n",
       "<p class=\"product-description\">Sneakers in pelle bianca con inserti verde menta. \n",
       "\n",
       "marchio:Wave</p>\n",
       "<p class=\"product-price\"><s></s></p>\n",
       "<p class=\"product-price\">105,00 €</p>\n",
       "</div>\n",
       "</a>"
      ]
     },
     "execution_count": 111,
     "metadata": {},
     "output_type": "execute_result"
    }
   ],
   "source": [
    "div_link[0].find(\"a\")"
   ]
  },
  {
   "cell_type": "code",
   "execution_count": 112,
   "id": "2efb5cc0-f57c-4f3c-b0ba-8eb410cb9293",
   "metadata": {},
   "outputs": [
    {
     "name": "stdout",
     "output_type": "stream",
     "text": [
      "22\n"
     ]
    }
   ],
   "source": [
    "a_link = []\n",
    "for i in div_link:\n",
    "    a = i.find(\"a\")\n",
    "    a_link.append(a)\n",
    "print(len(a_link))\n",
    "# a_link[0]"
   ]
  },
  {
   "cell_type": "code",
   "execution_count": 113,
   "id": "d573c0da-e5d3-488c-b213-fee76d910a21",
   "metadata": {},
   "outputs": [
    {
     "data": {
      "text/plain": [
       "'https://www.kammi.it/scarpe-donna/sneakers/sneakers-82066-idp21551.html'"
      ]
     },
     "execution_count": 113,
     "metadata": {},
     "output_type": "execute_result"
    }
   ],
   "source": [
    "a_link[0].get(\"href\")"
   ]
  },
  {
   "cell_type": "code",
   "execution_count": 114,
   "id": "2abf9717-fe2f-4e71-9fe5-5ac2af85eabc",
   "metadata": {},
   "outputs": [
    {
     "name": "stdout",
     "output_type": "stream",
     "text": [
      "22\n",
      "['https://www.kammi.it/scarpe-donna/sneakers/sneakers-82066-idp21551.html', 'https://www.kammi.it/scarpe-donna/sneakers/sneakers-82066-idp21550.html', 'https://www.kammi.it/scarpe-donna/sneakers/sneaker-marina-idp21537.html', 'https://www.kammi.it/scarpe-donna/sneakers/sneaker-marina-idp21536.html', 'https://www.kammi.it/scarpe-donna/sneakers/sneaker-nina-idp21526.html', 'https://www.kammi.it/scarpe-donna/sneakers/sneakers-8100-idp21549.html', 'https://www.kammi.it/scarpe-donna/sneakers/sneakers-8100-idp21548.html', 'https://www.kammi.it/scarpe-donna/sneakers/sneakers-2651-cat-idp21090.html', 'https://www.kammi.it/scarpe-donna/sneakers/sneakers-2651-cat-idp21089.html', 'https://www.kammi.it/scarpe-donna/sneakers/sneakers-23039-idp20903.html', 'https://www.kammi.it/scarpe-donna/sneakers/sneakers-23039-idp20899.html', 'https://www.kammi.it/scarpe-donna/sneakers/sneakers-2651-cat-idp20534.html', 'https://www.kammi.it/scarpe-donna/sneakers/sneakers-2651-cat-idp20533.html', 'https://www.kammi.it/scarpe-donna/sneakers/sneakers-23036-idp21395.html', 'https://www.kammi.it/scarpe-donna/sneakers/sneakers-23222-idp21383.html', 'https://www.kammi.it/scarpe-donna/sneakers/sneakers-23037-idp20898.html', 'https://www.kammi.it/scarpe-donna/sneakers/sneakers-9040-idp20866.html', 'https://www.kammi.it/scarpe-donna/sneakers/sneakers-9040-idp20865.html', 'https://www.kammi.it/scarpe-donna/sneakers/sneakers-23180-idp20477.html', 'https://www.kammi.it/scarpe-donna/sneakers/sneakers-9040-idp20462.html', 'https://www.kammi.it/scarpe-donna/sneakers/sneakers-23180-idp20460.html', 'https://www.kammi.it/scarpe-donna/sneakers/sneakers-23180-idp20459.html']\n"
     ]
    }
   ],
   "source": [
    "link_prodotti =[]\n",
    "for i in a_link:\n",
    "    link = i.get(\"href\")\n",
    "    link_prodotti.append(link)\n",
    "print(len(link_prodotti))\n",
    "print(link_prodotti)"
   ]
  },
  {
   "cell_type": "markdown",
   "id": "cec8de46-8aaf-42e9-b500-45a515074033",
   "metadata": {},
   "source": [
    "## Da qui in poi lavoro sulla singola pagina del prodotto"
   ]
  },
  {
   "cell_type": "code",
   "execution_count": 115,
   "id": "671ce4b8-f96c-4626-953a-b48899d89037",
   "metadata": {},
   "outputs": [],
   "source": [
    "import requests"
   ]
  },
  {
   "cell_type": "code",
   "execution_count": 116,
   "id": "c340c557-3eb3-4b0d-a644-22e77d17596a",
   "metadata": {},
   "outputs": [
    {
     "name": "stdout",
     "output_type": "stream",
     "text": [
      "https://www.kammi.it/scarpe-donna/sneakers/sneakers-82066-idp21551.html\n"
     ]
    }
   ],
   "source": [
    "url_prodotto = link_prodotti[0]\n",
    "print(url_prodotto)"
   ]
  },
  {
   "cell_type": "code",
   "execution_count": 117,
   "id": "8e27e918-aa7b-4f23-ad9b-17726883e9f8",
   "metadata": {},
   "outputs": [],
   "source": [
    "req = requests.get(url_prodotto)"
   ]
  },
  {
   "cell_type": "code",
   "execution_count": 118,
   "id": "73225c07-5417-4b6a-84be-ece2df449132",
   "metadata": {},
   "outputs": [
    {
     "name": "stdout",
     "output_type": "stream",
     "text": [
      "ssd\n"
     ]
    }
   ],
   "source": [
    "# Verifica il codice di risposta\n",
    "if req.status_code == 200:\n",
    "    print(\"ssd\")\n",
    "else:\n",
    "    print(f\"Errore: {response.status_code}\") "
   ]
  },
  {
   "cell_type": "code",
   "execution_count": 119,
   "id": "f616a4e0-ae64-46e9-926e-bdd6f80a1a74",
   "metadata": {},
   "outputs": [
    {
     "name": "stdout",
     "output_type": "stream",
     "text": [
      "<Response [200]>\n"
     ]
    }
   ],
   "source": [
    "print(req)"
   ]
  },
  {
   "cell_type": "code",
   "execution_count": 120,
   "id": "a4588866-7cbb-49f3-9cf3-525104f07ee3",
   "metadata": {},
   "outputs": [],
   "source": [
    "soup_p = BeautifulSoup(req.text)"
   ]
  },
  {
   "cell_type": "code",
   "execution_count": 121,
   "id": "78d0b26c-8009-43f8-8b83-09d2f098d139",
   "metadata": {},
   "outputs": [
    {
     "data": {
      "text/plain": [
       "[<button class=\"content d-flex align-items-center justify-content-center p-2 checkRitiroPP\" type=\"button\">36</button>,\n",
       " <button class=\"content d-flex align-items-center justify-content-center p-2 checkRitiroPP\" type=\"button\">39</button>]"
      ]
     },
     "execution_count": 121,
     "metadata": {},
     "output_type": "execute_result"
    }
   ],
   "source": [
    "# cerco diverse cose del prodotto\n",
    "#soup_p.find_all(\"h1\", class_=\"text-black h4 fw-bold\")\n",
    "# soup_p.find_all(\"p\", class_=\"mt-4\")\n",
    "# soup_p.find_all(\"p\", class_=\"price mt-2\")\n",
    "soup_p.find_all(\"button\", class_=\"content d-flex align-items-center justify-content-center p-2 checkRitiroPP\")\n",
    "#soup_p.find_all(\"div\", class_=\"option-color\")"
   ]
  },
  {
   "cell_type": "code",
   "execution_count": 122,
   "id": "0467dd14-a01e-47e7-bc0b-29fa06d9fd97",
   "metadata": {},
   "outputs": [
    {
     "name": "stdout",
     "output_type": "stream",
     "text": [
      "https://www.kammi.it/scarpe-donna/sneakers/sneakers-82066-idp21551.html 1 / 22\n",
      "Sneakers 82066\n",
      "['d6d0da', '026f38']\n",
      "['36', '39']\n",
      "https://www.kammi.it/scarpe-donna/sneakers/sneakers-82066-idp21550.html 2 / 22\n",
      "Sneakers 82066\n",
      "['d6d0da', '026f38']\n",
      "['36', '37', '39', '40']\n",
      "https://www.kammi.it/scarpe-donna/sneakers/sneaker-marina-idp21537.html 3 / 22\n",
      "Sneaker Marina\n",
      "['CD7F32', 'eec4ab']\n",
      "['35', '39', '41']\n",
      "https://www.kammi.it/scarpe-donna/sneakers/sneaker-marina-idp21536.html 4 / 22\n",
      "Sneaker Marina\n",
      "['CD7F32', 'eec4ab']\n",
      "['35', '37']\n",
      "https://www.kammi.it/scarpe-donna/sneakers/sneaker-nina-idp21526.html 5 / 22\n",
      "Sneaker Nina\n",
      "[]\n",
      "['35', '36', '37', '38', '39', '41']\n",
      "https://www.kammi.it/scarpe-donna/sneakers/sneakers-8100-idp21549.html 6 / 22\n",
      "Sneakers 8100\n",
      "['FFFFFF', '1f2839', 'e80980']\n",
      "['36', '37', '39', '40']\n",
      "https://www.kammi.it/scarpe-donna/sneakers/sneakers-8100-idp21548.html 7 / 22\n",
      "Sneakers 8100\n",
      "['FFFFFF', '1f2839', 'e80980']\n",
      "['36', '37', '38', '39', '40', '41']\n",
      "https://www.kammi.it/scarpe-donna/sneakers/sneakers-2651-cat-idp21090.html 8 / 22\n",
      "Sneakers 2651 cat\n",
      "['FFFFFF', 'e4a677', '786153', 'CD7F32']\n",
      "['35', '36', '37', '38', '41']\n",
      "https://www.kammi.it/scarpe-donna/sneakers/sneakers-2651-cat-idp21089.html 9 / 22\n",
      "Sneakers 2651 cat\n",
      "['FFFFFF', 'e4a677', '786153', 'CD7F32']\n",
      "['35', '36', '38', '39', '40']\n",
      "https://www.kammi.it/scarpe-donna/sneakers/sneakers-23039-idp20903.html 10 / 22\n",
      "Sneakers 23039\n",
      "['000000', 'FFFFFF']\n",
      "['36', '37', '38', '39', '40', '41']\n",
      "https://www.kammi.it/scarpe-donna/sneakers/sneakers-23039-idp20899.html 11 / 22\n",
      "Sneakers 23039\n",
      "['000000', 'FFFFFF']\n",
      "['35', '36']\n",
      "https://www.kammi.it/scarpe-donna/sneakers/sneakers-2651-cat-idp20534.html 12 / 22\n",
      "Sneakers 2651 cat\n",
      "['FFFFFF', 'e4a677', '786153', 'CD7F32']\n",
      "['35', '36', '37', '38', '39', '40']\n",
      "https://www.kammi.it/scarpe-donna/sneakers/sneakers-2651-cat-idp20533.html 13 / 22\n",
      "Sneakers 2651 cat\n",
      "['FFFFFF', 'e4a677', '786153', 'CD7F32']\n",
      "['38', '39']\n",
      "https://www.kammi.it/scarpe-donna/sneakers/sneakers-23036-idp21395.html 14 / 22\n",
      "Sneakers 23036\n",
      "[]\n",
      "['36', '39', '40', '41']\n",
      "https://www.kammi.it/scarpe-donna/sneakers/sneakers-23222-idp21383.html 15 / 22\n",
      "Sneakers 23222\n",
      "[]\n",
      "['36']\n",
      "https://www.kammi.it/scarpe-donna/sneakers/sneakers-23037-idp20898.html 16 / 22\n",
      "Sneakers 23037\n",
      "[]\n",
      "['37', '38', '39']\n",
      "https://www.kammi.it/scarpe-donna/sneakers/sneakers-9040-idp20866.html 17 / 22\n",
      "Sneakers 9040\n",
      "['FFFFFF', 'e4a677', '09cfda']\n",
      "['35', '36', '37', '38', '39', '41']\n",
      "https://www.kammi.it/scarpe-donna/sneakers/sneakers-9040-idp20865.html 18 / 22\n",
      "Sneakers 9040\n",
      "['FFFFFF', 'e4a677', '09cfda']\n",
      "['36', '37']\n",
      "https://www.kammi.it/scarpe-donna/sneakers/sneakers-23180-idp20477.html 19 / 22\n",
      "Sneakers 23180\n",
      "['ac8e83', 'e4a677', '000000']\n",
      "['36']\n",
      "https://www.kammi.it/scarpe-donna/sneakers/sneakers-9040-idp20462.html 20 / 22\n",
      "Sneakers 9040\n",
      "['FFFFFF', 'e4a677', '09cfda']\n",
      "['36', '38']\n",
      "https://www.kammi.it/scarpe-donna/sneakers/sneakers-23180-idp20460.html 21 / 22\n",
      "Sneakers 23180\n",
      "['ac8e83', 'e4a677', '000000']\n",
      "['36', '38']\n",
      "https://www.kammi.it/scarpe-donna/sneakers/sneakers-23180-idp20459.html 22 / 22\n",
      "Sneakers 23180\n",
      "['ac8e83', 'e4a677', '000000']\n",
      "['35', '36', '37', '38', '40', '41']\n",
      "22\n",
      "['Sneakers 82066', 'Sneakers 82066', 'Sneaker Marina', 'Sneaker Marina', 'Sneaker Nina', 'Sneakers 8100', 'Sneakers 8100', 'Sneakers 2651 cat', 'Sneakers 2651 cat', 'Sneakers 23039', 'Sneakers 23039', 'Sneakers 2651 cat', 'Sneakers 2651 cat', 'Sneakers 23036', 'Sneakers 23222', 'Sneakers 23037', 'Sneakers 9040', 'Sneakers 9040', 'Sneakers 23180', 'Sneakers 9040', 'Sneakers 23180', 'Sneakers 23180']\n",
      "22\n",
      "['bianca con inserti verde menta', 'bianca con inserti laminato argento', 'bianca con tallonetta in glitter rame', 'bianca con tallonetta in glitter rame', 'bianca, saetta  e glitter platino, tallonetta glitter platino e fondo effetto sporcato', 'bianca forata con tallonetta in crosta fuxia e fondo platform', 'bianca forata con tallonetta in crosta blu e fondo platform', 'color oro effetto intrecciato con catena oro e fondo 3 cm', 'color cuoio effetto intrecciato con catena oro e fondo 3 cm', 'nera con tallonetta color platino e accessorio a forma di ape', 'bianca con tallonetta color platino e accessorio a forma di ape', 'color latte effetto intrecciato con catena oro e fondo 3 cm', 'bianca effetto intrecciato con catena oro e fondo 3 cm', 'cielo liscia, con linguetta posteriore e  elastico sul bordo', 'bianca con tallonetta laminata platino, fondo 3 cm e accessori a forma di ape, scarabeo e mosca', 'effetto intrecciato color sabbia', 'cielo forata', 'beige forata', 'nera effetto squame', 'bianca forata', 'latte effetto squame', 'mattone effetto squame']\n",
      "22\n",
      "['105.00', '105.00', '109.00', '109.00', '109.00', '95.00', '95.00', '109.00', '109.00', '89.90', '89.90', '109.00', '109.00', '79.90', '99.90', '79.90', '79.90', '79.90', '89.90', '79.90', '89.90', '89.90']\n",
      "22\n",
      "[['36', '39'], ['36', '37', '39', '40'], ['35', '39', '41'], ['35', '37'], ['35', '36', '37', '38', '39', '41'], ['36', '37', '39', '40'], ['36', '37', '38', '39', '40', '41'], ['35', '36', '37', '38', '41'], ['35', '36', '38', '39', '40'], ['36', '37', '38', '39', '40', '41'], ['35', '36'], ['35', '36', '37', '38', '39', '40'], ['38', '39'], ['36', '39', '40', '41'], ['36'], ['37', '38', '39'], ['35', '36', '37', '38', '39', '41'], ['36', '37'], ['36'], ['36', '38'], ['36', '38'], ['35', '36', '37', '38', '40', '41']]\n",
      "22\n",
      "[['d6d0da', '026f38'], ['d6d0da', '026f38'], ['CD7F32', 'eec4ab'], ['CD7F32', 'eec4ab'], [], ['FFFFFF', '1f2839', 'e80980'], ['FFFFFF', '1f2839', 'e80980'], ['FFFFFF', 'e4a677', '786153', 'CD7F32'], ['FFFFFF', 'e4a677', '786153', 'CD7F32'], ['000000', 'FFFFFF'], ['000000', 'FFFFFF'], ['FFFFFF', 'e4a677', '786153', 'CD7F32'], ['FFFFFF', 'e4a677', '786153', 'CD7F32'], [], [], [], ['FFFFFF', 'e4a677', '09cfda'], ['FFFFFF', 'e4a677', '09cfda'], ['ac8e83', 'e4a677', '000000'], ['FFFFFF', 'e4a677', '09cfda'], ['ac8e83', 'e4a677', '000000'], ['ac8e83', 'e4a677', '000000']]\n"
     ]
    }
   ],
   "source": [
    "contatore = 1 \n",
    "totale = len(link_prodotti)\n",
    "nomi = []\n",
    "descrizioni = []\n",
    "prezzi_interi = []\n",
    "taglie = []\n",
    "colori = []\n",
    "rows = []  # List to store all rows for each color/size combination\n",
    "\n",
    "for link in link_prodotti:\n",
    "    print(link, str(contatore) + \" / \" + str(totale))\n",
    "    contatore += 1\n",
    "    req = requests.get(link)\n",
    "    soup_p = BeautifulSoup(req.text, 'html.parser')\n",
    "\n",
    "    # Get the product name\n",
    "    nome = soup_p.find(\"h1\", class_=\"text-black h4 fw-bold\")\n",
    "    nome = nome.text.strip()\n",
    "    print(nome)\n",
    "    nomi.append(nome)\n",
    "\n",
    "    # Get and clean the description\n",
    "    descrizione = soup_p.find(\"p\", class_=\"mt-4\")\n",
    "    descrizione = descrizione.text\n",
    "    descrizione = descrizione.replace(\"\\n\", \"\")\n",
    "    start = descrizione.find(\"in\")  # Find \"in\"\n",
    "    end = descrizione.find(\".\") if descrizione.find(\".\") != -1 else len(descrizione)\n",
    "    if start != -1 and end != -1:\n",
    "        descrizione = descrizione[start:end].strip()\n",
    "    descrizione = descrizione.replace(\"in pelle\", \"\").replace(\"in nappa\", \"\").strip()\n",
    "    descrizioni.append(descrizione)\n",
    "\n",
    "    # Get and clean the price\n",
    "    intero = soup_p.find(\"p\", class_=\"price mt-2\")\n",
    "    intero = intero.text.replace(\"€\", \"\").replace(\",\", \".\").strip()\n",
    "    prezzi_interi.append(intero)\n",
    "\n",
    "    # Extract colors and sizes\n",
    "    colori_p = soup_p.find_all(\"div\", class_=\"option-color\")\n",
    "    colori_temp = []\n",
    "    for colore in colori_p:\n",
    "        # Check if the color is selected\n",
    "        if \"selected\" in colore.get(\"class\", []):\n",
    "            # Extract selected color (background color)\n",
    "            div = colore.find(\"div\", attrs={\"style\": True})\n",
    "            if div and \"style\" in div.attrs:\n",
    "                style = div[\"style\"]\n",
    "                start = style.find(\"background:#\") + len(\"background:#\")\n",
    "                end = style.find(\";\", start)\n",
    "                if start != -1 and end != -1:\n",
    "                    codice = style[start:end].strip()\n",
    "                    colori_temp.append(codice)  # Add the selected color\n",
    "        else:\n",
    "            # Extract other colors (for non-selected)\n",
    "            div = colore.find(\"div\", attrs={\"style\": True})\n",
    "            if div and \"style\" in div.attrs:\n",
    "                style = div[\"style\"]\n",
    "                start = style.find(\"background:#\") + len(\"background:#\")\n",
    "                end = style.find(\";\", start)\n",
    "                if start != -1 and end != -1:\n",
    "                    codice = style[start:end].strip()\n",
    "                    colori_temp.append(codice)  # Add other color\n",
    "    colori.append(colori_temp)  # Append colors for this product\n",
    "    print(colori_temp)\n",
    "\n",
    "    # Extract available sizes for each color\n",
    "    taglie_p = soup_p.find_all(\"button\", class_=\"content d-flex align-items-center justify-content-center p-2 checkRitiroPP\")\n",
    "    taglie_temp = []\n",
    "    for i in taglie_p:\n",
    "        t = i.text.strip()\n",
    "        taglie_temp.append(t)\n",
    "    taglie.append(taglie_temp)\n",
    "    print(taglie_temp)\n",
    "\n",
    "    # Save color/size combinations in rows\n",
    "    for color in colori_temp:\n",
    "        for size in taglie_temp:\n",
    "            rows.append({\n",
    "                'name': nome,                  # Product name\n",
    "                'color': color,                 # Color option\n",
    "                'size': size,               # Size option (taking the first 2 characters if needed)\n",
    "                'price': intero             # Original price (remove \"€\" sign)\n",
    "            })\n",
    "\n",
    "print(len(nomi))\n",
    "print(nomi)\n",
    "print(len(descrizioni))\n",
    "print(descrizioni)\n",
    "print(len(prezzi_interi))\n",
    "print(prezzi_interi)\n",
    "print(len(taglie))\n",
    "print(taglie)\n",
    "print(len(colori))\n",
    "print(colori)"
   ]
  },
  {
   "cell_type": "code",
   "execution_count": 123,
   "id": "684e6572-c0d3-4adf-92e9-e32e7d6ead32",
   "metadata": {},
   "outputs": [],
   "source": [
    "sneakers = { \"nomi\" : nomi , \"descrizioni\" : descrizioni , \"prezzi_interi\" : prezzi_interi , \"taglie_disponibili\" : taglie , \"colori_disponibili\" : colori }"
   ]
  },
  {
   "cell_type": "code",
   "execution_count": 124,
   "id": "bfa3a930-80ac-4501-97b1-cdccca66a112",
   "metadata": {},
   "outputs": [],
   "source": [
    "import pandas as pd"
   ]
  },
  {
   "cell_type": "code",
   "execution_count": 125,
   "id": "56452a4c-588f-4050-865a-32538e5dd78f",
   "metadata": {},
   "outputs": [],
   "source": [
    "kammi_estive_donne_sneakers = pd.DataFrame(rows)"
   ]
  },
  {
   "cell_type": "code",
   "execution_count": 126,
   "id": "786fef39-e6d8-4e66-b2b7-e013de8f5e09",
   "metadata": {},
   "outputs": [
    {
     "data": {
      "text/html": [
       "<div>\n",
       "<style scoped>\n",
       "    .dataframe tbody tr th:only-of-type {\n",
       "        vertical-align: middle;\n",
       "    }\n",
       "\n",
       "    .dataframe tbody tr th {\n",
       "        vertical-align: top;\n",
       "    }\n",
       "\n",
       "    .dataframe thead th {\n",
       "        text-align: right;\n",
       "    }\n",
       "</style>\n",
       "<table border=\"1\" class=\"dataframe\">\n",
       "  <thead>\n",
       "    <tr style=\"text-align: right;\">\n",
       "      <th></th>\n",
       "      <th>name</th>\n",
       "      <th>color</th>\n",
       "      <th>size</th>\n",
       "      <th>price</th>\n",
       "    </tr>\n",
       "  </thead>\n",
       "  <tbody>\n",
       "    <tr>\n",
       "      <th>0</th>\n",
       "      <td>Sneakers 82066</td>\n",
       "      <td>d6d0da</td>\n",
       "      <td>36</td>\n",
       "      <td>105.00</td>\n",
       "    </tr>\n",
       "    <tr>\n",
       "      <th>1</th>\n",
       "      <td>Sneakers 82066</td>\n",
       "      <td>d6d0da</td>\n",
       "      <td>39</td>\n",
       "      <td>105.00</td>\n",
       "    </tr>\n",
       "    <tr>\n",
       "      <th>2</th>\n",
       "      <td>Sneakers 82066</td>\n",
       "      <td>026f38</td>\n",
       "      <td>36</td>\n",
       "      <td>105.00</td>\n",
       "    </tr>\n",
       "    <tr>\n",
       "      <th>3</th>\n",
       "      <td>Sneakers 82066</td>\n",
       "      <td>026f38</td>\n",
       "      <td>39</td>\n",
       "      <td>105.00</td>\n",
       "    </tr>\n",
       "    <tr>\n",
       "      <th>4</th>\n",
       "      <td>Sneakers 82066</td>\n",
       "      <td>d6d0da</td>\n",
       "      <td>36</td>\n",
       "      <td>105.00</td>\n",
       "    </tr>\n",
       "    <tr>\n",
       "      <th>...</th>\n",
       "      <td>...</td>\n",
       "      <td>...</td>\n",
       "      <td>...</td>\n",
       "      <td>...</td>\n",
       "    </tr>\n",
       "    <tr>\n",
       "      <th>192</th>\n",
       "      <td>Sneakers 23180</td>\n",
       "      <td>000000</td>\n",
       "      <td>36</td>\n",
       "      <td>89.90</td>\n",
       "    </tr>\n",
       "    <tr>\n",
       "      <th>193</th>\n",
       "      <td>Sneakers 23180</td>\n",
       "      <td>000000</td>\n",
       "      <td>37</td>\n",
       "      <td>89.90</td>\n",
       "    </tr>\n",
       "    <tr>\n",
       "      <th>194</th>\n",
       "      <td>Sneakers 23180</td>\n",
       "      <td>000000</td>\n",
       "      <td>38</td>\n",
       "      <td>89.90</td>\n",
       "    </tr>\n",
       "    <tr>\n",
       "      <th>195</th>\n",
       "      <td>Sneakers 23180</td>\n",
       "      <td>000000</td>\n",
       "      <td>40</td>\n",
       "      <td>89.90</td>\n",
       "    </tr>\n",
       "    <tr>\n",
       "      <th>196</th>\n",
       "      <td>Sneakers 23180</td>\n",
       "      <td>000000</td>\n",
       "      <td>41</td>\n",
       "      <td>89.90</td>\n",
       "    </tr>\n",
       "  </tbody>\n",
       "</table>\n",
       "<p>197 rows × 4 columns</p>\n",
       "</div>"
      ],
      "text/plain": [
       "               name   color size   price\n",
       "0    Sneakers 82066  d6d0da   36  105.00\n",
       "1    Sneakers 82066  d6d0da   39  105.00\n",
       "2    Sneakers 82066  026f38   36  105.00\n",
       "3    Sneakers 82066  026f38   39  105.00\n",
       "4    Sneakers 82066  d6d0da   36  105.00\n",
       "..              ...     ...  ...     ...\n",
       "192  Sneakers 23180  000000   36   89.90\n",
       "193  Sneakers 23180  000000   37   89.90\n",
       "194  Sneakers 23180  000000   38   89.90\n",
       "195  Sneakers 23180  000000   40   89.90\n",
       "196  Sneakers 23180  000000   41   89.90\n",
       "\n",
       "[197 rows x 4 columns]"
      ]
     },
     "execution_count": 126,
     "metadata": {},
     "output_type": "execute_result"
    }
   ],
   "source": [
    "kammi_estive_donne_sneakers"
   ]
  },
  {
   "cell_type": "code",
   "execution_count": 132,
   "id": "092900e6-3675-4475-82ba-5eb326f0899c",
   "metadata": {},
   "outputs": [
    {
     "name": "stdout",
     "output_type": "stream",
     "text": [
      "Number of duplicate rows based on 'name', 'color', 'size': 85\n"
     ]
    }
   ],
   "source": [
    "duplicates_subset = kammi_estive_donne_sneakers.duplicated(subset=['name', 'color', 'size'])\n",
    "\n",
    "# Count how many duplicates there are based on these columns\n",
    "duplicate_subset_count = duplicates_subset.sum()\n",
    "\n",
    "print(f\"Number of duplicate rows based on 'name', 'color', 'size': {duplicate_subset_count}\")"
   ]
  },
  {
   "cell_type": "code",
   "execution_count": 133,
   "id": "5b23cc8b",
   "metadata": {},
   "outputs": [
    {
     "name": "stdout",
     "output_type": "stream",
     "text": [
      "Duplicate rows based on 'name', 'color', and 'size':\n",
      "               name   color size   price\n",
      "4    Sneakers 82066  d6d0da   36  105.00\n",
      "6    Sneakers 82066  d6d0da   39  105.00\n",
      "8    Sneakers 82066  026f38   36  105.00\n",
      "10   Sneakers 82066  026f38   39  105.00\n",
      "18   Sneaker Marina  CD7F32   35  109.00\n",
      "..              ...     ...  ...     ...\n",
      "182  Sneakers 23180  ac8e83   38   89.90\n",
      "186  Sneakers 23180  e4a677   36   89.90\n",
      "188  Sneakers 23180  e4a677   38   89.90\n",
      "192  Sneakers 23180  000000   36   89.90\n",
      "194  Sneakers 23180  000000   38   89.90\n",
      "\n",
      "[85 rows x 4 columns]\n"
     ]
    }
   ],
   "source": [
    "duplicates_subset = kammi_estive_donne_sneakers[kammi_estive_donne_sneakers.duplicated(subset=['name', 'color', 'size'])]\n",
    "print(\"Duplicate rows based on 'name', 'color', and 'size':\")\n",
    "print(duplicates_subset)"
   ]
  },
  {
   "cell_type": "code",
   "execution_count": 135,
   "id": "f6278606",
   "metadata": {},
   "outputs": [
    {
     "name": "stdout",
     "output_type": "stream",
     "text": [
      "               name   color size   price\n",
      "0    Sneakers 82066  d6d0da   36  105.00\n",
      "1    Sneakers 82066  d6d0da   39  105.00\n",
      "2    Sneakers 82066  026f38   36  105.00\n",
      "3    Sneakers 82066  026f38   39  105.00\n",
      "5    Sneakers 82066  d6d0da   37  105.00\n",
      "..              ...     ...  ...     ...\n",
      "190  Sneakers 23180  e4a677   41   89.90\n",
      "191  Sneakers 23180  000000   35   89.90\n",
      "193  Sneakers 23180  000000   37   89.90\n",
      "195  Sneakers 23180  000000   40   89.90\n",
      "196  Sneakers 23180  000000   41   89.90\n",
      "\n",
      "[112 rows x 4 columns]\n"
     ]
    }
   ],
   "source": [
    "kammi_estive_donne_sneakers = kammi_estive_donne_sneakers.drop_duplicates(subset=['name', 'color', 'size'])\n",
    "\n",
    "# You can print the result to check\n",
    "print(kammi_estive_donne_sneakers)"
   ]
  },
  {
   "cell_type": "code",
   "execution_count": 136,
   "id": "0e469acd",
   "metadata": {},
   "outputs": [],
   "source": [
    "kammi_estive_donne_sneakers.to_csv(\"kammi_estive_donne_sneakers.csv\", index=False)"
   ]
  }
 ],
 "metadata": {
  "kernelspec": {
   "display_name": "Python 3",
   "language": "python",
   "name": "python3"
  },
  "language_info": {
   "codemirror_mode": {
    "name": "ipython",
    "version": 3
   },
   "file_extension": ".py",
   "mimetype": "text/x-python",
   "name": "python",
   "nbconvert_exporter": "python",
   "pygments_lexer": "ipython3",
   "version": "3.13.0"
  }
 },
 "nbformat": 4,
 "nbformat_minor": 5
}

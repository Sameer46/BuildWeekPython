{
 "cells": [
  {
   "cell_type": "code",
   "execution_count": 365,
   "metadata": {},
   "outputs": [],
   "source": [
    "from bs4 import BeautifulSoup\n",
    "import pandas as pd \n",
    "import requests\n",
    "from selenium import webdriver\n",
    "from selenium.webdriver.chrome.service import Service\n",
    "from webdriver_manager.chrome import ChromeDriverManager\n",
    "import time"
   ]
  },
  {
   "cell_type": "code",
   "execution_count": 366,
   "metadata": {},
   "outputs": [
    {
     "name": "stdout",
     "output_type": "stream",
     "text": [
      "https://www.kammi.it/scarpe-donna/zeppe/\n"
     ]
    }
   ],
   "source": [
    "url_donna = \"https://www.kammi.it/scarpe-donna/\"\n",
    "url_d_sneakers = \"zeppe/\" #se non uso questo pezzo di url posso \n",
    "url = url_donna + url_d_sneakers\n",
    "print(url)"
   ]
  },
  {
   "cell_type": "code",
   "execution_count": 367,
   "metadata": {},
   "outputs": [],
   "source": [
    "# Scrolla la pagina lentamente fino in fondo\n",
    "def scroll_to_bottom(driver, pause_time=2):\n",
    "    last_height = driver.execute_script(\"return document.body.scrollHeight\")\n",
    "    while True:\n",
    "        # Scrolla in fondo\n",
    "        driver.execute_script(\"window.scrollTo(0, document.body.scrollHeight);\")\n",
    "        time.sleep(pause_time)  # Aspetta che la pagina carichi nuovi contenuti\n",
    "        # Calcola la nuova altezza e confrontala\n",
    "        new_height = driver.execute_script(\"return document.body.scrollHeight\")\n",
    "        if new_height == last_height:\n",
    "            break\n",
    "        last_height = new_height"
   ]
  },
  {
   "cell_type": "code",
   "execution_count": 368,
   "metadata": {},
   "outputs": [],
   "source": [
    "options = webdriver.ChromeOptions()\n",
    "options.add_argument('--headless')  # Run in headless mode (no UI)\n",
    "driver = webdriver.Chrome(service=Service(ChromeDriverManager().install()), options=options) # è il \"pilota\" che fa le azioni sul browser  \n",
    "# driver.maximize_window() # apre e massimizza Chrome\n",
    "driver.get(url) # apre la pagina su Chrome"
   ]
  },
  {
   "cell_type": "code",
   "execution_count": 369,
   "metadata": {},
   "outputs": [],
   "source": [
    "# Scrolla fino in fondo per caricare tutti i prodotti\n",
    "scroll_to_bottom(driver)"
   ]
  },
  {
   "cell_type": "code",
   "execution_count": 370,
   "metadata": {},
   "outputs": [],
   "source": [
    "soup = BeautifulSoup(driver.page_source)"
   ]
  },
  {
   "cell_type": "code",
   "execution_count": 371,
   "metadata": {},
   "outputs": [],
   "source": [
    "# print(soup)"
   ]
  },
  {
   "cell_type": "code",
   "execution_count": 372,
   "metadata": {},
   "outputs": [],
   "source": [
    "# cerco i nomi dei prodotti\n",
    "names_dirty = soup.find_all(\"p\", class_=\"product-title\")\n",
    "# print(nomi_dirty)"
   ]
  },
  {
   "cell_type": "code",
   "execution_count": 373,
   "metadata": {},
   "outputs": [
    {
     "data": {
      "text/plain": [
       "16"
      ]
     },
     "execution_count": 373,
     "metadata": {},
     "output_type": "execute_result"
    }
   ],
   "source": [
    "len(names_dirty)"
   ]
  },
  {
   "cell_type": "code",
   "execution_count": 374,
   "metadata": {},
   "outputs": [
    {
     "name": "stdout",
     "output_type": "stream",
     "text": [
      "[<p class=\"product-title\">Zeppa 340</p>, <p class=\"product-title\">Zeppa 3462</p>, <p class=\"product-title\">Zeppa 9005</p>, <p class=\"product-title\">Zeppa 902</p>, <p class=\"product-title\">Zeppa 3326</p>, <p class=\"product-title\">Zeppa 3326</p>, <p class=\"product-title\">Zeppa 102</p>, <p class=\"product-title\">Zeppa L3402</p>, <p class=\"product-title\">Zeppa 1610</p>, <p class=\"product-title\">Zeppa 5700</p>, <p class=\"product-title\">Zeppa 5700</p>, <p class=\"product-title\">Zeppa 100</p>, <p class=\"product-title\">Zeppa 100</p>, <p class=\"product-title\">Zeppa 102</p>, <p class=\"product-title\">Zeppa 102</p>, <p class=\"product-title\">Zeppa 3402</p>]\n"
     ]
    }
   ],
   "source": [
    "print(names_dirty)"
   ]
  },
  {
   "cell_type": "code",
   "execution_count": 375,
   "metadata": {},
   "outputs": [
    {
     "name": "stdout",
     "output_type": "stream",
     "text": [
      "['Zeppa 340', 'Zeppa 3462', 'Zeppa 9005', 'Zeppa 902', 'Zeppa 3326', 'Zeppa 3326', 'Zeppa 102', 'Zeppa L3402', 'Zeppa 1610', 'Zeppa 5700', 'Zeppa 5700', 'Zeppa 100', 'Zeppa 100', 'Zeppa 102', 'Zeppa 102', 'Zeppa 3402']\n"
     ]
    }
   ],
   "source": [
    "nomi_prodotti_home = []\n",
    "for nome in names_dirty:\n",
    "    nome = nome.text.strip()\n",
    "    nomi_prodotti_home.append(nome)\n",
    "print(nomi_prodotti_home)"
   ]
  },
  {
   "cell_type": "code",
   "execution_count": 376,
   "metadata": {},
   "outputs": [
    {
     "data": {
      "text/plain": [
       "16"
      ]
     },
     "execution_count": 376,
     "metadata": {},
     "output_type": "execute_result"
    }
   ],
   "source": [
    "len(nomi_prodotti_home)"
   ]
  },
  {
   "cell_type": "code",
   "execution_count": 377,
   "metadata": {},
   "outputs": [
    {
     "name": "stdout",
     "output_type": "stream",
     "text": [
      "16\n"
     ]
    }
   ],
   "source": [
    "# cerco i link dei prodotti\n",
    "div_link = soup.find_all (\"div\", class_=\"col-6 col-md-4 col-lg-3 col-xl-auto mt-4\")\n",
    "print(len(div_link))"
   ]
  },
  {
   "cell_type": "code",
   "execution_count": 378,
   "metadata": {},
   "outputs": [
    {
     "data": {
      "text/plain": [
       "<a href=\"https://www.kammi.it/scarpe-donna/zeppe/zeppa-340-idp21643.html\" onclick=\"return productClick('elenco_prodotti_zeppa-340_00005607001', 0, this);\">\n",
       "<!-- VARIABILI PER GTM -->\n",
       "<input class=\"codiceProdottoGTM\" type=\"hidden\" value=\"zeppa-340_00005607001\"/>\n",
       "<input class=\"titoloGTM\" type=\"hidden\" value=\"Zeppa 340\"/>\n",
       "<input class=\"prezzoGTM\" type=\"hidden\" value=\"55.92\"/>\n",
       "<input class=\"categoriaGTM\" type=\"hidden\" value=\"Zeppe\"/>\n",
       "<input class=\"brandGTM\" type=\"hidden\" value=\"Kammi\"/>\n",
       "<input class=\"listaGTM\" type=\"hidden\" value=\"Scarpe da donna estive - Zeppe\"/>\n",
       "<div class=\"product-image d-flex align-items-center justify-content-center\">\n",
       "<img alt=\"Zeppa 340\" class=\"img-fluid\" src=\"https://www.kammi.it/ImmaginiProdottiP/zeppa-340_22784_277x277.jpg\"/>\n",
       "<img alt=\"Zeppa 340\" class=\"img-fluid img-2\" src=\"https://www.kammi.it/ImmaginiProdottiP/zeppa-340_22785_277x277.jpg\"/>\n",
       "</div>\n",
       "<div class=\"product-body p-3\">\n",
       "<p class=\"product-title\">Zeppa 340</p>\n",
       "<p class=\"product-description\">Zeppa 5 cm in pelle bianca con cinturini incrociati ed elastico posteriore,...</p>\n",
       "<p class=\"product-price\"><s>69,90</s></p>\n",
       "<p class=\"product-price\">55,92 €</p>\n",
       "</div>\n",
       "</a>"
      ]
     },
     "execution_count": 378,
     "metadata": {},
     "output_type": "execute_result"
    }
   ],
   "source": [
    "div_link[0].find(\"a\")"
   ]
  },
  {
   "cell_type": "code",
   "execution_count": 379,
   "metadata": {},
   "outputs": [
    {
     "name": "stdout",
     "output_type": "stream",
     "text": [
      "16\n"
     ]
    }
   ],
   "source": [
    "a_link = []\n",
    "for i in div_link:\n",
    "    a = i.find(\"a\")\n",
    "    a_link.append(a)\n",
    "print(len(a_link))\n",
    "# a_link[0]"
   ]
  },
  {
   "cell_type": "code",
   "execution_count": 380,
   "metadata": {},
   "outputs": [
    {
     "data": {
      "text/plain": [
       "'https://www.kammi.it/scarpe-donna/zeppe/zeppa-340-idp21643.html'"
      ]
     },
     "execution_count": 380,
     "metadata": {},
     "output_type": "execute_result"
    }
   ],
   "source": [
    "a_link[0].get(\"href\")"
   ]
  },
  {
   "cell_type": "code",
   "execution_count": 381,
   "metadata": {},
   "outputs": [
    {
     "name": "stdout",
     "output_type": "stream",
     "text": [
      "16\n",
      "['https://www.kammi.it/scarpe-donna/zeppe/zeppa-340-idp21643.html', 'https://www.kammi.it/scarpe-donna/zeppe/zeppa-3462-idp21639.html', 'https://www.kammi.it/scarpe-donna/zeppe/zeppa-9005-idp21636.html', 'https://www.kammi.it/scarpe-donna/zeppe/zeppa-902-idp21608.html', 'https://www.kammi.it/scarpe-donna/zeppe/zeppa-3326-idp21594.html', 'https://www.kammi.it/scarpe-donna/zeppe/zeppa-3326-idp21593.html', 'https://www.kammi.it/scarpe-donna/zeppe/zeppa-102-idp20616.html', 'https://www.kammi.it/scarpe-donna/zeppe/zeppa-l3402-idp20615.html', 'https://www.kammi.it/scarpe-donna/zeppe/zeppa-1610-idp20610.html', 'https://www.kammi.it/scarpe-donna/zeppe/zeppa-5700-idp20609.html', 'https://www.kammi.it/scarpe-donna/zeppe/zeppa-5700-idp20573.html', 'https://www.kammi.it/scarpe-donna/zeppe/zeppa-100-idp20565.html', 'https://www.kammi.it/scarpe-donna/zeppe/zeppa-100-idp20564.html', 'https://www.kammi.it/scarpe-donna/zeppe/zeppa-102-idp20563.html', 'https://www.kammi.it/scarpe-donna/zeppe/zeppa-102-idp20562.html', 'https://www.kammi.it/scarpe-donna/zeppe/zeppa-3402-idp19676.html']\n"
     ]
    }
   ],
   "source": [
    "link_prodotti =[]\n",
    "for i in a_link:\n",
    "    link = i.get(\"href\")\n",
    "    link_prodotti.append(link)\n",
    "print(len(link_prodotti))\n",
    "print(link_prodotti)"
   ]
  },
  {
   "cell_type": "code",
   "execution_count": 382,
   "metadata": {},
   "outputs": [
    {
     "name": "stdout",
     "output_type": "stream",
     "text": [
      "https://www.kammi.it/scarpe-donna/zeppe/zeppa-340-idp21643.html\n"
     ]
    }
   ],
   "source": [
    "url_prodotto = link_prodotti[0]\n",
    "print(url_prodotto)"
   ]
  },
  {
   "cell_type": "code",
   "execution_count": 383,
   "metadata": {},
   "outputs": [],
   "source": [
    "req = requests.get(url_prodotto)"
   ]
  },
  {
   "cell_type": "code",
   "execution_count": 384,
   "metadata": {},
   "outputs": [],
   "source": [
    "soup_p = BeautifulSoup(req.text)"
   ]
  },
  {
   "cell_type": "code",
   "execution_count": 385,
   "metadata": {},
   "outputs": [
    {
     "data": {
      "text/plain": [
       "[<button class=\"content d-flex align-items-center justify-content-center p-2 checkRitiroPP\" type=\"button\">37</button>,\n",
       " <button class=\"content d-flex align-items-center justify-content-center p-2 checkRitiroPP\" type=\"button\">38</button>]"
      ]
     },
     "execution_count": 385,
     "metadata": {},
     "output_type": "execute_result"
    }
   ],
   "source": [
    "# cerco diverse cose del prodotto\n",
    "#soup_p.find_all(\"h1\", class_=\"text-black h4 fw-bold\")\n",
    "# soup_p.find_all(\"p\", class_=\"mt-4\")\n",
    "# soup_p.find_all(\"p\", class_=\"price mt-2\")\n",
    "soup_p.find_all(\"button\", class_=\"content d-flex align-items-center justify-content-center p-2 checkRitiroPP\")\n",
    "#soup_p.find_all(\"div\", class_=\"option-color\")"
   ]
  },
  {
   "cell_type": "code",
   "execution_count": 386,
   "metadata": {},
   "outputs": [
    {
     "name": "stdout",
     "output_type": "stream",
     "text": [
      "https://www.kammi.it/scarpe-donna/zeppe/zeppa-340-idp21643.html 1 / 16\n",
      "Zeppa 340\n",
      "[]\n",
      "['37', '38']\n",
      "https://www.kammi.it/scarpe-donna/zeppe/zeppa-3462-idp21639.html 2 / 16\n",
      "Zeppa 3462\n",
      "[]\n",
      "['36', '37', '38', '40', '41']\n",
      "https://www.kammi.it/scarpe-donna/zeppe/zeppa-9005-idp21636.html 3 / 16\n",
      "Zeppa 9005\n",
      "[]\n",
      "['37', '40', '41']\n",
      "https://www.kammi.it/scarpe-donna/zeppe/zeppa-902-idp21608.html 4 / 16\n",
      "Zeppa 902\n",
      "[]\n",
      "['36', '38', '39', '41']\n",
      "https://www.kammi.it/scarpe-donna/zeppe/zeppa-3326-idp21594.html 5 / 16\n",
      "Zeppa 3326\n",
      "['e4a677', '786153']\n",
      "['35', '36', '37', '38', '39', '40', '41']\n",
      "https://www.kammi.it/scarpe-donna/zeppe/zeppa-3326-idp21593.html 6 / 16\n",
      "Zeppa 3326\n",
      "['e4a677', '786153']\n",
      "['35', '36', '37', '38', '39', '40', '41']\n",
      "https://www.kammi.it/scarpe-donna/zeppe/zeppa-102-idp20616.html 7 / 16\n",
      "Zeppa 102\n",
      "['e4a677', '000000', 'ac8e83']\n",
      "['39']\n",
      "https://www.kammi.it/scarpe-donna/zeppe/zeppa-l3402-idp20615.html 8 / 16\n",
      "Zeppa L3402\n",
      "['000000', 'FFFFFF', 'CD7F32']\n",
      "['41']\n",
      "https://www.kammi.it/scarpe-donna/zeppe/zeppa-1610-idp20610.html 9 / 16\n",
      "Zeppa 1610\n",
      "['FFFFFF', '000000', 'eec4ab']\n",
      "['36', '39']\n",
      "https://www.kammi.it/scarpe-donna/zeppe/zeppa-5700-idp20609.html 10 / 16\n",
      "Zeppa 5700\n",
      "['FFFFFF', '000000', 'ac8e83']\n",
      "['37', '38', '39', '40', '41']\n",
      "https://www.kammi.it/scarpe-donna/zeppe/zeppa-5700-idp20573.html 11 / 16\n",
      "Zeppa 5700\n",
      "['FFFFFF', '000000', 'ac8e83']\n",
      "['35', '36', '37', '38', '40']\n",
      "https://www.kammi.it/scarpe-donna/zeppe/zeppa-100-idp20565.html 12 / 16\n",
      "Zeppa 100\n",
      "['FFFFFF', '000000', 'fc0729']\n",
      "['37', '38', '39', '40']\n",
      "https://www.kammi.it/scarpe-donna/zeppe/zeppa-100-idp20564.html 13 / 16\n",
      "Zeppa 100\n",
      "['FFFFFF', '000000', 'fc0729']\n",
      "['37', '38', '39', '40', '41']\n",
      "https://www.kammi.it/scarpe-donna/zeppe/zeppa-102-idp20563.html 14 / 16\n",
      "Zeppa 102\n",
      "['e4a677', '000000', 'ac8e83']\n",
      "['37', '39', '40', '41']\n",
      "https://www.kammi.it/scarpe-donna/zeppe/zeppa-102-idp20562.html 15 / 16\n",
      "Zeppa 102\n",
      "['e4a677', '000000', 'ac8e83']\n",
      "['35', '39', '40', '41']\n",
      "https://www.kammi.it/scarpe-donna/zeppe/zeppa-3402-idp19676.html 16 / 16\n",
      "Zeppa 3402\n",
      "[]\n",
      "['36']\n",
      "16\n",
      "['Zeppa 340', 'Zeppa 3462', 'Zeppa 9005', 'Zeppa 902', 'Zeppa 3326', 'Zeppa 3326', 'Zeppa 102', 'Zeppa L3402', 'Zeppa 1610', 'Zeppa 5700', 'Zeppa 5700', 'Zeppa 100', 'Zeppa 100', 'Zeppa 102', 'Zeppa 102', 'Zeppa 3402']\n",
      "16\n",
      "['bianca con cinturini incrociati ed elastico posteriore, sottopiede imbottito', 'inturini incrociati  con i toni della terra, elastico posteriore e sottopiede imbottito', 'color oro con due fascioni intrecciati e incrociati, con cinturino regolabile e sottopiede imbottito', 'con cinturini incociati bianchi e platino, elastico posterione, soletta sottopiede imbottita', 'color cuoio, con cinturini ad intreccio ed chiusura regolabile alla caviglia', 'color beige, con cinturini ad intreccio ed chiusura regolabile alla caviglia', 'in camoscio terra di siena, tessuto e corda, con lacci alla schiava', 'color platino con tomaia incrociata, fascia elasticizzata e fondo effetto legno', 'nera con due fasce incrociate, profilo in catena color argento e tessuto lamè peltro e nero', 'cuoio con fasce incrociate, profilo in catena color oro e tessuto, fondo bianco', 'bianca con fasce incrociate, profilo in catena color argento e tessuto, fondo bianco', 'in tessuto nero e corda, con lacci alla schiava', 'in tessuto panna e corda, con lacci alla schiava', 'in camoscio nero, tessuto e corda, con lacci alla schiava', 'in camoscio beige, tessuto e corda, con lacci alla schiava', 'marrone con tomaia incrociata, fascia elasticizzata e fondo effetto legno']\n",
      "16\n",
      "['55.92', '55.92', '71.92', '55.92', '76.00', '76.00', '55.92', '59.92', '63.92', '63.92', '63.92', '39.92', '39.92', '55.92', '55.92', '59.92']\n",
      "16\n",
      "[['37', '38'], ['36', '37', '38', '40', '41'], ['37', '40', '41'], ['36', '38', '39', '41'], ['35', '36', '37', '38', '39', '40', '41'], ['35', '36', '37', '38', '39', '40', '41'], ['39'], ['41'], ['36', '39'], ['37', '38', '39', '40', '41'], ['35', '36', '37', '38', '40'], ['37', '38', '39', '40'], ['37', '38', '39', '40', '41'], ['37', '39', '40', '41'], ['35', '39', '40', '41'], ['36']]\n",
      "16\n",
      "[[], [], [], [], ['e4a677', '786153'], ['e4a677', '786153'], ['e4a677', '000000', 'ac8e83'], ['000000', 'FFFFFF', 'CD7F32'], ['FFFFFF', '000000', 'eec4ab'], ['FFFFFF', '000000', 'ac8e83'], ['FFFFFF', '000000', 'ac8e83'], ['FFFFFF', '000000', 'fc0729'], ['FFFFFF', '000000', 'fc0729'], ['e4a677', '000000', 'ac8e83'], ['e4a677', '000000', 'ac8e83'], []]\n"
     ]
    }
   ],
   "source": [
    "contatore = 1 \n",
    "totale = len(link_prodotti)\n",
    "nomi = []\n",
    "descrizioni = []\n",
    "prezzi_interi = []\n",
    "taglie = []\n",
    "colori = []\n",
    "rows = []  # List to store all rows for each color/size combination\n",
    "\n",
    "for link in link_prodotti:\n",
    "    print(link, str(contatore) + \" / \" + str(totale))\n",
    "    contatore += 1\n",
    "    req = requests.get(link)\n",
    "    soup_p = BeautifulSoup(req.text, 'html.parser')\n",
    "\n",
    "    # Get the product name\n",
    "    nome = soup_p.find(\"h1\", class_=\"text-black h4 fw-bold\")\n",
    "    nome = nome.text.strip()\n",
    "    print(nome)\n",
    "    nomi.append(nome)\n",
    "\n",
    "    # Get and clean the description\n",
    "    descrizione = soup_p.find(\"p\", class_=\"mt-4\")\n",
    "    descrizione = descrizione.text\n",
    "    descrizione = descrizione.replace(\"\\n\", \"\")\n",
    "    start = descrizione.find(\"in\")  # Find \"in\"\n",
    "    end = descrizione.find(\".\") if descrizione.find(\".\") != -1 else len(descrizione)\n",
    "    if start != -1 and end != -1:\n",
    "        descrizione = descrizione[start:end].strip()\n",
    "    descrizione = descrizione.replace(\"in pelle\", \"\").replace(\"in nappa\", \"\").strip()\n",
    "    descrizioni.append(descrizione)\n",
    "\n",
    "    # Get and clean the price\n",
    "    intero = soup_p.find(\"p\", class_=\"price mt-2\")\n",
    "    intero = intero.text.replace(\"€\", \"\").replace(\",\", \".\").strip()\n",
    "    prezzi_interi.append(intero)\n",
    "\n",
    "    # Extract colors and sizes\n",
    "    colori_p = soup_p.find_all(\"div\", class_=\"option-color\")\n",
    "    colori_temp = []\n",
    "    for colore in colori_p:\n",
    "        # Check if the color is selected\n",
    "        if \"selected\" in colore.get(\"class\", []):\n",
    "            # Extract selected color (background color)\n",
    "            div = colore.find(\"div\", attrs={\"style\": True})\n",
    "            if div and \"style\" in div.attrs:\n",
    "                style = div[\"style\"]\n",
    "                start = style.find(\"background:#\") + len(\"background:#\")\n",
    "                end = style.find(\";\", start)\n",
    "                if start != -1 and end != -1:\n",
    "                    codice = style[start:end].strip()\n",
    "                    colori_temp.append(codice)  # Add the selected color\n",
    "        else:\n",
    "            # Extract other colors (for non-selected)\n",
    "            div = colore.find(\"div\", attrs={\"style\": True})\n",
    "            if div and \"style\" in div.attrs:\n",
    "                style = div[\"style\"]\n",
    "                start = style.find(\"background:#\") + len(\"background:#\")\n",
    "                end = style.find(\";\", start)\n",
    "                if start != -1 and end != -1:\n",
    "                    codice = style[start:end].strip()\n",
    "                    colori_temp.append(codice)  # Add other color\n",
    "    colori.append(colori_temp)  # Append colors for this product\n",
    "    print(colori_temp)\n",
    "\n",
    "    # Extract available sizes for each color\n",
    "    taglie_p = soup_p.find_all(\"button\", class_=\"content d-flex align-items-center justify-content-center p-2 checkRitiroPP\")\n",
    "    taglie_temp = []\n",
    "    for i in taglie_p:\n",
    "        t = i.text.strip()\n",
    "        taglie_temp.append(t)\n",
    "    taglie.append(taglie_temp)\n",
    "    print(taglie_temp)\n",
    "\n",
    "    # Save color/size combinations in rows\n",
    "    for color in colori_temp:\n",
    "        for size in taglie_temp:\n",
    "            rows.append({\n",
    "                'name': nome,                  # Product name\n",
    "                'color': color,                 # Color option\n",
    "                'size': size,               # Size option (taking the first 2 characters if needed)\n",
    "                'price': intero             # Original price (remove \"€\" sign)\n",
    "            })\n",
    "\n",
    "print(len(nomi))\n",
    "print(nomi)\n",
    "print(len(descrizioni))\n",
    "print(descrizioni)\n",
    "print(len(prezzi_interi))\n",
    "print(prezzi_interi)\n",
    "print(len(taglie))\n",
    "print(taglie)\n",
    "print(len(colori))\n",
    "print(colori)"
   ]
  },
  {
   "cell_type": "code",
   "execution_count": 387,
   "metadata": {},
   "outputs": [],
   "source": [
    "kammi_estive_donne_zeppe = pd.DataFrame(rows)"
   ]
  },
  {
   "cell_type": "code",
   "execution_count": 388,
   "metadata": {},
   "outputs": [
    {
     "name": "stdout",
     "output_type": "stream",
     "text": [
      "Number of duplicate rows based on 'name', 'color', 'size': 47\n"
     ]
    }
   ],
   "source": [
    "duplicates_subset = kammi_estive_donne_zeppe.duplicated(subset=['name', 'color', 'size'])\n",
    "\n",
    "# Count how many duplicates there are based on these columns\n",
    "duplicate_subset_count = duplicates_subset.sum()\n",
    "\n",
    "print(f\"Number of duplicate rows based on 'name', 'color', 'size': {duplicate_subset_count}\")"
   ]
  },
  {
   "cell_type": "code",
   "execution_count": 389,
   "metadata": {},
   "outputs": [
    {
     "name": "stdout",
     "output_type": "stream",
     "text": [
      "Duplicate rows based on 'name', 'color', and 'size':\n",
      "           name   color size  price\n",
      "14   Zeppa 3326  e4a677   35  76.00\n",
      "15   Zeppa 3326  e4a677   36  76.00\n",
      "16   Zeppa 3326  e4a677   37  76.00\n",
      "17   Zeppa 3326  e4a677   38  76.00\n",
      "18   Zeppa 3326  e4a677   39  76.00\n",
      "19   Zeppa 3326  e4a677   40  76.00\n",
      "20   Zeppa 3326  e4a677   41  76.00\n",
      "21   Zeppa 3326  786153   35  76.00\n",
      "22   Zeppa 3326  786153   36  76.00\n",
      "23   Zeppa 3326  786153   37  76.00\n",
      "24   Zeppa 3326  786153   38  76.00\n",
      "25   Zeppa 3326  786153   39  76.00\n",
      "26   Zeppa 3326  786153   40  76.00\n",
      "27   Zeppa 3326  786153   41  76.00\n",
      "57   Zeppa 5700  FFFFFF   37  63.92\n",
      "58   Zeppa 5700  FFFFFF   38  63.92\n",
      "59   Zeppa 5700  FFFFFF   40  63.92\n",
      "62   Zeppa 5700  000000   37  63.92\n",
      "63   Zeppa 5700  000000   38  63.92\n",
      "64   Zeppa 5700  000000   40  63.92\n",
      "67   Zeppa 5700  ac8e83   37  63.92\n",
      "68   Zeppa 5700  ac8e83   38  63.92\n",
      "69   Zeppa 5700  ac8e83   40  63.92\n",
      "82    Zeppa 100  FFFFFF   37  39.92\n",
      "83    Zeppa 100  FFFFFF   38  39.92\n",
      "84    Zeppa 100  FFFFFF   39  39.92\n",
      "85    Zeppa 100  FFFFFF   40  39.92\n",
      "87    Zeppa 100  000000   37  39.92\n",
      "88    Zeppa 100  000000   38  39.92\n",
      "89    Zeppa 100  000000   39  39.92\n",
      "90    Zeppa 100  000000   40  39.92\n",
      "92    Zeppa 100  fc0729   37  39.92\n",
      "93    Zeppa 100  fc0729   38  39.92\n",
      "94    Zeppa 100  fc0729   39  39.92\n",
      "95    Zeppa 100  fc0729   40  39.92\n",
      "98    Zeppa 102  e4a677   39  55.92\n",
      "102   Zeppa 102  000000   39  55.92\n",
      "106   Zeppa 102  ac8e83   39  55.92\n",
      "110   Zeppa 102  e4a677   39  55.92\n",
      "111   Zeppa 102  e4a677   40  55.92\n",
      "112   Zeppa 102  e4a677   41  55.92\n",
      "114   Zeppa 102  000000   39  55.92\n",
      "115   Zeppa 102  000000   40  55.92\n",
      "116   Zeppa 102  000000   41  55.92\n",
      "118   Zeppa 102  ac8e83   39  55.92\n",
      "119   Zeppa 102  ac8e83   40  55.92\n",
      "120   Zeppa 102  ac8e83   41  55.92\n"
     ]
    }
   ],
   "source": [
    "duplicates_subset = kammi_estive_donne_zeppe[kammi_estive_donne_zeppe.duplicated(subset=['name', 'color', 'size'])]\n",
    "print(\"Duplicate rows based on 'name', 'color', and 'size':\")\n",
    "print(duplicates_subset)"
   ]
  },
  {
   "cell_type": "code",
   "execution_count": 390,
   "metadata": {},
   "outputs": [
    {
     "name": "stdout",
     "output_type": "stream",
     "text": [
      "           name   color size  price\n",
      "0    Zeppa 3326  e4a677   35  76.00\n",
      "1    Zeppa 3326  e4a677   36  76.00\n",
      "2    Zeppa 3326  e4a677   37  76.00\n",
      "3    Zeppa 3326  e4a677   38  76.00\n",
      "4    Zeppa 3326  e4a677   39  76.00\n",
      "..          ...     ...  ...    ...\n",
      "107   Zeppa 102  ac8e83   40  55.92\n",
      "108   Zeppa 102  ac8e83   41  55.92\n",
      "109   Zeppa 102  e4a677   35  55.92\n",
      "113   Zeppa 102  000000   35  55.92\n",
      "117   Zeppa 102  ac8e83   35  55.92\n",
      "\n",
      "[74 rows x 4 columns]\n"
     ]
    }
   ],
   "source": [
    "kammi_estive_donne_zeppe = kammi_estive_donne_zeppe.drop_duplicates(subset=['name', 'color', 'size'])\n",
    "\n",
    "# You can print the result to check\n",
    "print(kammi_estive_donne_zeppe)"
   ]
  },
  {
   "cell_type": "code",
   "execution_count": 391,
   "metadata": {},
   "outputs": [],
   "source": [
    "kammi_estive_donne_zeppe.to_csv('kammi_estive_donne_zeppe.csv',index=False)"
   ]
  },
  {
   "cell_type": "code",
   "execution_count": 392,
   "metadata": {},
   "outputs": [],
   "source": [
    "import webcolors"
   ]
  },
  {
   "cell_type": "code",
   "execution_count": 393,
   "metadata": {},
   "outputs": [
    {
     "name": "stdout",
     "output_type": "stream",
     "text": [
      "0      e4a677\n",
      "1      e4a677\n",
      "2      e4a677\n",
      "3      e4a677\n",
      "4      e4a677\n",
      "        ...  \n",
      "107    ac8e83\n",
      "108    ac8e83\n",
      "109    e4a677\n",
      "113    000000\n",
      "117    ac8e83\n",
      "Name: color, Length: 74, dtype: object\n"
     ]
    }
   ],
   "source": [
    "print(kammi_estive_donne_zeppe['color'])"
   ]
  },
  {
   "cell_type": "code",
   "execution_count": 394,
   "metadata": {},
   "outputs": [],
   "source": [
    "import numpy as np"
   ]
  },
  {
   "cell_type": "code",
   "execution_count": 395,
   "metadata": {},
   "outputs": [
    {
     "name": "stdout",
     "output_type": "stream",
     "text": [
      "           name   color size  price color_name\n",
      "0    Zeppa 3326  e4a677   35  76.00    #e4a677\n",
      "1    Zeppa 3326  e4a677   36  76.00    #e4a677\n",
      "2    Zeppa 3326  e4a677   37  76.00    #e4a677\n",
      "3    Zeppa 3326  e4a677   38  76.00    #e4a677\n",
      "4    Zeppa 3326  e4a677   39  76.00    #e4a677\n",
      "..          ...     ...  ...    ...        ...\n",
      "107   Zeppa 102  ac8e83   40  55.92    #ac8e83\n",
      "108   Zeppa 102  ac8e83   41  55.92    #ac8e83\n",
      "109   Zeppa 102  e4a677   35  55.92    #e4a677\n",
      "113   Zeppa 102  000000   35  55.92        NaN\n",
      "117   Zeppa 102  ac8e83   35  55.92    #ac8e83\n",
      "\n",
      "[74 rows x 5 columns]\n"
     ]
    }
   ],
   "source": [
    "# Function to convert hex to color name with validation\n",
    "def hex_to_color_name(hex_color):\n",
    "    # Ensure the hex code starts with '#'\n",
    "    if isinstance(hex_color, str):\n",
    "        if not hex_color.startswith('#'):\n",
    "            hex_color = '#' + hex_color  # Add '#' if missing\n",
    "\n",
    "        # Check if the color is black or a zero value, then return null\n",
    "        if hex_color == '#000000':\n",
    "            return np.nan  # or you can use 'null' or any other placeholder for invalid colors\n",
    "\n",
    "        # Check if hex color is valid\n",
    "        if len(hex_color) == 7 and all(c in '0123456789abcdefABCDEF' for c in hex_color[1:]):\n",
    "            try:\n",
    "                # Convert hex to color name using webcolors\n",
    "                color_name = webcolors.hex_to_name(hex_color)\n",
    "                return color_name\n",
    "            except ValueError:\n",
    "                # Return hex code if no matching name is found\n",
    "                return hex_color\n",
    "        else:\n",
    "            return np.nan  # Return null for invalid color\n",
    "    return np.nan  # Return null if input is not a string\n",
    "\n",
    "\n",
    "kammi_estive_donne_zeppe['color_name'] = kammi_estive_donne_zeppe['color'].apply(lambda x: hex_to_color_name(x))\n",
    "\n",
    "# Print the updated DataFrame with the color names\n",
    "print(kammi_estive_donne_zeppe)"
   ]
  },
  {
   "cell_type": "code",
   "execution_count": 402,
   "metadata": {},
   "outputs": [
    {
     "name": "stdout",
     "output_type": "stream",
     "text": [
      "count        54\n",
      "unique        7\n",
      "top       white\n",
      "freq         15\n",
      "Name: color_name, dtype: object\n"
     ]
    }
   ],
   "source": [
    "print(kammi_estive_donne_zeppe['color_name'].describe())"
   ]
  },
  {
   "cell_type": "code",
   "execution_count": null,
   "metadata": {},
   "outputs": [],
   "source": []
  }
 ],
 "metadata": {
  "kernelspec": {
   "display_name": "Python 3",
   "language": "python",
   "name": "python3"
  },
  "language_info": {
   "codemirror_mode": {
    "name": "ipython",
    "version": 3
   },
   "file_extension": ".py",
   "mimetype": "text/x-python",
   "name": "python",
   "nbconvert_exporter": "python",
   "pygments_lexer": "ipython3",
   "version": "3.13.0"
  }
 },
 "nbformat": 4,
 "nbformat_minor": 2
}

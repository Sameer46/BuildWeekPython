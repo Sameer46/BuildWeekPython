{
 "cells": [
  {
   "cell_type": "code",
   "execution_count": 1,
   "metadata": {},
   "outputs": [],
   "source": [
    "from bs4 import BeautifulSoup\n",
    "import pandas as pd \n",
    "import requests\n",
    "from selenium import webdriver\n",
    "from selenium.webdriver.chrome.service import Service\n",
    "from webdriver_manager.chrome import ChromeDriverManager\n",
    "import time"
   ]
  },
  {
   "cell_type": "code",
   "execution_count": 2,
   "metadata": {},
   "outputs": [
    {
     "name": "stdout",
     "output_type": "stream",
     "text": [
      "https://www.kammi.it/scarpe-donna/stivali-stivaletti/\n"
     ]
    }
   ],
   "source": [
    "url_donna = \"https://www.kammi.it/scarpe-donna/\"\n",
    "url_d_sneakers = \"stivali-stivaletti/\" #se non uso questo pezzo di url posso \n",
    "url = url_donna + url_d_sneakers\n",
    "print(url)"
   ]
  },
  {
   "cell_type": "code",
   "execution_count": 3,
   "metadata": {},
   "outputs": [],
   "source": [
    "# Scrolla la pagina lentamente fino in fondo\n",
    "def scroll_to_bottom(driver, pause_time=2):\n",
    "    last_height = driver.execute_script(\"return document.body.scrollHeight\")\n",
    "    while True:\n",
    "        # Scrolla in fondo\n",
    "        driver.execute_script(\"window.scrollTo(0, document.body.scrollHeight);\")\n",
    "        time.sleep(pause_time)  # Aspetta che la pagina carichi nuovi contenuti\n",
    "        # Calcola la nuova altezza e confrontala\n",
    "        new_height = driver.execute_script(\"return document.body.scrollHeight\")\n",
    "        if new_height == last_height:\n",
    "            break\n",
    "        last_height = new_height"
   ]
  },
  {
   "cell_type": "code",
   "execution_count": 4,
   "metadata": {},
   "outputs": [],
   "source": [
    "options = webdriver.ChromeOptions()\n",
    "options.add_argument('--headless')  # Run in headless mode (no UI)\n",
    "driver = webdriver.Chrome(service=Service(ChromeDriverManager().install()), options=options) # è il \"pilota\" che fa le azioni sul browser  \n",
    "# driver.maximize_window() # apre e massimizza Chrome\n",
    "driver.get(url) # apre la pagina su Chrome"
   ]
  },
  {
   "cell_type": "code",
   "execution_count": 5,
   "metadata": {},
   "outputs": [],
   "source": [
    "# Scrolla fino in fondo per caricare tutti i prodotti\n",
    "scroll_to_bottom(driver)"
   ]
  },
  {
   "cell_type": "code",
   "execution_count": 6,
   "metadata": {},
   "outputs": [],
   "source": [
    "soup = BeautifulSoup(driver.page_source)"
   ]
  },
  {
   "cell_type": "code",
   "execution_count": 7,
   "metadata": {},
   "outputs": [],
   "source": [
    "# print(soup)"
   ]
  },
  {
   "cell_type": "code",
   "execution_count": 8,
   "metadata": {},
   "outputs": [],
   "source": [
    "# cerco i nomi dei prodotti\n",
    "names_dirty = soup.find_all(\"p\", class_=\"product-title\")\n",
    "# print(nomi_dirty)"
   ]
  },
  {
   "cell_type": "code",
   "execution_count": 9,
   "metadata": {},
   "outputs": [
    {
     "data": {
      "text/plain": [
       "2"
      ]
     },
     "execution_count": 9,
     "metadata": {},
     "output_type": "execute_result"
    }
   ],
   "source": [
    "len(names_dirty)"
   ]
  },
  {
   "cell_type": "code",
   "execution_count": 10,
   "metadata": {},
   "outputs": [
    {
     "name": "stdout",
     "output_type": "stream",
     "text": [
      "[<p class=\"product-title\">Tronchetto 6022</p>, <p class=\"product-title\">Tronchetto 6022</p>]\n"
     ]
    }
   ],
   "source": [
    "print(names_dirty)"
   ]
  },
  {
   "cell_type": "code",
   "execution_count": 11,
   "metadata": {},
   "outputs": [
    {
     "name": "stdout",
     "output_type": "stream",
     "text": [
      "['Tronchetto 6022', 'Tronchetto 6022']\n"
     ]
    }
   ],
   "source": [
    "nomi_prodotti_home = []\n",
    "for nome in names_dirty:\n",
    "    nome = nome.text.strip()\n",
    "    nomi_prodotti_home.append(nome)\n",
    "print(nomi_prodotti_home)"
   ]
  },
  {
   "cell_type": "code",
   "execution_count": 12,
   "metadata": {},
   "outputs": [
    {
     "data": {
      "text/plain": [
       "2"
      ]
     },
     "execution_count": 12,
     "metadata": {},
     "output_type": "execute_result"
    }
   ],
   "source": [
    "len(nomi_prodotti_home)"
   ]
  },
  {
   "cell_type": "code",
   "execution_count": 13,
   "metadata": {},
   "outputs": [
    {
     "name": "stdout",
     "output_type": "stream",
     "text": [
      "2\n"
     ]
    }
   ],
   "source": [
    "# cerco i link dei prodotti\n",
    "div_link = soup.find_all (\"div\", class_=\"col-6 col-md-4 col-lg-3 col-xl-auto mt-4\")\n",
    "print(len(div_link))"
   ]
  },
  {
   "cell_type": "code",
   "execution_count": 14,
   "metadata": {},
   "outputs": [
    {
     "data": {
      "text/plain": [
       "<a href=\"https://www.kammi.it/scarpe-donna/stivali-stivaletti/tronchetto/tronchetto-6022-idp21357.html\" onclick=\"return productClick('elenco_prodotti_tronchetto-6022_00005334001', 0, this);\">\n",
       "<!-- VARIABILI PER GTM -->\n",
       "<input class=\"codiceProdottoGTM\" type=\"hidden\" value=\"tronchetto-6022_00005334001\"/>\n",
       "<input class=\"titoloGTM\" type=\"hidden\" value=\"Tronchetto 6022\"/>\n",
       "<input class=\"prezzoGTM\" type=\"hidden\" value=\"125.10\"/>\n",
       "<input class=\"categoriaGTM\" type=\"hidden\" value=\"Stivali e stivaletti\"/>\n",
       "<input class=\"brandGTM\" type=\"hidden\" value=\"Kammi\"/>\n",
       "<input class=\"listaGTM\" type=\"hidden\" value=\"Scarpe da donna estive - Stivali e stivaletti\"/>\n",
       "<img class=\"mditaly\" src=\"https://www.kammi.it/img/madeInItaly_vert.jpg\"/>\n",
       "<div class=\"product-image d-flex align-items-center justify-content-center\">\n",
       "<img alt=\"Tronchetto 6022\" class=\"img-fluid\" src=\"https://www.kammi.it/ImmaginiProdottiP/tronchetto-6022_21385_277x277.jpg\"/>\n",
       "<img alt=\"Tronchetto 6022\" class=\"img-fluid img-2\" src=\"https://www.kammi.it/ImmaginiProdottiP/tronchetto-6022_21386_277x277.jpg\"/>\n",
       "</div>\n",
       "<div class=\"product-body p-3\">\n",
       "<p class=\"product-title\">Tronchetto 6022</p>\n",
       "<p class=\"product-description\">Tronchetto a punta in morbida pelle colore nude, tacco 7 cm e zip posteriore</p>\n",
       "<p class=\"product-price\"><s>139,00</s></p>\n",
       "<p class=\"product-price\">125,10 €</p>\n",
       "</div>\n",
       "</a>"
      ]
     },
     "execution_count": 14,
     "metadata": {},
     "output_type": "execute_result"
    }
   ],
   "source": [
    "div_link[0].find(\"a\")"
   ]
  },
  {
   "cell_type": "code",
   "execution_count": 15,
   "metadata": {},
   "outputs": [
    {
     "name": "stdout",
     "output_type": "stream",
     "text": [
      "2\n"
     ]
    }
   ],
   "source": [
    "a_link = []\n",
    "for i in div_link:\n",
    "    a = i.find(\"a\")\n",
    "    a_link.append(a)\n",
    "print(len(a_link))\n",
    "# a_link[0]"
   ]
  },
  {
   "cell_type": "code",
   "execution_count": 16,
   "metadata": {},
   "outputs": [
    {
     "data": {
      "text/plain": [
       "'https://www.kammi.it/scarpe-donna/stivali-stivaletti/tronchetto/tronchetto-6022-idp21357.html'"
      ]
     },
     "execution_count": 16,
     "metadata": {},
     "output_type": "execute_result"
    }
   ],
   "source": [
    "a_link[0].get(\"href\")"
   ]
  },
  {
   "cell_type": "code",
   "execution_count": 17,
   "metadata": {},
   "outputs": [
    {
     "name": "stdout",
     "output_type": "stream",
     "text": [
      "2\n",
      "['https://www.kammi.it/scarpe-donna/stivali-stivaletti/tronchetto/tronchetto-6022-idp21357.html', 'https://www.kammi.it/scarpe-donna/stivali-stivaletti/tronchetto/tronchetto-6022-idp21356.html']\n"
     ]
    }
   ],
   "source": [
    "link_prodotti =[]\n",
    "for i in a_link:\n",
    "    link = i.get(\"href\")\n",
    "    link_prodotti.append(link)\n",
    "print(len(link_prodotti))\n",
    "print(link_prodotti)"
   ]
  },
  {
   "cell_type": "code",
   "execution_count": 18,
   "metadata": {},
   "outputs": [
    {
     "name": "stdout",
     "output_type": "stream",
     "text": [
      "https://www.kammi.it/scarpe-donna/stivali-stivaletti/tronchetto/tronchetto-6022-idp21357.html\n"
     ]
    }
   ],
   "source": [
    "url_prodotto = link_prodotti[0]\n",
    "print(url_prodotto)"
   ]
  },
  {
   "cell_type": "code",
   "execution_count": 19,
   "metadata": {},
   "outputs": [],
   "source": [
    "req = requests.get(url_prodotto)"
   ]
  },
  {
   "cell_type": "code",
   "execution_count": 20,
   "metadata": {},
   "outputs": [],
   "source": [
    "soup_p = BeautifulSoup(req.text)"
   ]
  },
  {
   "cell_type": "code",
   "execution_count": 21,
   "metadata": {},
   "outputs": [
    {
     "data": {
      "text/plain": [
       "[<button class=\"content d-flex align-items-center justify-content-center p-2 checkRitiroPP\" type=\"button\">35</button>,\n",
       " <button class=\"content d-flex align-items-center justify-content-center p-2 checkRitiroPP\" type=\"button\">37</button>,\n",
       " <button class=\"content d-flex align-items-center justify-content-center p-2 checkRitiroPP\" type=\"button\">38</button>,\n",
       " <button class=\"content d-flex align-items-center justify-content-center p-2 checkRitiroPP\" type=\"button\">39</button>,\n",
       " <button class=\"content d-flex align-items-center justify-content-center p-2 checkRitiroPP\" type=\"button\">40</button>]"
      ]
     },
     "execution_count": 21,
     "metadata": {},
     "output_type": "execute_result"
    }
   ],
   "source": [
    "# cerco diverse cose del prodotto\n",
    "#soup_p.find_all(\"h1\", class_=\"text-black h4 fw-bold\")\n",
    "# soup_p.find_all(\"p\", class_=\"mt-4\")\n",
    "# soup_p.find_all(\"p\", class_=\"price mt-2\")\n",
    "soup_p.find_all(\"button\", class_=\"content d-flex align-items-center justify-content-center p-2 checkRitiroPP\")\n",
    "#soup_p.find_all(\"div\", class_=\"option-color\")"
   ]
  },
  {
   "cell_type": "code",
   "execution_count": 22,
   "metadata": {},
   "outputs": [
    {
     "name": "stdout",
     "output_type": "stream",
     "text": [
      "https://www.kammi.it/scarpe-donna/stivali-stivaletti/tronchetto/tronchetto-6022-idp21357.html 1 / 2\n",
      "Tronchetto 6022\n",
      "['FFFFFF', 'f5d7b3']\n",
      "['35', '37', '38', '39', '40']\n",
      "https://www.kammi.it/scarpe-donna/stivali-stivaletti/tronchetto/tronchetto-6022-idp21356.html 2 / 2\n",
      "Tronchetto 6022\n",
      "['FFFFFF', 'f5d7b3']\n",
      "['35', '37', '40']\n",
      "2\n",
      "['Tronchetto 6022', 'Tronchetto 6022']\n",
      "2\n",
      "['in morbida pelle colore nude, tacco 7 cm e zip posteriore', 'in morbida pelle colore latte, tacco 7 cm e zip posteriore']\n",
      "2\n",
      "['125.10', '125.10']\n",
      "2\n",
      "[['35', '37', '38', '39', '40'], ['35', '37', '40']]\n",
      "2\n",
      "[['FFFFFF', 'f5d7b3'], ['FFFFFF', 'f5d7b3']]\n"
     ]
    }
   ],
   "source": [
    "contatore = 1 \n",
    "totale = len(link_prodotti)\n",
    "nomi = []\n",
    "descrizioni = []\n",
    "prezzi_interi = []\n",
    "taglie = []\n",
    "colori = []\n",
    "rows = []  # List to store all rows for each color/size combination\n",
    "\n",
    "for link in link_prodotti:\n",
    "    print(link, str(contatore) + \" / \" + str(totale))\n",
    "    contatore += 1\n",
    "    req = requests.get(link)\n",
    "    soup_p = BeautifulSoup(req.text, 'html.parser')\n",
    "\n",
    "    # Get the product name\n",
    "    nome = soup_p.find(\"h1\", class_=\"text-black h4 fw-bold\")\n",
    "    nome = nome.text.strip()\n",
    "    print(nome)\n",
    "    nomi.append(nome)\n",
    "\n",
    "    # Get and clean the description\n",
    "    descrizione = soup_p.find(\"p\", class_=\"mt-4\")\n",
    "    descrizione = descrizione.text\n",
    "    descrizione = descrizione.replace(\"\\n\", \"\")\n",
    "    start = descrizione.find(\"in\")  # Find \"in\"\n",
    "    end = descrizione.find(\".\") if descrizione.find(\".\") != -1 else len(descrizione)\n",
    "    if start != -1 and end != -1:\n",
    "        descrizione = descrizione[start:end].strip()\n",
    "    descrizione = descrizione.replace(\"in pelle\", \"\").replace(\"in nappa\", \"\").strip()\n",
    "    descrizioni.append(descrizione)\n",
    "\n",
    "    # Get and clean the price\n",
    "    intero = soup_p.find(\"p\", class_=\"price mt-2\")\n",
    "    intero = intero.text.replace(\"€\", \"\").replace(\",\", \".\").strip()\n",
    "    prezzi_interi.append(intero)\n",
    "\n",
    "    # Extract colors and sizes\n",
    "    colori_p = soup_p.find_all(\"div\", class_=\"option-color\")\n",
    "    colori_temp = []\n",
    "    for colore in colori_p:\n",
    "        # Check if the color is selected\n",
    "        if \"selected\" in colore.get(\"class\", []):\n",
    "            # Extract selected color (background color)\n",
    "            div = colore.find(\"div\", attrs={\"style\": True})\n",
    "            if div and \"style\" in div.attrs:\n",
    "                style = div[\"style\"]\n",
    "                start = style.find(\"background:#\") + len(\"background:#\")\n",
    "                end = style.find(\";\", start)\n",
    "                if start != -1 and end != -1:\n",
    "                    codice = style[start:end].strip()\n",
    "                    colori_temp.append(codice)  # Add the selected color\n",
    "        else:\n",
    "            # Extract other colors (for non-selected)\n",
    "            div = colore.find(\"div\", attrs={\"style\": True})\n",
    "            if div and \"style\" in div.attrs:\n",
    "                style = div[\"style\"]\n",
    "                start = style.find(\"background:#\") + len(\"background:#\")\n",
    "                end = style.find(\";\", start)\n",
    "                if start != -1 and end != -1:\n",
    "                    codice = style[start:end].strip()\n",
    "                    colori_temp.append(codice)  # Add other color\n",
    "    colori.append(colori_temp)  # Append colors for this product\n",
    "    print(colori_temp)\n",
    "\n",
    "    # Extract available sizes for each color\n",
    "    taglie_p = soup_p.find_all(\"button\", class_=\"content d-flex align-items-center justify-content-center p-2 checkRitiroPP\")\n",
    "    taglie_temp = []\n",
    "    for i in taglie_p:\n",
    "        t = i.text.strip()\n",
    "        taglie_temp.append(t)\n",
    "    taglie.append(taglie_temp)\n",
    "    print(taglie_temp)\n",
    "\n",
    "    # Save color/size combinations in rows\n",
    "    for color in colori_temp:\n",
    "        for size in taglie_temp:\n",
    "            rows.append({\n",
    "                'name': nome,                  # Product name\n",
    "                'color': color,                 # Color option\n",
    "                'size': size,               # Size option (taking the first 2 characters if needed)\n",
    "                'price': intero             # Original price (remove \"€\" sign)\n",
    "            })\n",
    "\n",
    "print(len(nomi))\n",
    "print(nomi)\n",
    "print(len(descrizioni))\n",
    "print(descrizioni)\n",
    "print(len(prezzi_interi))\n",
    "print(prezzi_interi)\n",
    "print(len(taglie))\n",
    "print(taglie)\n",
    "print(len(colori))\n",
    "print(colori)"
   ]
  },
  {
   "cell_type": "code",
   "execution_count": 23,
   "metadata": {},
   "outputs": [],
   "source": [
    "kammi_estive_donne_stivali = pd.DataFrame(rows)"
   ]
  },
  {
   "cell_type": "code",
   "execution_count": 24,
   "metadata": {},
   "outputs": [
    {
     "name": "stdout",
     "output_type": "stream",
     "text": [
      "Number of duplicate rows based on 'name', 'color', 'size': 6\n"
     ]
    }
   ],
   "source": [
    "duplicates_subset = kammi_estive_donne_stivali.duplicated(subset=['name', 'color', 'size'])\n",
    "\n",
    "# Count how many duplicates there are based on these columns\n",
    "duplicate_subset_count = duplicates_subset.sum()\n",
    "\n",
    "print(f\"Number of duplicate rows based on 'name', 'color', 'size': {duplicate_subset_count}\")"
   ]
  },
  {
   "cell_type": "code",
   "execution_count": 25,
   "metadata": {},
   "outputs": [
    {
     "name": "stdout",
     "output_type": "stream",
     "text": [
      "Duplicate rows based on 'name', 'color', and 'size':\n",
      "               name   color size   price\n",
      "10  Tronchetto 6022  FFFFFF   35  125.10\n",
      "11  Tronchetto 6022  FFFFFF   37  125.10\n",
      "12  Tronchetto 6022  FFFFFF   40  125.10\n",
      "13  Tronchetto 6022  f5d7b3   35  125.10\n",
      "14  Tronchetto 6022  f5d7b3   37  125.10\n",
      "15  Tronchetto 6022  f5d7b3   40  125.10\n"
     ]
    }
   ],
   "source": [
    "duplicates_subset = kammi_estive_donne_stivali[kammi_estive_donne_stivali.duplicated(subset=['name', 'color', 'size'])]\n",
    "print(\"Duplicate rows based on 'name', 'color', and 'size':\")\n",
    "print(duplicates_subset)"
   ]
  },
  {
   "cell_type": "code",
   "execution_count": 26,
   "metadata": {},
   "outputs": [
    {
     "name": "stdout",
     "output_type": "stream",
     "text": [
      "              name   color size   price\n",
      "0  Tronchetto 6022  FFFFFF   35  125.10\n",
      "1  Tronchetto 6022  FFFFFF   37  125.10\n",
      "2  Tronchetto 6022  FFFFFF   38  125.10\n",
      "3  Tronchetto 6022  FFFFFF   39  125.10\n",
      "4  Tronchetto 6022  FFFFFF   40  125.10\n",
      "5  Tronchetto 6022  f5d7b3   35  125.10\n",
      "6  Tronchetto 6022  f5d7b3   37  125.10\n",
      "7  Tronchetto 6022  f5d7b3   38  125.10\n",
      "8  Tronchetto 6022  f5d7b3   39  125.10\n",
      "9  Tronchetto 6022  f5d7b3   40  125.10\n"
     ]
    }
   ],
   "source": [
    "kammi_estive_donne_stivali = kammi_estive_donne_stivali.drop_duplicates(subset=['name', 'color', 'size'])\n",
    "\n",
    "# You can print the result to check\n",
    "print(kammi_estive_donne_stivali)"
   ]
  },
  {
   "cell_type": "code",
   "execution_count": 28,
   "metadata": {},
   "outputs": [],
   "source": [
    "kammi_estive_donne_stivali.to_csv('kammi_estive_donne_stivali.csv',index=False)"
   ]
  },
  {
   "cell_type": "code",
   "execution_count": null,
   "metadata": {},
   "outputs": [],
   "source": []
  }
 ],
 "metadata": {
  "kernelspec": {
   "display_name": "Python 3",
   "language": "python",
   "name": "python3"
  },
  "language_info": {
   "codemirror_mode": {
    "name": "ipython",
    "version": 3
   },
   "file_extension": ".py",
   "mimetype": "text/x-python",
   "name": "python",
   "nbconvert_exporter": "python",
   "pygments_lexer": "ipython3",
   "version": "3.13.0"
  }
 },
 "nbformat": 4,
 "nbformat_minor": 2
}

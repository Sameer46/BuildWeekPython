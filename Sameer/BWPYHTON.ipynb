{
 "cells": [
  {
   "cell_type": "code",
   "execution_count": 1,
   "metadata": {},
   "outputs": [],
   "source": [
    "import pandas as pd\n"
   ]
  },
  {
   "cell_type": "code",
   "execution_count": 8,
   "metadata": {},
   "outputs": [],
   "source": [
    "file_path_kammi = r'G:\\EPICODE\\GITHUB\\BuildWeekPython\\Sameer\\Kammicsv.csv'\n",
    "file_path_superga = r'G:\\EPICODE\\GITHUB\\BuildWeekPython\\Sameer\\Supergacsv.csv'\n",
    "\n",
    "\n",
    "db_superga = pd.read_csv(file_path_superga, delimiter=',')\n",
    "db_kammi = pd.read_csv(file_path_kammi,delimiter=',')"
   ]
  },
  {
   "cell_type": "code",
   "execution_count": 10,
   "metadata": {},
   "outputs": [
    {
     "name": "stdout",
     "output_type": "stream",
     "text": [
      "     Ciabatta 800  d6d0da  36  Unnamed: 3     44  sandali\n",
      "0    Ciabatta 800  d6d0da  38         NaN  44.00  sandali\n",
      "1    Ciabatta 800  d6d0da  39         NaN  44.00  sandali\n",
      "2    Ciabatta 800  eec4ab  36         NaN  44.00  sandali\n",
      "3    Ciabatta 800  eec4ab  38         NaN  44.00  sandali\n",
      "4    Ciabatta 800  eec4ab  39         NaN  44.00  sandali\n",
      "..            ...     ...  ..         ...    ...      ...\n",
      "304     Zeppa 102  ac8e83  40         NaN  55.92    zeppe\n",
      "305     Zeppa 102  ac8e83  41         NaN  55.92    zeppe\n",
      "306     Zeppa 102  e4a677  35         NaN  55.92    zeppe\n",
      "307     Zeppa 102       0  35         NaN  55.92    zeppe\n",
      "308     Zeppa 102  ac8e83  35         NaN  55.92    zeppe\n",
      "\n",
      "[309 rows x 6 columns]\n"
     ]
    }
   ],
   "source": [
    "db_superga = pd.DataFrame(db_superga)\n",
    "db_kammi = pd.DataFrame(db_kammi)\n",
    "\n",
    "print(db_kammi)\n"
   ]
  },
  {
   "cell_type": "code",
   "execution_count": 11,
   "metadata": {},
   "outputs": [],
   "source": [
    "db_superga.columns = ['NOME', 'COLORE', 'TAGLIA', 'PREZZO_SCONTATO', 'PREZZO', 'CATEGORIA']\n",
    "db_kammi.columns = ['NOME', 'COLORE', 'TAGLIA', 'PREZZO_SCONTATO', 'PREZZO', 'CATEGORIA']"
   ]
  },
  {
   "cell_type": "code",
   "execution_count": 12,
   "metadata": {},
   "outputs": [
    {
     "name": "stdout",
     "output_type": "stream",
     "text": [
      "           NOME       COLORE  TAGLIA  PREZZO_SCONTATO  PREZZO   CATEGORIA\n",
      "0  4121-FANRBRW  PALMS-BLACK      36             14.0      35  infradito \n",
      "1  4121-FANRBRW  PALMS-BLACK      37             14.0      35  infradito \n",
      "2  4121-FANRBRW  PALMS-BLACK      38             14.0      35  infradito \n",
      "3  4121-FANRBRW  PALMS-BLACK      39             14.0      35  infradito \n",
      "4  4121-FANRBRW  PALMS-BLACK      40             14.0      35  infradito \n"
     ]
    }
   ],
   "source": [
    "print(db_superga.head())"
   ]
  },
  {
   "cell_type": "code",
   "execution_count": null,
   "metadata": {},
   "outputs": [],
   "source": []
  },
  {
   "cell_type": "code",
   "execution_count": null,
   "metadata": {},
   "outputs": [],
   "source": []
  }
 ],
 "metadata": {
  "kernelspec": {
   "display_name": "Python 3",
   "language": "python",
   "name": "python3"
  },
  "language_info": {
   "codemirror_mode": {
    "name": "ipython",
    "version": 3
   },
   "file_extension": ".py",
   "mimetype": "text/x-python",
   "name": "python",
   "nbconvert_exporter": "python",
   "pygments_lexer": "ipython3",
   "version": "3.13.0"
  }
 },
 "nbformat": 4,
 "nbformat_minor": 2
}

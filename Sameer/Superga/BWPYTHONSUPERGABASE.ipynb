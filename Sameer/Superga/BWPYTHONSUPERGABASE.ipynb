{
 "cells": [
  {
   "cell_type": "code",
   "execution_count": 13,
   "metadata": {},
   "outputs": [],
   "source": [
    "from bs4 import BeautifulSoup\n",
    "import pandas as pd \n",
    "import requests\n",
    "from selenium import webdriver\n",
    "from selenium.webdriver.chrome.service import Service\n",
    "from webdriver_manager.chrome import ChromeDriverManager\n",
    "import time\n"
   ]
  },
  {
   "cell_type": "code",
   "execution_count": 10,
   "metadata": {},
   "outputs": [
    {
     "name": "stdout",
     "output_type": "stream",
     "text": [
      "https://www.superga.com/collections/womens-platform?filter.p.m.custom.seasons=Spring%2FSummer\n",
      "<Response [200]>\n"
     ]
    }
   ],
   "source": [
    "url_unique ='https://www.superga.com'\n",
    "url_base = 'https://www.superga.com/collections/'\n",
    "url_page = 'womens-platform?filter.p.m.custom.seasons=Spring%2FSummer'\n",
    "url = url_base+url_page\n",
    "header = {\"User-Agent\": \"Mozilla/5.0 (Windows NT 10.0; Win64; x64) AppleWebKit/537.36 (KHTML, like Gecko) Chrome/110.0.0.0 Safari/537.36\"}\n",
    "print(url)\n",
    "page = requests.get(url, headers=header)\n",
    "print(page)\n"
   ]
  },
  {
   "cell_type": "code",
   "execution_count": 11,
   "metadata": {},
   "outputs": [
    {
     "name": "stdout",
     "output_type": "stream",
     "text": [
      "2790 PLATFORM<span class=\"colorname-title\">WHITE</span>omen's Platform \" href=\" /products/lady-shoes-woman-2790-platform-white-s9111lw-901?_pos=1&amp;_fid=92de5ca23&amp;_ss=c \">\n",
      "2790 PLATFORM<span class=\"colorname-title\">FULL BLACK</span>omen's Platform \" href=\" /products/lady-shoes-woman-2790-platform-full-black-s9111lw-996?_pos=2&amp;_fid=92de5ca23&amp;_ss=c \">\n",
      "2790 PLATFORM<span class=\"colorname-title\">BLACK-FWHITE</span>en's Platform \" href=\" /products/lady-shoes-woman-2790-platform-black-fwhite-s9111lw-f83?_pos=3&amp;_fid=92de5ca23&amp;_ss=c \">\n",
      "2790 PLATFORM<span class=\"colorname-title\">NAVY-FWHITE</span>men's Platform \" href=\" /products/lady-shoes-woman-2790-platform-navy-fwhite-s9111lw-f43?_pos=4&amp;_fid=92de5ca23&amp;_ss=c \">\n",
      "2790 PLATFORM<span class=\"colorname-title\">BEIGE GESSO</span>men's Platform \" href=\" /products/lady-shoes-woman-2790-platform-beige-gesso-s9111lw-394?_pos=5&amp;_fid=92de5ca23&amp;_ss=c \">\n",
      "2790 PLATFORM<span class=\"colorname-title\">BLUE SPECTRUM-FAVORIO</span>form \" href=\" /products/lady-shoes-woman-2790-platform-blue-spectrum-favorio-s9111lw-ate?_pos=6&amp;_fid=92de5ca23&amp;_ss=c \">\n",
      "2790 PLATFORM<span class=\"colorname-title\">VIOLET PURPLE-FAVORIO</span>form \" href=\" /products/lady-shoes-woman-2790-platform-violet-purple-favorio-s9111lw-at9?_pos=7&amp;_fid=92de5ca23&amp;_ss=c \">\n",
      "2790 PLATFORM<span class=\"colorname-title\">PINK SKIN-F AVORIO</span>latform \" href=\" /products/lady-shoes-woman-2790-platform-pink-skin-f-avorio-s9111lw-afb?_pos=8&amp;_fid=92de5ca23&amp;_ss=c \">\n",
      "2790 PLATFORM<span class=\"colorname-title\">AZURE ICE-FAVORIO</span>Platform \" href=\" /products/lady-shoes-woman-2790-platform-azure-ice-favorio-s9111lw-anh?_pos=9&amp;_fid=92de5ca23&amp;_ss=c \">\n",
      "2740 PLATFORM<span class=\"colorname-title\">WHITE</span>le=\"Women's Platform \" href=\" /products/lady-shoes-woman-2740-platform-white-s21384w-901?_pos=10&amp;_fid=92de5ca23&amp;_ss=c \">\n",
      "2740 PLATFORM<span class=\"colorname-title\">FULL BLACK</span>omen's Platform \" href=\" /products/lady-shoes-woman-2740-platform-full-black-s21384w-996?_pos=11&amp;_fid=92de5ca23&amp;_ss=c \">\n",
      "2740 PLATFORM<span class=\"colorname-title\">NAVY-FAVORIO</span>en's Platform \" href=\" /products/lady-shoes-woman-2740-platform-navy-favorio-s21384w-ao8?_pos=12&amp;_fid=92de5ca23&amp;_ss=c \">\n",
      "2740 PLATFORM<span class=\"colorname-title\">BLACK-F AVORIO</span>'s Platform \" href=\" /products/lady-shoes-woman-2740-platform-black-f-avorio-s21384w-adk?_pos=13&amp;_fid=92de5ca23&amp;_ss=c \">\n",
      "2740 PLATFORM<span class=\"colorname-title\">GRAY DK SAGE</span>en's Platform \" href=\" /products/lady-shoes-woman-2740-platform-gray-dk-sage-s21384w-m38?_pos=14&amp;_fid=92de5ca23&amp;_ss=c \">\n",
      "2740 PLATFORM<span class=\"colorname-title\">BEIGE NATURAL-FAVORIO</span>form \" href=\" /products/lady-shoes-unisex-2740-platform-beige-natural-favorio-s21384w-arr?_pos=15&amp;_fid=92de5ca23&amp;_ss=c \">\n",
      "2740 PLATFORM<span class=\"colorname-title\">BEIGE LT EGGSHELL-F AVORIO</span>\" href=\" /products/lady-shoes-woman-2740-platform-beige-lt-eggshell-f-avorio-s21384w-akj?_pos=16&amp;_fid=92de5ca23&amp;_ss=c \">\n",
      "2740 PLATFORM<span class=\"colorname-title\">PINK FUCHSIA-FAVORIO</span>tform \" href=\" /products/lady-shoes-unisex-2740-platform-pink-fuchsia-favorio-s21384w-at7?_pos=17&amp;_fid=92de5ca23&amp;_ss=c \">\n",
      "2790 PLATFORM LAME<span class=\"colorname-title\">IRIDESCENT</span>s Platform \" href=\" /products/lady-shoes-woman-2790-lame-iridescent-s61174w-a0m?_pos=18&amp;_fid=92de5ca23&amp;_ss=c \">\n",
      "2790 PLATFORM LAME<span class=\"colorname-title\">GREY SILVER</span> Platform \" href=\" /products/lady-shoes-woman-2790-lame-grey-silver-s61174w-031?_pos=19&amp;_fid=92de5ca23&amp;_ss=c \">\n",
      "2790 PLATFORM LAME<span class=\"colorname-title\">ROSE PLATINUM</span>latform \" href=\" /products/lady-shoes-woman-2790-lame-rose-platinum-s61174w-941?_pos=20&amp;_fid=92de5ca23&amp;_ss=c \">\n",
      "2790 PLATFORM LAME<span class=\"colorname-title\">TOTAL BLACK</span> Platform \" href=\" /products/lady-shoes-woman-2790-lame-total-black-s61174w-912?_pos=21&amp;_fid=92de5ca23&amp;_ss=c \">\n",
      "2740 PLATFORM LAME<span class=\"colorname-title\">IRIDESCENT</span>s Platform \" href=\" /products/lady-shoes-woman-2740-platform-lame-iridescent-s6128sw-a0m?_pos=22&amp;_fid=92de5ca23&amp;_ss=c \">\n",
      "2740 PLATFORM LAME<span class=\"colorname-title\">BEIGE LT IRIDESCENT</span>m \" href=\" /products/lady-shoes-woman-2740-platform-lame-beige-lt-iridescent-s6128sw-a1f?_pos=23&amp;_fid=92de5ca23&amp;_ss=c \">\n",
      "2740 PLATFORM LAME<span class=\"colorname-title\">GREY SILVER</span> Platform \" href=\" /products/lady-shoes-woman-2740-platform-lame-grey-silver-s6128sw-031?_pos=24&amp;_fid=92de5ca23&amp;_ss=c \">\n",
      "2790 NAPPA<span class=\"colorname-title\">FULL BLACK</span>=\"Women's Platform \" href=\" /products/lady-shoes-woman-2790-nappa-full-black-s3115bw-a09?_pos=25&amp;_fid=92de5ca23&amp;_ss=c \">\n",
      "2790 NAPPA<span class=\"colorname-title\">BLACK-WHITE</span>\"Women's Platform \" href=\" /products/lady-shoes-woman-2790-nappa-black-white-s3115bw-c39?_pos=26&amp;_fid=92de5ca23&amp;_ss=c \">\n",
      "2790 NAPPA<span class=\"colorname-title\">OPTICAL WHITE-SILVER-FAVORIO</span> \" href=\" /products/lady-shoes-woman-2790-nappa-optical-white-silver-favorio-s3115bw-afl?_pos=27&amp;_fid=92de5ca23&amp;_ss=c \">\n",
      "2790 NAPPA<span class=\"colorname-title\">OPTICAL WHITE</span>omen's Platform \" href=\" /products/lady-shoes-woman-2790-nappa-optical-white-s3115bw-aam?_pos=28&amp;_fid=92de5ca23&amp;_ss=c \">\n",
      "</a>]\n"
     ]
    }
   ],
   "source": [
    "\n",
    "soup = BeautifulSoup(page.text)\n",
    "stivaletti = soup.find_all('a', class_=\"grid-product__link\")\n",
    "\n",
    "print(stivaletti)\n"
   ]
  },
  {
   "cell_type": "code",
   "execution_count": 12,
   "metadata": {},
   "outputs": [
    {
     "ename": "WebDriverException",
     "evalue": "Message: unknown error: net::ERR_NAME_NOT_RESOLVED\n  (Session info: chrome=131.0.6778.109)\nStacktrace:\n\tGetHandleVerifier [0x00303433+25059]\n\t(No symbol) [0x0028CE34]\n\t(No symbol) [0x0016BEC3]\n\t(No symbol) [0x00169CF4]\n\t(No symbol) [0x0015D978]\n\t(No symbol) [0x0015F270]\n\t(No symbol) [0x0015DBC7]\n\t(No symbol) [0x0015D567]\n\t(No symbol) [0x0015D481]\n\t(No symbol) [0x0015B91B]\n\t(No symbol) [0x0015BE6B]\n\t(No symbol) [0x0016E8BE]\n\t(No symbol) [0x001EBF47]\n\t(No symbol) [0x001D1EFC]\n\t(No symbol) [0x001EB51E]\n\t(No symbol) [0x001D1C96]\n\t(No symbol) [0x001A3FAC]\n\t(No symbol) [0x001A4F3D]\n\tGetHandleVerifier [0x005F5593+3113795]\n\tGetHandleVerifier [0x0060A25A+3198986]\n\tGetHandleVerifier [0x00602A32+3168226]\n\tGetHandleVerifier [0x003A32A0+680016]\n\t(No symbol) [0x0029577D]\n\t(No symbol) [0x00292A28]\n\t(No symbol) [0x00292BC5]\n\t(No symbol) [0x00285820]\n\tBaseThreadInitThunk [0x76127BA9+25]\n\tRtlInitializeExceptionChain [0x7714C0CB+107]\n\tRtlClearBits [0x7714C04F+191]\n\t(No symbol) [0x00000000]\n",
     "output_type": "error",
     "traceback": [
      "\u001b[1;31m---------------------------------------------------------------------------\u001b[0m",
      "\u001b[1;31mWebDriverException\u001b[0m                        Traceback (most recent call last)",
      "Cell \u001b[1;32mIn[12], line 8\u001b[0m\n\u001b[0;32m      6\u001b[0m url_stivaletti \u001b[38;5;241m=\u001b[39m stivaletti[\u001b[38;5;241m0\u001b[39m]\u001b[38;5;241m.\u001b[39mget(\u001b[38;5;124m'\u001b[39m\u001b[38;5;124mhref\u001b[39m\u001b[38;5;124m'\u001b[39m)  \u001b[38;5;66;03m# Get the link from stivaletti\u001b[39;00m\n\u001b[0;32m      7\u001b[0m url1 \u001b[38;5;241m=\u001b[39m url_unique \u001b[38;5;241m+\u001b[39m url_stivaletti  \u001b[38;5;66;03m# Construct the full URL\u001b[39;00m\n\u001b[1;32m----> 8\u001b[0m \u001b[43mdriver\u001b[49m\u001b[38;5;241;43m.\u001b[39;49m\u001b[43mget\u001b[49m\u001b[43m(\u001b[49m\u001b[43murl1\u001b[49m\u001b[43m)\u001b[49m\n\u001b[0;32m     10\u001b[0m \u001b[38;5;66;03m# Wait for JavaScript to render the page (Adjust time based on page load)\u001b[39;00m\n\u001b[0;32m     11\u001b[0m time\u001b[38;5;241m.\u001b[39msleep(\u001b[38;5;241m5\u001b[39m)\n",
      "File \u001b[1;32mc:\\Users\\samee\\AppData\\Local\\Programs\\Python\\Python313\\Lib\\site-packages\\selenium\\webdriver\\remote\\webdriver.py:393\u001b[0m, in \u001b[0;36mWebDriver.get\u001b[1;34m(self, url)\u001b[0m\n\u001b[0;32m    391\u001b[0m \u001b[38;5;28;01mdef\u001b[39;00m \u001b[38;5;21mget\u001b[39m(\u001b[38;5;28mself\u001b[39m, url: \u001b[38;5;28mstr\u001b[39m) \u001b[38;5;241m-\u001b[39m\u001b[38;5;241m>\u001b[39m \u001b[38;5;28;01mNone\u001b[39;00m:\n\u001b[0;32m    392\u001b[0m \u001b[38;5;250m    \u001b[39m\u001b[38;5;124;03m\"\"\"Loads a web page in the current browser session.\"\"\"\u001b[39;00m\n\u001b[1;32m--> 393\u001b[0m     \u001b[38;5;28;43mself\u001b[39;49m\u001b[38;5;241;43m.\u001b[39;49m\u001b[43mexecute\u001b[49m\u001b[43m(\u001b[49m\u001b[43mCommand\u001b[49m\u001b[38;5;241;43m.\u001b[39;49m\u001b[43mGET\u001b[49m\u001b[43m,\u001b[49m\u001b[43m \u001b[49m\u001b[43m{\u001b[49m\u001b[38;5;124;43m\"\u001b[39;49m\u001b[38;5;124;43murl\u001b[39;49m\u001b[38;5;124;43m\"\u001b[39;49m\u001b[43m:\u001b[49m\u001b[43m \u001b[49m\u001b[43murl\u001b[49m\u001b[43m}\u001b[49m\u001b[43m)\u001b[49m\n",
      "File \u001b[1;32mc:\\Users\\samee\\AppData\\Local\\Programs\\Python\\Python313\\Lib\\site-packages\\selenium\\webdriver\\remote\\webdriver.py:384\u001b[0m, in \u001b[0;36mWebDriver.execute\u001b[1;34m(self, driver_command, params)\u001b[0m\n\u001b[0;32m    382\u001b[0m response \u001b[38;5;241m=\u001b[39m \u001b[38;5;28mself\u001b[39m\u001b[38;5;241m.\u001b[39mcommand_executor\u001b[38;5;241m.\u001b[39mexecute(driver_command, params)\n\u001b[0;32m    383\u001b[0m \u001b[38;5;28;01mif\u001b[39;00m response:\n\u001b[1;32m--> 384\u001b[0m     \u001b[38;5;28;43mself\u001b[39;49m\u001b[38;5;241;43m.\u001b[39;49m\u001b[43merror_handler\u001b[49m\u001b[38;5;241;43m.\u001b[39;49m\u001b[43mcheck_response\u001b[49m\u001b[43m(\u001b[49m\u001b[43mresponse\u001b[49m\u001b[43m)\u001b[49m\n\u001b[0;32m    385\u001b[0m     response[\u001b[38;5;124m\"\u001b[39m\u001b[38;5;124mvalue\u001b[39m\u001b[38;5;124m\"\u001b[39m] \u001b[38;5;241m=\u001b[39m \u001b[38;5;28mself\u001b[39m\u001b[38;5;241m.\u001b[39m_unwrap_value(response\u001b[38;5;241m.\u001b[39mget(\u001b[38;5;124m\"\u001b[39m\u001b[38;5;124mvalue\u001b[39m\u001b[38;5;124m\"\u001b[39m, \u001b[38;5;28;01mNone\u001b[39;00m))\n\u001b[0;32m    386\u001b[0m     \u001b[38;5;28;01mreturn\u001b[39;00m response\n",
      "File \u001b[1;32mc:\\Users\\samee\\AppData\\Local\\Programs\\Python\\Python313\\Lib\\site-packages\\selenium\\webdriver\\remote\\errorhandler.py:232\u001b[0m, in \u001b[0;36mErrorHandler.check_response\u001b[1;34m(self, response)\u001b[0m\n\u001b[0;32m    230\u001b[0m         alert_text \u001b[38;5;241m=\u001b[39m value[\u001b[38;5;124m\"\u001b[39m\u001b[38;5;124malert\u001b[39m\u001b[38;5;124m\"\u001b[39m]\u001b[38;5;241m.\u001b[39mget(\u001b[38;5;124m\"\u001b[39m\u001b[38;5;124mtext\u001b[39m\u001b[38;5;124m\"\u001b[39m)\n\u001b[0;32m    231\u001b[0m     \u001b[38;5;28;01mraise\u001b[39;00m exception_class(message, screen, stacktrace, alert_text)  \u001b[38;5;66;03m# type: ignore[call-arg]  # mypy is not smart enough here\u001b[39;00m\n\u001b[1;32m--> 232\u001b[0m \u001b[38;5;28;01mraise\u001b[39;00m exception_class(message, screen, stacktrace)\n",
      "\u001b[1;31mWebDriverException\u001b[0m: Message: unknown error: net::ERR_NAME_NOT_RESOLVED\n  (Session info: chrome=131.0.6778.109)\nStacktrace:\n\tGetHandleVerifier [0x00303433+25059]\n\t(No symbol) [0x0028CE34]\n\t(No symbol) [0x0016BEC3]\n\t(No symbol) [0x00169CF4]\n\t(No symbol) [0x0015D978]\n\t(No symbol) [0x0015F270]\n\t(No symbol) [0x0015DBC7]\n\t(No symbol) [0x0015D567]\n\t(No symbol) [0x0015D481]\n\t(No symbol) [0x0015B91B]\n\t(No symbol) [0x0015BE6B]\n\t(No symbol) [0x0016E8BE]\n\t(No symbol) [0x001EBF47]\n\t(No symbol) [0x001D1EFC]\n\t(No symbol) [0x001EB51E]\n\t(No symbol) [0x001D1C96]\n\t(No symbol) [0x001A3FAC]\n\t(No symbol) [0x001A4F3D]\n\tGetHandleVerifier [0x005F5593+3113795]\n\tGetHandleVerifier [0x0060A25A+3198986]\n\tGetHandleVerifier [0x00602A32+3168226]\n\tGetHandleVerifier [0x003A32A0+680016]\n\t(No symbol) [0x0029577D]\n\t(No symbol) [0x00292A28]\n\t(No symbol) [0x00292BC5]\n\t(No symbol) [0x00285820]\n\tBaseThreadInitThunk [0x76127BA9+25]\n\tRtlInitializeExceptionChain [0x7714C0CB+107]\n\tRtlClearBits [0x7714C04F+191]\n\t(No symbol) [0x00000000]\n"
     ]
    }
   ],
   "source": [
    "options = webdriver.ChromeOptions()\n",
    "options.add_argument('--headless')  # Run in headless mode (no UI)\n",
    "driver = webdriver.Chrome(service=Service(ChromeDriverManager().install()), options=options)\n",
    "\n",
    "# Load the page\n",
    "url_stivaletti = stivaletti[0].get('href')  # Get the link from stivaletti\n",
    "url1 = url_unique + url_stivaletti  # Construct the full URL\n",
    "driver.get(url1)\n",
    "\n",
    "# Wait for JavaScript to render the page (Adjust time based on page load)\n",
    "time.sleep(5)\n",
    "\n",
    "# Now that the page is rendered, extract the page source\n",
    "html_content = driver.page_source\n",
    "\n",
    "# Parse the page source with BeautifulSoup\n",
    "soup_stivaletti = BeautifulSoup(html_content, 'html.parser')\n",
    "\n",
    "print(soup_stivaletti)"
   ]
  },
  {
   "cell_type": "code",
   "execution_count": null,
   "metadata": {},
   "outputs": [
    {
     "name": "stdout",
     "output_type": "stream",
     "text": [
      "              name              color size  price\n",
      "0    2790 PLATFORM  AZURE ICE-FAVORIO   35  75.00\n",
      "1    2790 PLATFORM  AZURE ICE-FAVORIO   35  75.00\n",
      "2    2790 PLATFORM  AZURE ICE-FAVORIO   36  75.00\n",
      "3    2790 PLATFORM  AZURE ICE-FAVORIO   37  75.00\n",
      "4    2790 PLATFORM  AZURE ICE-FAVORIO   37  75.00\n",
      "..             ...                ...  ...    ...\n",
      "513  2790 PLATFORM              WHITE   40  75.00\n",
      "514  2790 PLATFORM              WHITE   41  75.00\n",
      "515  2790 PLATFORM              WHITE   41  75.00\n",
      "516  2790 PLATFORM              WHITE   42  75.00\n",
      "517  2790 PLATFORM              WHITE   42  75.00\n",
      "\n",
      "[518 rows x 4 columns]\n"
     ]
    }
   ],
   "source": [
    "\n",
    "rows=[]\n",
    "nomi = []\n",
    "colore = []\n",
    "#prezzo_scontato = []\n",
    "prezzo_originale = []\n",
    "sizes = []\n",
    "\n",
    "name_stivaletti = soup_stivaletti.find('h1',class_='h2 product-single__title')\n",
    "colore_stivaletti = soup_stivaletti.find('span', class_='cb-italic cb-block cb-font-500')\n",
    "#prezzo_scontato_stivaletti = soup_stivaletti.find('span', class_='related__price mr')\n",
    "prezzo_originale_stivaletti = soup_stivaletti.find('span', class_='related__price mr')\n",
    "colors_divs  = soup_stivaletti.find_all('div', class_='related__color-name skeleton-effect')\n",
    "sizes = soup_stivaletti.find('ul', class_='related__select-optgroup-options')\n",
    "\n",
    "nomi = name_stivaletti.text.strip()\n",
    "colore =colore_stivaletti.text.strip()\n",
    "#prezzo_scontato =prezzo_scontato_stivaletti.text.strip()\n",
    "prezzo_originale = prezzo_originale_stivaletti.text.strip()\n",
    "\n",
    "nomi = nomi.replace(colore,\"\")\n",
    "\n",
    "all_colors = []\n",
    "\n",
    "# Iterate through all color divs and extract the text\n",
    "for color_div in colors_divs:\n",
    "    color_name = color_div.text.strip()\n",
    "    if color_name:  # Ensure the color name is not empty\n",
    "        all_colors.append(color_name)\n",
    "\n",
    "all_size = []\n",
    "\n",
    "for size in sizes :\n",
    "    size_val = size.text.strip()\n",
    "    if size :\n",
    "        all_size.append(size_val)\n",
    "\n",
    "# Loop through all colors and sizes to add combinations to the list\n",
    "for color in all_colors:\n",
    "    for size in all_size:\n",
    "        # Add each row as a dictionary\n",
    "        rows.append({\n",
    "            'name': nomi,                 # Product name\n",
    "            'color': color,                  # Color option\n",
    "            'size': size[:2],                    # Size option\n",
    "            #'price_sale': prezzo_scontato,  # Sale price\n",
    "            'price': prezzo_originale[1:]     # Original price\n",
    "        })\n",
    "\n",
    "# Create DataFrame from the list of rows\n",
    "df = pd.DataFrame(rows)\n",
    "\n",
    "# Display the resulting DataFrame\n",
    "print(df)\n"
   ]
  },
  {
   "cell_type": "code",
   "execution_count": null,
   "metadata": {},
   "outputs": [],
   "source": []
  },
  {
   "cell_type": "code",
   "execution_count": null,
   "metadata": {},
   "outputs": [],
   "source": []
  }
 ],
 "metadata": {
  "kernelspec": {
   "display_name": "Python 3",
   "language": "python",
   "name": "python3"
  },
  "language_info": {
   "codemirror_mode": {
    "name": "ipython",
    "version": 3
   },
   "file_extension": ".py",
   "mimetype": "text/x-python",
   "name": "python",
   "nbconvert_exporter": "python",
   "pygments_lexer": "ipython3",
   "version": "3.13.0"
  }
 },
 "nbformat": 4,
 "nbformat_minor": 2
}

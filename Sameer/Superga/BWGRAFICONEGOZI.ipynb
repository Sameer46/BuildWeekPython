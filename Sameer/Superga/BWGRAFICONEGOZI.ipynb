{
 "cells": [
  {
   "cell_type": "code",
   "execution_count": 58,
   "metadata": {},
   "outputs": [
    {
     "name": "stdout",
     "output_type": "stream",
     "text": [
      "States in the DataFrame: ['TO' 'RM' 'MI' 'PA' 'TP' 'SA' 'CN' 'TN' 'CT' 'CE' 'ME' 'SR' nan 'RG' 'FI'\n",
      " 'CH' 'FR' 'CZ' 'AG' 'RO' 'BO' 'LE' 'GE' 'VE' 'BR' 'SV' 'Vicenza']\n",
      "GeoJSON properties: {'name': 'Piemonte', 'cartodb_id': 1, 'created_at': '2013-11-28T03:00:02+0100', 'updated_at': '2013-11-28T03:01:56+0100'}\n",
      "Choropleth map has been saved to 'italy_store_map.html'.\n"
     ]
    }
   ],
   "source": [
    "import folium\n",
    "import pandas as pd\n",
    "import json\n",
    "from folium import Choropleth\n",
    "\n",
    "# Step 2: Load the GeoJSON file for Italian regions\n",
    "with open('italy-regions.geojson', 'r') as f:\n",
    "    italy_geojson = json.load(f)\n",
    "df = pd.read_csv(r'G:\\EPICODE\\GITHUB\\BuildWeekPython\\Sameer\\Superga\\storesuperga.csv')\n",
    "df = pd.DataFrame(df)\n",
    "# Ensure the 'state_count' column is properly aligned with the regions\n",
    "df['state_count'] = df['state'].map(df['state'].value_counts())\n",
    "\n",
    "# Debug: Check that the 'state' values in your dataframe match the GeoJSON region names\n",
    "print(\"States in the DataFrame:\", df['state'].unique())\n",
    "\n",
    "# Inspect the first few features in the GeoJSON\n",
    "print(\"GeoJSON properties:\", italy_geojson['features'][0]['properties'])\n",
    "\n",
    "# Initialize the map centered on Italy\n",
    "m = folium.Map(location=[41.8719, 12.5674], zoom_start=5)\n",
    "\n",
    "# Add the choropleth map\n",
    "Choropleth(\n",
    "    geo_data=italy_geojson,\n",
    "    name='choropleth',\n",
    "    data=df,\n",
    "    columns=['state', 'state_count'],\n",
    "    key_on='feature.properties.name',  # Make sure this matches the correct key in your GeoJSON\n",
    "    fill_color='YlGnBu',  # Color scheme\n",
    "    fill_opacity=0.7,\n",
    "    line_opacity=0.2,\n",
    "    legend_name='Number of Stores'\n",
    ").add_to(m)\n",
    "\n",
    "# Add layer control to toggle the layers\n",
    "folium.LayerControl().add_to(m)\n",
    "\n",
    "# Save the map to an HTML file\n",
    "m.save('italy_store_map.html')\n",
    "\n",
    "print(\"Choropleth map has been saved to 'italy_store_map.html'.\")"
   ]
  },
  {
   "cell_type": "code",
   "execution_count": null,
   "metadata": {},
   "outputs": [],
   "source": []
  },
  {
   "cell_type": "code",
   "execution_count": null,
   "metadata": {},
   "outputs": [],
   "source": []
  }
 ],
 "metadata": {
  "kernelspec": {
   "display_name": "Python 3",
   "language": "python",
   "name": "python3"
  },
  "language_info": {
   "codemirror_mode": {
    "name": "ipython",
    "version": 3
   },
   "file_extension": ".py",
   "mimetype": "text/x-python",
   "name": "python",
   "nbconvert_exporter": "python",
   "pygments_lexer": "ipython3",
   "version": "3.13.0"
  }
 },
 "nbformat": 4,
 "nbformat_minor": 2
}

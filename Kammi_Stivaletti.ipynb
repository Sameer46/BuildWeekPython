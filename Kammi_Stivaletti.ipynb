{
 "cells": [
  {
   "cell_type": "code",
   "execution_count": 1,
   "id": "eefcf1e3-7540-4c71-887c-604c2d5b6a0e",
   "metadata": {},
   "outputs": [],
   "source": [
    "import bs4 \n",
    "import pandas as pd \n",
    "import requests\n",
    "url = \"https://www.kammi.it/scarpe-donna/stivali-stivaletti/\"\n",
    "page = requests.get( url ) \n",
    "soup = bs4.BeautifulSoup( page.text ) \n",
    "NameStiv = soup.find_all(\"p\", class_=\"product-title\")\n",
    "stivname = []\n",
    "for stiv in NameStiv:\n",
    "    stivname.append(stiv.text.strip())"
   ]
  },
  {
   "cell_type": "code",
   "execution_count": 2,
   "id": "92d8499f-7eac-43df-9a23-f26a7f1b42b4",
   "metadata": {},
   "outputs": [],
   "source": [
    "colstiv = soup.find_all(\"p\", class_=\"product-description\")\n",
    "stivcol1 = []\n",
    "for stiv in colstiv:\n",
    "    stivcol1.append(stiv.text.strip())\n",
    "    \n",
    "import re \n",
    "\n",
    "stivcol = []\n",
    "for descrizione in stivcol1:\n",
    "    col = re.search(r'colore (\\w+)', descrizione)\n",
    "    if col:\n",
    "        stivcol.append(col.group(1))\n",
    "\n"
   ]
  },
  {
   "cell_type": "code",
   "execution_count": 3,
   "id": "42810b34-e32c-419b-9dbf-502068d0033e",
   "metadata": {},
   "outputs": [],
   "source": [
    "stivprice = soup.find_all(\"p\", class_=\"product-price\")\n",
    "pstivint = []\n",
    "pstivscont = []\n",
    "\n",
    "for price in stivprice:\n",
    "    pint = price.find(\"s\")\n",
    "    if pint: \n",
    "        pint = pint.text.replace(\",\", \".\")\n",
    "        pint = pint.strip()\n",
    "        pstivint.append(float(pint))\n",
    "    else: \n",
    "        price = price.text.replace(\"€\", \"\")\n",
    "        price = price.replace(\",\", \".\")\n",
    "        price = price.strip()\n",
    "        pstivscont.append(float(price))\n",
    "    "
   ]
  },
  {
   "cell_type": "code",
   "execution_count": 4,
   "id": "f7ac91a8-4413-4803-81da-52518cc77dd7",
   "metadata": {},
   "outputs": [],
   "source": [
    "data = {\"Nome\" : stivname, \"IntPrice\" : pstivint, \"ScontPrice\" : pstivscont,\"Colore\" : stivcol, \"Categoria\" : \"Stivaletti\", \"Gender\" : \"F\"}"
   ]
  },
  {
   "cell_type": "code",
   "execution_count": 5,
   "id": "d2fe1539-97d8-486c-a6cf-4e7ab1dc72f7",
   "metadata": {},
   "outputs": [],
   "source": [
    "KammiStivF = pd.DataFrame ( data )"
   ]
  },
  {
   "cell_type": "code",
   "execution_count": 6,
   "id": "cc47b8ce-ccf5-4958-98dd-aea981a779e3",
   "metadata": {},
   "outputs": [
    {
     "data": {
      "text/html": [
       "<div>\n",
       "<style scoped>\n",
       "    .dataframe tbody tr th:only-of-type {\n",
       "        vertical-align: middle;\n",
       "    }\n",
       "\n",
       "    .dataframe tbody tr th {\n",
       "        vertical-align: top;\n",
       "    }\n",
       "\n",
       "    .dataframe thead th {\n",
       "        text-align: right;\n",
       "    }\n",
       "</style>\n",
       "<table border=\"1\" class=\"dataframe\">\n",
       "  <thead>\n",
       "    <tr style=\"text-align: right;\">\n",
       "      <th></th>\n",
       "      <th>Nome</th>\n",
       "      <th>IntPrice</th>\n",
       "      <th>ScontPrice</th>\n",
       "      <th>Colore</th>\n",
       "      <th>Categoria</th>\n",
       "      <th>Gender</th>\n",
       "    </tr>\n",
       "  </thead>\n",
       "  <tbody>\n",
       "    <tr>\n",
       "      <th>0</th>\n",
       "      <td>Tronchetto 6022</td>\n",
       "      <td>139.0</td>\n",
       "      <td>125.1</td>\n",
       "      <td>nude</td>\n",
       "      <td>Stivaletti</td>\n",
       "      <td>F</td>\n",
       "    </tr>\n",
       "    <tr>\n",
       "      <th>1</th>\n",
       "      <td>Tronchetto 6022</td>\n",
       "      <td>139.0</td>\n",
       "      <td>125.1</td>\n",
       "      <td>latte</td>\n",
       "      <td>Stivaletti</td>\n",
       "      <td>F</td>\n",
       "    </tr>\n",
       "  </tbody>\n",
       "</table>\n",
       "</div>"
      ],
      "text/plain": [
       "              Nome  IntPrice  ScontPrice Colore   Categoria Gender\n",
       "0  Tronchetto 6022     139.0       125.1   nude  Stivaletti      F\n",
       "1  Tronchetto 6022     139.0       125.1  latte  Stivaletti      F"
      ]
     },
     "execution_count": 6,
     "metadata": {},
     "output_type": "execute_result"
    }
   ],
   "source": [
    "KammiStivF"
   ]
  },
  {
   "cell_type": "code",
   "execution_count": 7,
   "id": "493a292a-5900-4c95-abd0-e57f5e6d996f",
   "metadata": {},
   "outputs": [],
   "source": [
    "KammiStivF.to_csv(\"KammiStivF.csv\")"
   ]
  },
  {
   "cell_type": "code",
   "execution_count": null,
   "id": "d7cc3fc4-6f2f-4da4-b08f-3cb771bd0130",
   "metadata": {},
   "outputs": [],
   "source": []
  }
 ],
 "metadata": {
  "kernelspec": {
   "display_name": "Python 3 (ipykernel)",
   "language": "python",
   "name": "python3"
  },
  "language_info": {
   "codemirror_mode": {
    "name": "ipython",
    "version": 3
   },
   "file_extension": ".py",
   "mimetype": "text/x-python",
   "name": "python",
   "nbconvert_exporter": "python",
   "pygments_lexer": "ipython3",
   "version": "3.12.7"
  }
 },
 "nbformat": 4,
 "nbformat_minor": 5
}
